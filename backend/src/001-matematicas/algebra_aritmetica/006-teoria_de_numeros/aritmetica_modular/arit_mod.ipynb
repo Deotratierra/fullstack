{
 "cells": [
  {
   "cell_type": "markdown",
   "metadata": {},
   "source": [
    "## <center>Aritmética modular</center>\n",
    "En matemática, la aritmética modular es un sistema aritmético para clases de equivalencia de números enteros llamadas clases de congruencia. Algunas veces se le llama, sugerentemente, aritmética del reloj, ya que los números «dan la vuelta» tras alcanzar cierto valor llamado módulo.\n",
    "\n",
    "\n",
    "> En Python se puede usar la biblioteca [`mod`](https://pypi.python.org/pypi/mod) para realizar operaciones con módulos sin restos."
   ]
  },
  {
   "cell_type": "code",
   "execution_count": 2,
   "metadata": {},
   "outputs": [],
   "source": [
    "from mod import Mod  # pip3 install mod"
   ]
  },
  {
   "cell_type": "markdown",
   "metadata": {},
   "source": [
    "### Ejemplos simples\n",
    "Si el día 23 de Marzo es Viernes... ¿qué día de la semana es el 23 de Abril?\n",
    "\n",
    "$$a \\equiv 5 \\pmod{7}$$\n",
    "$$x \\equiv 5 + 31 \\pmod{7}$$"
   ]
  },
  {
   "cell_type": "code",
   "execution_count": 3,
   "metadata": {},
   "outputs": [
    {
     "name": "stdout",
     "output_type": "stream",
     "text": [
      "(1 % 7)\n"
     ]
    }
   ],
   "source": [
    "viernes_marzo = Mod(5, 7)\n",
    "print(viernes_marzo + 31)    # 1      --> Lunes"
   ]
  },
  {
   "cell_type": "markdown",
   "metadata": {},
   "source": [
    "Si son las 6 de la tarde, ¿que hora será dentro de 16 horas?"
   ]
  },
  {
   "cell_type": "code",
   "execution_count": 4,
   "metadata": {},
   "outputs": [
    {
     "name": "stdout",
     "output_type": "stream",
     "text": [
      "(10 % 24)\n"
     ]
    }
   ],
   "source": [
    "hora = Mod(18, 24)\n",
    "print(hora + 16)  # 10"
   ]
  }
 ],
 "metadata": {
  "kernelspec": {
   "display_name": "Python 3",
   "language": "python",
   "name": "python3"
  },
  "language_info": {
   "codemirror_mode": {
    "name": "ipython",
    "version": 3
   },
   "file_extension": ".py",
   "mimetype": "text/x-python",
   "name": "python",
   "nbconvert_exporter": "python",
   "pygments_lexer": "ipython3",
   "version": "3.5.3"
  }
 },
 "nbformat": 4,
 "nbformat_minor": 2
}
