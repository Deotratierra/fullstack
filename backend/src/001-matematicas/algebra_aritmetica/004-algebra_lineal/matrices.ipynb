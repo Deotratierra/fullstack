{
 "cells": [
  {
   "cell_type": "markdown",
   "metadata": {},
   "source": [
    "# <center> Álgebra lineal - Matrices </center>\n"
   ]
  },
  {
   "cell_type": "code",
   "execution_count": 1,
   "metadata": {},
   "outputs": [],
   "source": [
    "import numpy as np"
   ]
  },
  {
   "cell_type": "markdown",
   "metadata": {},
   "source": [
    "El algebra líneal provee una manera de representar conjuntos de ecuaciones lineales y operar compactamente sobre ellas. Por ejemplo, considera los siguientes sistemas de ecuaciones:\n",
    "\n",
    "<center>$\\begin{array}{rcl}\n",
    "      4x_1 - 5x_2 & = & -13 \\\\\n",
    "     -2x_1 + 3x_2 & = & 9\n",
    "   \\end{array}$</center>\n",
    "\n",
    "En notación de matrices, podemos escribir el sistema de forma más compacta como\n",
    "<center>$Ax = b$</center>\n",
    "con\n",
    "<center>$A = \\begin{bmatrix}4 & -5\\\\-2 & 3\\end{bmatrix}, b = \\begin{bmatrix} -13 \\\\ 9 \\end{bmatrix}$</center>"
   ]
  },
  {
   "cell_type": "code",
   "execution_count": 2,
   "metadata": {
    "scrolled": true
   },
   "outputs": [],
   "source": [
    "A = np.array([[4, -5], [-2, 3]])\n",
    "B = np.array([-13, 9])\n",
    "\n",
    "# O también\n",
    "A = np.matrix([[4, -5], [-2, 3]])\n",
    "B = np.matrix([-13, 9])\n",
    "\n",
    "# Es mejor usar la función np.array() ya que la mayoría de funciones de numpy\n",
    "# usan arrays. Existen ciertas ventajas utilizando np.matrix(), pero mínimas."
   ]
  },
  {
   "cell_type": "markdown",
   "metadata": {},
   "source": [
    "_____________________________\n",
    "\n",
    "## Representación de matrices\n",
    "Matriz con $m$ filas y $n$ columnas: $\\mbox{A} \\in \\mathbb{R}^{m\\times n}$. Literalmente significaría \"A es un conjunto de números con $m$ filas y $n$ columnas perteneciente a ($\\in$) los números reales ($\\mathbb{R}$)\".\n",
    "\n",
    "Se usa la notación $a_{ij}$ (o $A_{ij}$) para representar las entradas de $A$ en la fila $i$ y la columna $j$: \n",
    "<center>$ A = \\begin{bmatrix} a_{11} & a_{12} & \\cdots & a_{1n} \\\\ a_{21} & a_{22} & \\cdots & a_{2n} \\\\ \\vdots & \\vdots & \\ddots & \\vdots \\\\ a_{m1} & a_{m2} & \\cdots & a_{mn} \\end{bmatrix} $</center>"
   ]
  },
  {
   "cell_type": "markdown",
   "metadata": {},
   "source": [
    "\n",
    "## Tipos de matrices\n",
    "\n",
    "### Vectores fila y columna\n",
    "Matriz con una columna y $n$ entradas: $x \\in \\mathbb{R}^n$. Por covención un vector con una dimensión $n$ is a menudo pensado como una matriz con $n$ filas y 1 columna, conocida como **vector columna**. Para representar un **vector fila** (una matrix con 1 fila y $n$ columnas) se suele escribir $x^T$.\n",
    "\n",
    "El elemento $i$ de un vector es denotado como $x_i$: \n",
    "<center>$ x = \\begin{bmatrix} x_1 \\\\ x_2 \\\\ \\vdots \\\\ x_n \\end{bmatrix}$</center>\n",
    "\n",
    "### Matrices transpuestas\n",
    "Sea $\\pmb{A}$ una matriz con $m$ filas y $n$ columnas, en su matriz transpuesta, denotada con $\\pmb{A^T}$, el elemento $a_{ij}$ de la matriz original $\\pmb{A}$ se convierte en el elmento $a_{ji}$, tal como muestra la siguiente animación:\n",
    "![matriz transpuesta](assets/images/matriz_transpuesta.gif)"
   ]
  },
  {
   "cell_type": "code",
   "execution_count": 3,
   "metadata": {},
   "outputs": [
    {
     "name": "stdout",
     "output_type": "stream",
     "text": [
      "[[1 3 5]\n",
      " [2 4 6]]\n"
     ]
    },
    {
     "data": {
      "text/plain": [
       "array([[1, 3, 5],\n",
       "       [2, 4, 6]])"
      ]
     },
     "execution_count": 3,
     "metadata": {},
     "output_type": "execute_result"
    }
   ],
   "source": [
    "A = np.array([\n",
    "    [1, 2], \n",
    "    [3, 4], \n",
    "    [5, 6]\n",
    "])\n",
    "\n",
    "# Para transponer matrices usamos np.transpose()\n",
    "print( np.transpose(A) )\n",
    "\n",
    "# También podemos usar el atributo T si la matriz tiene más de 1 dimensión\n",
    "A.T"
   ]
  },
  {
   "cell_type": "markdown",
   "metadata": {},
   "source": [
    "### Matrices diagonales\n",
    "Una matriz es diagonal si todos los elementos fuera de la diagonal son nulos, es decir:\n",
    "\n",
    "$$D = \\begin{bmatrix} \n",
    "d_{11} & 0 & \\cdots & 0 \\\\ \n",
    "0 & d_{22} & \\ddots & \\vdots \\\\ \n",
    "\\vdots & \\ddots & \\ddots & 0 \\\\\n",
    "0 & \\cdots & 0 & d_{nm} \\end{bmatrix}\n",
    "$$"
   ]
  },
  {
   "cell_type": "code",
   "execution_count": 4,
   "metadata": {},
   "outputs": [
    {
     "name": "stdout",
     "output_type": "stream",
     "text": [
      "[[1 2 3]\n",
      " [4 5 6]\n",
      " [7 8 9]]\n"
     ]
    },
    {
     "data": {
      "text/plain": [
       "array([1, 5, 9])"
      ]
     },
     "execution_count": 4,
     "metadata": {},
     "output_type": "execute_result"
    }
   ],
   "source": [
    "# Dada una matriz M:\n",
    "M = np.arange(1, 10).reshape((3, 3))\n",
    "print(M)\n",
    "\n",
    "# Podemos tomar su línea diagonal en un nuevo vector con np.diag()\n",
    "D = np.diag(M)\n",
    "D"
   ]
  },
  {
   "cell_type": "markdown",
   "metadata": {},
   "source": [
    "#### Matrices identidad\n",
    "La matriz $I_n = (d_{ij})_{n \\times n}$, con $d_{ij} = \\left \\{ \\begin{matrix} 1 & \\mbox{si} & i = j \\\\ 0 & \\mbox{si} & i \\ne j \\end{matrix}\\right.$, es decir,\n",
    "\n",
    "$$D = \\begin{bmatrix} \n",
    "1 & 0 & \\cdots & 0 \\\\ \n",
    "0 & 1 & \\ddots & \\vdots \\\\ \n",
    "\\vdots & \\ddots & \\ddots & 0 \\\\\n",
    "0 & \\cdots & 0 & 1 \\end{bmatrix}\n",
    "$$\n",
    "\n",
    "se llama matriz identidad de orden $n$ (mismo número de $n$ filas y columnas)."
   ]
  },
  {
   "cell_type": "code",
   "execution_count": 5,
   "metadata": {},
   "outputs": [
    {
     "data": {
      "text/plain": [
       "array([[ 1.,  0.,  0.],\n",
       "       [ 0.,  1.,  0.],\n",
       "       [ 0.,  0.,  1.]])"
      ]
     },
     "execution_count": 5,
     "metadata": {},
     "output_type": "execute_result"
    }
   ],
   "source": [
    "# Para crear una matriz identidad usamos np.identity()\n",
    "np.identity(3)"
   ]
  },
  {
   "cell_type": "markdown",
   "metadata": {},
   "source": [
    "#### Matrices triangulares\n",
    "Una matriz $T = (t_{ij})_{n \\times n}$ se llama matriz triangular inferior/superior si todos los elementos arriba/abajo (respectivamente) de la diagonal son 0:\n",
    "\n",
    "<center>$\n",
    "Ti = \\begin{bmatrix} \n",
    "t_{11} & 0 & \\cdots & 0 \\\\ \n",
    "t_{21} & t_{22} & \\ddots & \\vdots \\\\ \n",
    "\\vdots & \\vdots & \\ddots & 0 \\\\\n",
    "t_{n1} & t_{n2} & \\cdots & t_{nn} \\end{bmatrix}\n",
    "\\qquad\n",
    "Ts = \\begin{bmatrix} \n",
    "t_{11} & t_{12} & \\cdots & t_{1n} \\\\ \n",
    "0 & t_{22} & \\cdots & t_{2n} \\\\ \n",
    "\\vdots & \\ddots & \\ddots & \\vdots \\\\\n",
    "0 & \\cdots & 0 & t_{nn} \\end{bmatrix}\n",
    "$</center>"
   ]
  },
  {
   "cell_type": "code",
   "execution_count": 6,
   "metadata": {},
   "outputs": [
    {
     "name": "stdout",
     "output_type": "stream",
     "text": [
      "[[1 2 3]\n",
      " [4 5 6]\n",
      " [7 8 9]] \n",
      "\n",
      "[[1 0 0]\n",
      " [4 5 0]\n",
      " [7 8 9]] \n",
      "\n",
      "[[1 2 3]\n",
      " [0 5 6]\n",
      " [0 0 9]]\n"
     ]
    }
   ],
   "source": [
    "# Dada una matrix M:\n",
    "print(M, \"\\n\")\n",
    "\n",
    "# Sacamos su triangular inferior con np.tril()\n",
    "Ti = np.tril(M)  # tri (triangular) l (lower)\n",
    "print(Ti, \"\\n\")\n",
    "\n",
    "# Sacamos su triangular superior con np.triu()\n",
    "Ts = np.triu(M)  # tri (triangular) u (upper)\n",
    "print(Ts)"
   ]
  },
  {
   "cell_type": "markdown",
   "metadata": {},
   "source": [
    "#### Matrices simétricas\n",
    "Una matriz $S = (S_{ij})_{n \\times n}$ si ${s_{ij} = s_{ji}} \\forall ij$.  Si la entrada en la fila $i$, columna $j$ es igual a la entrada en la fila $j$, columna $i$, con igual número de filas y columnas. \n",
    "\n",
    "Dicho de otra forma, una matriz es simétrica si su transposición es igual a la matriz original:"
   ]
  },
  {
   "cell_type": "code",
   "execution_count": 7,
   "metadata": {},
   "outputs": [
    {
     "name": "stdout",
     "output_type": "stream",
     "text": [
      "False\n"
     ]
    },
    {
     "data": {
      "text/plain": [
       "True"
      ]
     },
     "execution_count": 7,
     "metadata": {},
     "output_type": "execute_result"
    }
   ],
   "source": [
    "# Para comprobar si una matriz es simétrica, comprobamos si todos\n",
    "# los elementos coinciden con su transpuesta con la funcion np.allclose()\n",
    "# Permite rangos de tolerancia (absolute tolerance - atol)\n",
    "print( np.allclose(M, M.T, atol=1e-08) )\n",
    "\n",
    "S = np.array([\n",
    "    [1, 2, 1],\n",
    "    [2, 3, 2],\n",
    "    [1, 2, 1]\n",
    "])\n",
    "np.allclose(S, S.T)"
   ]
  },
  {
   "cell_type": "markdown",
   "metadata": {},
   "source": [
    "__________________________________\n",
    "\n",
    "## Operaciones con matrices\n",
    "\n",
    "### Suma de matrices"
   ]
  },
  {
   "cell_type": "code",
   "execution_count": 8,
   "metadata": {},
   "outputs": [
    {
     "name": "stdout",
     "output_type": "stream",
     "text": [
      "True\n",
      "True\n"
     ]
    }
   ],
   "source": [
    "# Definimos 3 matrices\n",
    "A = np.arange(1, 5).reshape((2, 2))\n",
    "B = np.random.randint(2, 5, 4).reshape((2, 2)) # Matriz de 4 números aleatorios del 2 al 5\n",
    "C = np.ones(4).reshape((2, 2))\n",
    "\n",
    "# Es asociativa:\n",
    "print(np.allclose( (A+B)+C, A+(B+C) ))  # True\n",
    "\n",
    "# Es conmutativa:\n",
    "print(np.allclose( A+B, B+A ))  # True"
   ]
  },
  {
   "cell_type": "markdown",
   "metadata": {},
   "source": [
    "### Multiplicación de matrices\n",
    "\n",
    "![Multiplicar matrices](https://s20.postimg.org/5kjtjkw65/matrix_mul.gif)"
   ]
  },
  {
   "cell_type": "code",
   "execution_count": 9,
   "metadata": {},
   "outputs": [
    {
     "data": {
      "image/jpeg": "[encoded data removed]",
      "text/html": [
       "\n",
       "        <iframe\n",
       "            width=\"768\"\n",
       "            height=\"420\"\n",
       "            src=\"https://www.youtube.com/embed/bFeM4ICRt0M\"\n",
       "            frameborder=\"0\"\n",
       "            allowfullscreen\n",
       "        ></iframe>\n",
       "        "
      ],
      "text/plain": [
       "<IPython.lib.display.YouTubeVideo at 0x7f7dd80d7940>"
      ]
     },
     "execution_count": 9,
     "metadata": {},
     "output_type": "execute_result"
    }
   ],
   "source": [
    "from IPython.display import YouTubeVideo\n",
    "YouTubeVideo(\"bFeM4ICRt0M\", width=768, height=420)"
   ]
  },
  {
   "cell_type": "code",
   "execution_count": 10,
   "metadata": {},
   "outputs": [
    {
     "data": {
      "text/plain": [
       "array([[19, 22],\n",
       "       [43, 50]])"
      ]
     },
     "execution_count": 10,
     "metadata": {},
     "output_type": "execute_result"
    }
   ],
   "source": [
    "A = np.array([[1, 2], [3, 4]]) \n",
    "B = np.array([[5, 6], [7, 8]])\n",
    "\n",
    "# Para multiplicar matrices con las mismas dimensiones usamos np.dot()\n",
    "np.dot(A, B)"
   ]
  },
  {
   "cell_type": "markdown",
   "metadata": {},
   "source": [
    "Las matrices no cumplen la propiedad de la conmutatividad:"
   ]
  },
  {
   "cell_type": "code",
   "execution_count": 11,
   "metadata": {},
   "outputs": [
    {
     "data": {
      "text/plain": [
       "array([[23, 34],\n",
       "       [31, 46]])"
      ]
     },
     "execution_count": 11,
     "metadata": {},
     "output_type": "execute_result"
    }
   ],
   "source": [
    "np.dot(B, A)"
   ]
  },
  {
   "cell_type": "markdown",
   "metadata": {},
   "source": [
    "__________________________________________\n",
    "\n",
    "## Utilidades con matrices en numpy"
   ]
  },
  {
   "cell_type": "code",
   "execution_count": 17,
   "metadata": {},
   "outputs": [
    {
     "data": {
      "text/plain": [
       "array([[0, 1, 0, 0, 0],\n",
       "       [0, 1, 0, 1, 0],\n",
       "       [0, 0, 0, 1, 1],\n",
       "       [1, 0, 1, 0, 1],\n",
       "       [1, 1, 0, 1, 0]])"
      ]
     },
     "execution_count": 17,
     "metadata": {},
     "output_type": "execute_result"
    }
   ],
   "source": [
    "# Crear una matriz vacía\n",
    "np.empty((2, 3)) # (provee valores aleatorios residuales de la memoria)\n",
    "\n",
    "# Crear una matriz de 0s\n",
    "np.zeros((3, 4)) # 3 filas, 4 columnas\n",
    "\n",
    "# Crear una matriz de 1s\n",
    "np.ones((2, 2))\n",
    "\n",
    "# Crear matriz de unos y ceros\n",
    "np.random.randint(0, 2, (5, 5))  # start, lenght, (tamaño en x, y)"
   ]
  },
  {
   "cell_type": "markdown",
   "metadata": {},
   "source": [
    "### Representar matrices gráficamente"
   ]
  },
  {
   "cell_type": "code",
   "execution_count": 21,
   "metadata": {},
   "outputs": [
    {
     "data": {
      "image/png": "[encoded data removed]",
      "text/plain": [
       "<matplotlib.figure.Figure at 0x7f7dc00a75c0>"
      ]
     },
     "metadata": {},
     "output_type": "display_data"
    }
   ],
   "source": [
    "import matplotlib.pyplot as plt\n",
    "\n",
    "m1 = np.random.randint(0, 2, (5, 5))\n",
    "\n",
    "plt.matshow(m1)\n",
    "plt.show()"
   ]
  },
  {
   "cell_type": "markdown",
   "metadata": {},
   "source": [
    ">Fuentes:\n",
    "- http://www.cs.cmu.edu/~zkolter/course/linalg/linalg_notes.pdf\n",
    "- https://www.tutorialspoint.com/numpy/numpy_linear_algebra.htm\n",
    "- https://www.youtube.com/watch?v=kjBOesZCoqc"
   ]
  }
 ],
 "metadata": {
  "kernelspec": {
   "display_name": "Python 3",
   "language": "python",
   "name": "python3"
  },
  "language_info": {
   "codemirror_mode": {
    "name": "ipython",
    "version": 3
   },
   "file_extension": ".py",
   "mimetype": "text/x-python",
   "name": "python",
   "nbconvert_exporter": "python",
   "pygments_lexer": "ipython3",
   "version": "3.5.3"
  }
 },
 "nbformat": 4,
 "nbformat_minor": 2
}
