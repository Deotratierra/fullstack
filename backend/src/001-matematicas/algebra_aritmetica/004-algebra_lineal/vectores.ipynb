{
 "cells": [
  {
   "cell_type": "markdown",
   "metadata": {},
   "source": [
    "# <center> Vectores</center>\n",
    "\n",
    "Dependiendo del campo de la ciencia donde nos encontremos puede ser una lista de números o una magnitus física definida en un sistema de referencia. En programación un vector es lo que se conoce como *array* ya que la traducción directa de la palabra `array` del inglés es vector. Se corresponde a una matriz de una dimensión.\n",
    "\n",
    "<center>**La notación matemática de los vectores corresponde a $\\vec{v}$.**</center>\n",
    "\n",
    "Muchas nociones físicas, tales como las fuerzas, velocidades y aceleraciones, involucran una magnitud (el valor de la fuerza, velocidad o aceleración) y una dirección. Cualquier entidad que involucre magnitud y dirección se llama vector. Los vectores se representan por flechas en las que la longitud de ellas define la magnitud; y la dirección de la flecha representa la dirección del vector. Podemos pensar en los vectores como una serie de números. Éstos números tienen una orden preestablecido, y podemos identificar cada número individual por su índice en ese orden. Los vectores identifican puntos en el espacio, en donde cada elemento representa una coordenada del eje en el espacio."
   ]
  },
  {
   "cell_type": "code",
   "execution_count": 7,
   "metadata": {},
   "outputs": [],
   "source": [
    "import numpy as np\n",
    "import matplotlib.pyplot as plt"
   ]
  },
  {
   "cell_type": "code",
   "execution_count": 34,
   "metadata": {},
   "outputs": [
    {
     "data": {
      "image/png": "[encoded data removed]",
      "text/plain": [
       "<matplotlib.figure.Figure at 0x7f7f5c81e240>"
      ]
     },
     "metadata": {},
     "output_type": "display_data"
    }
   ],
   "source": [
    "# Vector a mano\n",
    "np.array([1, 5, 9, 13, 12])\n",
    "\n",
    "# Vector de rango\n",
    "np.arange(1, 5)     # array([1, 2, 3, 4])\n",
    "np.arange(1, 5, .5) # array([ 1. ,  1.5,  2. ,  2.5,  3. ,  3.5,  4. ,  4.5])\n",
    "\n",
    "# Vector de un espacio lineal\n",
    "np.linspace(1, 5)         # Por defecto tiene 50 números\n",
    "np.linspace(1, 2, num=4)  # array([ 1.        ,  1.33333333,  1.66666667,  2.        ])\n",
    "\n",
    "# =======================================================\n",
    "\n",
    "# Representación gráfica\n",
    "fig, ax = plt.subplots(figsize=(12, 6))\n",
    "\n",
    "# Con arrays numpy\n",
    "x = np.arange(0, 3)\n",
    "y = np.linspace(0, 2, num=3)\n",
    "ax.plot(x, y)\n",
    "\n",
    "# Mediante coordenadas y flechas\n",
    "ax.arrow(1, 0, .5, 1.25,   # (x, y, largo_x, largo_y)\n",
    "         head_width=0.05,  # Ancho de la cabeza de la flecha\n",
    "         head_length=0.1,  # Largo de la cabeza de la flecha\n",
    "         fc=\"k\", ec=\"k\")   # Colores\n",
    "\n",
    "\n",
    "plt.xlim(0, 3)\n",
    "plt.show()"
   ]
  },
  {
   "cell_type": "markdown",
   "metadata": {},
   "source": [
    "## Operaciones sobre vectores\n",
    "Existen algunas equivalencias que nos pueden aportar un entendimiento intuitivo de qué son los vectores y cómo podemos utilizarlos.\n",
    "\n",
    "\n",
    "\n",
    "### Suma de vectores\n",
    "La suma de dos vectores equivale a otro vector cuyos valores son la suma de cada uno de sus elementos, tal que:\n",
    "\n",
    "$$\\vec{v_1} = \\begin{bmatrix}1 \\\\ 2 \\end{bmatrix} \\quad \\vec{v_2} = \\begin{bmatrix} 3 \\\\ -1 \\end{bmatrix} \\qquad \\vec{v_1} + \\vec{v_2} =  \\begin{bmatrix}1 + 3 \\\\ 2 + (-1) \\end{bmatrix} =  \\begin{bmatrix}4 \\\\ 1\\end{bmatrix}$$"
   ]
  },
  {
   "cell_type": "code",
   "execution_count": 25,
   "metadata": {},
   "outputs": [
    {
     "data": {
      "text/plain": [
       "array([4, 1])"
      ]
     },
     "execution_count": 25,
     "metadata": {},
     "output_type": "execute_result"
    }
   ],
   "source": [
    "v1 = np.array([1, 2])\n",
    "v2 = np.array([3, -1])\n",
    "v1 + v2"
   ]
  },
  {
   "cell_type": "markdown",
   "metadata": {},
   "source": [
    "La suma de dos vectores significa geométricamente poner un vector detrás de otro tal y como se puede observar en la siguiente animación:\n",
    "\n",
    "![Suma de vectores](https://s20.postimg.org/lr7qguwul/vector_sum.gif)"
   ]
  },
  {
   "cell_type": "markdown",
   "metadata": {},
   "source": [
    "### Multiplicación por escalares \n",
    "\n",
    "Dado el vector $\\vec{v_1} = \\begin{bmatrix}3 \\\\ 1\\end{bmatrix}$, si lo multiplicamos por un número, por ejemplo $2$, el resultado será un vector con las mismas dimensiones con sus elementos multiplicados por dicho número tal que:\n",
    "\n",
    "$$\\vec{v_1} = \\begin{bmatrix}3 \\\\ 1\\end{bmatrix} \\qquad \\vec{v_1} \\cdot 2 = \\begin{bmatrix}3\\cdot2 \\\\ 1\\cdot2\\end{bmatrix} = \\begin{bmatrix}6 \\\\ 2\\end{bmatrix}$$\n",
    "\n",
    "Geométricamente corresponde a escalar el vector:\n",
    "\n",
    "![Escalar vector](https://s20.postimg.org/aioyfhtot/vector_esc.gif)\n",
    "\n",
    "Por eso cuando se operan con números junto a vectores, los números se llaman escalares ya que escalan el vector.\n",
    "\n",
    "\n",
    "### Productos vector-vector\n",
    "Dados dos vectores $x, y \\in \\mathbb{R}^n$ (de las mismas dimensiones), la cantidad $x^T y$, a veces llamado el **producto interior** de los vectores, es un número real dado por:\n",
    "$$x^T y \\in \\mathbb{R} = \\begin{bmatrix} x_1 & x_2 & \\ldots & x_n \\end{bmatrix} \\begin{bmatrix} y_1 \\\\ y_2 \\\\ \\vdots \\\\ y_n \\end{bmatrix} = \\sum^n_{i=1} x_i y_i$$\n",
    "\n",
    "Siempre que un vector fila y un vector columna tengan el mismo número de componentes, pueden ser multiplicados de la siguiente forma. Con esta operación, una ecuación $2x_1 + 3x_2 - 5x_4 = 10$, puede ser escrita de la forma:\n",
    "\n",
    "$$\\begin{bmatrix}2 & 3 & 0 & -5\\end{bmatrix} \\begin{bmatrix}x_1 \\\\ x_2 \\\\ x_3 \\\\ x_4 \\end{bmatrix} = 10$$\n",
    "\n",
    ">En este caso, se cumple siempre: $x^T y = y^T x$\n",
    "\n",
    "Así, un sistema de ecuaciones $n \\times m$:\n",
    "\n",
    "$$d_{ij} = \\left \\{ \\begin{matrix} a_{11}x_1 & + & a_{12}x_2 & + & \\ldots & + & a_{1m}x_m & = & b_1 \\\\ a_{21}x_1 & + & a_{22}x_2 & + & \\ldots & + & a_{2m}x_m & = & b_2 \\\\ \\vdots &&&&&& \\vdots && \\vdots \\\\ a_{n1}x_1 & + & a_{n2}x_2 & + & \\ldots & + & a_{nm}x_m & = & b_n\\end{matrix}\\right.$$\n",
    "\n",
    "se puede expresar como:\n",
    "\n",
    "$$\\begin{bmatrix} a_{11} & a_{12} & \\cdots & a_{1m} \\\\ a_{21} & a_{22} & \\cdots & a_{2m} \\\\ \\vdots & \\vdots && \\vdots \\\\ a_{n1} & a_{n2} & \\cdots & a_{nm} \\end{bmatrix} \\begin{bmatrix} x_1 \\\\ x_2 \\\\ \\vdots \\\\ x_n \\end{bmatrix} = \\begin{bmatrix} b_1 \\\\ b_2 \\\\ \\vdots \\\\ b_m \\end{bmatrix} $$\n",
    "\n",
    "lo que se simplifica escribiendo simplemente $Ax = b$, donde $A = (a_{ij})$ es la matriz de coeficientes del sistema, $x$ es el vector de incógnitas del sistema y $b$ el vector de constantes en las ecuaciones a la derecha del sistema. En esta forma de representación, cada ecuación del sistema es el producto del vector fila de la matriz $A$ multiplicado por el vector columna $x$ igual al componente $i$ del vector $b$.\n"
   ]
  },
  {
   "cell_type": "code",
   "execution_count": 35,
   "metadata": {},
   "outputs": [
    {
     "data": {
      "text/plain": [
       "True"
      ]
     },
     "execution_count": 35,
     "metadata": {},
     "output_type": "execute_result"
    }
   ],
   "source": [
    "x = np.array([1, 2, 3, 4])\n",
    "y = np.array([2, 3, 4, 5])\n",
    "\n",
    "np.dot(x, y)  # 40\n",
    "\n",
    "# Demostración por sumatorio\n",
    "total = 0\n",
    "for xi, yi in zip(x, y):\n",
    "    total += xi*yi    # 2 + 6 + 12 + 20 = 40\n",
    "\n",
    "np.dot(x, y) == total # True\n",
    "\n",
    "# Desmostración de la igualdad de transposiciones:\n",
    "np.dot(np.transpose(x), y) == np.dot(x, np.transpose(y)) # True"
   ]
  },
  {
   "cell_type": "markdown",
   "metadata": {},
   "source": [
    "Dados dos vectores $x \\in \\mathbb{R}^m, y \\in \\mathbb{R}^n$ (no necesariamente del mismo tamaño), se denomina a $xy^T \\in \\mathbb{R}^{m \\times n}$ el **producto exterior** de los vectores. \n",
    "$$xy^T \\in \\mathbb{R}^{m \\times n} = \\begin{bmatrix} x_1 \\\\ x_2 \\\\ \\vdots \\\\ x_m \\end{bmatrix} \\begin{bmatrix} y_1 & y_2 & \\cdots & y_n \\end{bmatrix} = \\begin{bmatrix} x_1 y_1 & x_1 y_2 & \\cdots & x_1 y_n \\\\ x_2 y_1 & x_2 y_2 & \\cdots & x_2 y_n \\\\ \\vdots & \\vdots & \\ddots & \\vdots \\\\ x_m y_1 & x_m y_2 & \\cdots & x_m y_m \\end{bmatrix}$$"
   ]
  },
  {
   "cell_type": "code",
   "execution_count": 37,
   "metadata": {},
   "outputs": [
    {
     "data": {
      "text/plain": [
       "array([[1, 2],\n",
       "       [2, 4],\n",
       "       [3, 6]])"
      ]
     },
     "execution_count": 37,
     "metadata": {},
     "output_type": "execute_result"
    }
   ],
   "source": [
    "x = np.array([1, 2])\n",
    "y = np.array([\n",
    "    [1], \n",
    "    [2], \n",
    "    [3]\n",
    "])\n",
    "\n",
    "# Equivalencia con la notación arriba:\n",
    "m = len(x)\n",
    "n = len(y)\n",
    "\n",
    "# Con np.dot() no nos deja\n",
    "#np.dot(x, y) # ValueError: shapes (2,) and (3,1) not aligned: 2 (dim 0) != 3 (dim 0)\n",
    "\n",
    "# En este caso usamos np.multiply()\n",
    "producto_exterior = np.multiply(x, y)\n",
    "producto_exterior"
   ]
  },
  {
   "cell_type": "markdown",
   "metadata": {},
   "source": [
    "> Fuentes:\n",
    "- https://www.youtube.com/watch?v=fNk_zzaMoSs\n",
    "- http://www.cs.cmu.edu/~zkolter/course/linalg/linalg_notes.pdf\n",
    "- https://relopezbriega.github.io/blog/2016/02/10/mas-algebra-lineal-con-python/"
   ]
  },
  {
   "cell_type": "code",
   "execution_count": null,
   "metadata": {},
   "outputs": [],
   "source": []
  }
 ],
 "metadata": {
  "kernelspec": {
   "display_name": "Python 3",
   "language": "python",
   "name": "python3"
  },
  "language_info": {
   "codemirror_mode": {
    "name": "ipython",
    "version": 3
   },
   "file_extension": ".py",
   "mimetype": "text/x-python",
   "name": "python",
   "nbconvert_exporter": "python",
   "pygments_lexer": "ipython3",
   "version": "3.7.0a4"
  }
 },
 "nbformat": 4,
 "nbformat_minor": 2
}
