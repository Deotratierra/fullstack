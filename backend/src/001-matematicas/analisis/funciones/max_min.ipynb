{
 "cells": [
  {
   "cell_type": "markdown",
   "metadata": {},
   "source": [
    "# <center>Extremos de una función</center>\n",
    "\n",
    "> Conocimientos necesarios:\n",
    "- [Derivadas](https://github.com/mondeja/fullstack/blob/master/backend/src/001-matematicas/analisis/funciones/derivadas.ipynb)\n",
    "\n",
    "Los **máximos** y **mínimos** de una función, conocidos colectivamente como extremos de una función, son los valores más grandes (máximos) o más pequeños (mínimos), que toma una función en un punto situado ya sea dentro de una región en particular de la curva (extremo local) o en el dominio de la función en su totalidad (extremo global o absoluto).\n",
    "\n",
    "![Máximos y mínimos de una función](https://s20.postimg.org/njxqfh4i5/max_min_function.jpg)\n",
    "\n",
    "## Cálculo del mínimo y el máximo\n",
    "\n",
    "> Para una parábola ćoncava (abierta hacia arriba), calcular sus máximos es un problema, pues tenderán a infinito y viceversa para las convexas.\n",
    "\n",
    "### Programáticamente\n",
    "Podemos usar la función [`fmin()`](https://docs.scipy.org/doc/scipy/reference/generated/scipy.optimize.fmin.html) de Scipy."
   ]
  },
  {
   "cell_type": "code",
   "execution_count": 1,
   "metadata": {},
   "outputs": [
    {
     "name": "stdout",
     "output_type": "stream",
     "text": [
      "Optimization terminated successfully.\n",
      "         Current function value: -75.000000\n",
      "         Iterations: 19\n",
      "         Function evaluations: 38\n",
      "Optimization terminated successfully.\n",
      "         Current function value: -75.000000\n",
      "         Iterations: 22\n",
      "         Function evaluations: 44\n",
      "[-75.]\n"
     ]
    },
    {
     "data": {
      "text/plain": [
       "<matplotlib.figure.Figure at 0x7f13b1324eb8>"
      ]
     },
     "metadata": {},
     "output_type": "display_data"
    }
   ],
   "source": [
    "# =======================    Mínimo    ==========================\n",
    "\n",
    "import numpy as np\n",
    "import matplotlib.pyplot as plt\n",
    "from scipy.optimize import fmin  # Función para calcular el mínimo de una función\n",
    "\n",
    "# Función\n",
    "f = lambda x: x**2 + 10*x -50\n",
    "\n",
    "# Rangos\n",
    "x = np.linspace(-100, 101, 200)\n",
    "y = f(x)  # Función f(x)\n",
    "\n",
    "# Mínimos relativos\n",
    "x0 = -10  # Empezando desde x=-10\n",
    "xmin0 = fmin(f, x0)\n",
    "\n",
    "x1 = 5  # Empezando desde x = 5\n",
    "xmin1 = fmin(f, x1)\n",
    "print(f(xmin1))\n",
    "\n",
    "# --------------------------------------\n",
    "\n",
    "# Instanciamos figura\n",
    "fig, ax = plt.subplots(figsize=(16, 8))\n",
    "plt.xlim(-40, 40)\n",
    "plt.ylim(-200, 200)\n",
    "\n",
    "# Pinta la gráfica\n",
    "ax.plot(x, y)\n",
    "# Pinta el mínimo encontrado empezando desde x0\n",
    "ax.plot(xmin0, f(xmin0), 'ro')\n",
    "# Pinta el mínimo encontrado empezando desde x1\n",
    "ax.plot(x1, f(x1), 'ro')\n",
    "\n",
    "\n",
    "# Líneas de ejes 0\n",
    "ax.axhline(y=0, color='k')\n",
    "ax.axvline(x=0, color='k')\n",
    "\n",
    "plt.grid()\n",
    "plt.show()"
   ]
  },
  {
   "cell_type": "markdown",
   "metadata": {},
   "source": [
    "Como puedes observar, el método anterior opera resolviendo muchas veces la función para distintos valores de $x$ en su búsqueda del mínimo valor de $y$. Algo parecido sería la siguiente implementación:"
   ]
  },
  {
   "cell_type": "code",
   "execution_count": 2,
   "metadata": {},
   "outputs": [
    {
     "name": "stdout",
     "output_type": "stream",
     "text": [
      "x: 0.900000\ty_inicial = -40.190000\n",
      "x: 0.800000\ty_inicial = -41.360000\n",
      "x: 0.700000\ty_inicial = -42.510000\n",
      "x: 0.600000\ty_inicial = -43.640000\n",
      "x: 0.500000\ty_inicial = -44.750000\n",
      "x: 0.400000\ty_inicial = -45.840000\n",
      "x: 0.300000\ty_inicial = -46.910000\n",
      "x: 0.200000\ty_inicial = -47.960000\n",
      "x: 0.100000\ty_inicial = -48.990000\n",
      "x: 0.000000\ty_inicial = -50.000000\n",
      "x: -0.100000\ty_inicial = -50.990000\n",
      "x: -0.200000\ty_inicial = -51.960000\n",
      "x: -0.300000\ty_inicial = -52.910000\n",
      "x: -0.400000\ty_inicial = -53.840000\n",
      "x: -0.500000\ty_inicial = -54.750000\n",
      "x: -0.600000\ty_inicial = -55.640000\n",
      "x: -0.700000\ty_inicial = -56.510000\n",
      "x: -0.800000\ty_inicial = -57.360000\n",
      "x: -0.900000\ty_inicial = -58.190000\n",
      "x: -1.000000\ty_inicial = -59.000000\n",
      "x: -1.100000\ty_inicial = -59.790000\n",
      "x: -1.200000\ty_inicial = -60.560000\n",
      "x: -1.300000\ty_inicial = -61.310000\n",
      "x: -1.400000\ty_inicial = -62.040000\n",
      "x: -1.500000\ty_inicial = -62.750000\n",
      "x: -1.600000\ty_inicial = -63.440000\n",
      "x: -1.700000\ty_inicial = -64.110000\n",
      "x: -1.800000\ty_inicial = -64.760000\n",
      "x: -1.900000\ty_inicial = -65.390000\n",
      "x: -2.000000\ty_inicial = -66.000000\n",
      "x: -2.100000\ty_inicial = -66.590000\n",
      "x: -2.200000\ty_inicial = -67.160000\n",
      "x: -2.300000\ty_inicial = -67.710000\n",
      "x: -2.400000\ty_inicial = -68.240000\n",
      "x: -2.500000\ty_inicial = -68.750000\n",
      "x: -2.600000\ty_inicial = -69.240000\n",
      "x: -2.700000\ty_inicial = -69.710000\n",
      "x: -2.800000\ty_inicial = -70.160000\n",
      "x: -2.900000\ty_inicial = -70.590000\n",
      "x: -3.000000\ty_inicial = -71.000000\n",
      "x: -3.100000\ty_inicial = -71.390000\n",
      "x: -3.200000\ty_inicial = -71.760000\n",
      "x: -3.300000\ty_inicial = -72.110000\n",
      "x: -3.400000\ty_inicial = -72.440000\n",
      "x: -3.500000\ty_inicial = -72.750000\n",
      "x: -3.600000\ty_inicial = -73.040000\n",
      "x: -3.700000\ty_inicial = -73.310000\n",
      "x: -3.800000\ty_inicial = -73.560000\n",
      "x: -3.900000\ty_inicial = -73.790000\n",
      "x: -4.000000\ty_inicial = -74.000000\n",
      "x: -4.100000\ty_inicial = -74.190000\n",
      "x: -4.200000\ty_inicial = -74.360000\n",
      "x: -4.300000\ty_inicial = -74.510000\n",
      "x: -4.400000\ty_inicial = -74.640000\n",
      "x: -4.500000\ty_inicial = -74.750000\n",
      "x: -4.600000\ty_inicial = -74.840000\n",
      "x: -4.700000\ty_inicial = -74.910000\n",
      "x: -4.800000\ty_inicial = -74.960000\n",
      "x: -4.900000\ty_inicial = -74.990000\n",
      "x: -5.000000\ty_inicial = -75.000000\n",
      "Número de iteraciones necesarias: 66\n",
      "-4.999999999999998\n",
      "\n",
      "======================================\n",
      "\n",
      "x: 0.000000\ty_inicial = -50.000000\n",
      "x: -1.000000\ty_inicial = -59.000000\n",
      "x: -2.000000\ty_inicial = -66.000000\n",
      "x: -3.000000\ty_inicial = -71.000000\n",
      "x: -4.000000\ty_inicial = -74.000000\n",
      "x: -5.000000\ty_inicial = -75.000000\n",
      "Número de iteraciones necesarias: 13\n",
      "-5.0\n"
     ]
    }
   ],
   "source": [
    "import math\n",
    "\n",
    "def minimo(f, args=(), inicial=1, variacion=1):\n",
    "    x = inicial\n",
    "    y_inicial = f(x, *args)\n",
    "    \n",
    "    n_iteracion = 1\n",
    "    \n",
    "    while(math.fabs(variacion) > 0.00001):\n",
    "        y_siguiente = f(x+variacion, *args)\n",
    "        if (y_siguiente > y_inicial):  # Si no disminuye, cambia de dirección a un paso menor\n",
    "            variacion *= -1\n",
    "            variacion /= 10\n",
    "        else:\n",
    "            y_inicial = y_siguiente  # Disminuye\n",
    "            x += variacion\n",
    "            print(\"x: %f\\ty_inicial = %f\" % (x, y_inicial))\n",
    "        n_iteracion += 1\n",
    "        \n",
    "    print(\"Número de iteraciones necesarias: %d\" % n_iteracion)\n",
    "    return x\n",
    "\n",
    "    \n",
    "# Función\n",
    "f = lambda x: x**2 + 10*x -50\n",
    "\n",
    "# Lo calculamos con una variación 1\n",
    "print(minimo(f))\n",
    "\n",
    "print(\"\\n======================================\\n\")\n",
    "\n",
    "# Lo calculamos con una varación 10\n",
    "print(minimo(f, variacion=10))  # Menos iteraciones necesarias y más preciso\n"
   ]
  },
  {
   "cell_type": "markdown",
   "metadata": {},
   "source": [
    "Si tenemos funciones simples (con una incógnita) podemos optar por resolverlas con los pasos a mano usando Sympy o con una implementación controlada en C porque será más eficiente. \n",
    "\n",
    "### A mano\n",
    "Para hallar los máximos o mínimos de una función $f(x) = x^2 + 10x -50$:\n",
    "\n",
    "1. La derivamos: $f'(x) = 2x + 10$\n",
    "2. La igualamos a 0 y resolvemos $x$: $$0 = 2x + 10$$ $$-2x = 10$$ $$-x = \\frac{10}{2}$$ $$x = -5$$\n",
    "3. Ahora tenemos el valor de $x$ con el que obtenemos el mínimo de $y$ en la función: $$f(-5) = (-5)^2 + 10 \\cdot -5 - 50 = -75$$\n",
    "\n",
    "> En este caso obtenemos el mínimo, pero si hubiéramos tenido la ecuación $f(x) = -x^2 + 10x -50$ hubiéramos obtenido el máximo ya que la parábola hubiera sido convexa."
   ]
  },
  {
   "cell_type": "markdown",
   "metadata": {},
   "source": [
    "> Fuentes:\n",
    "- [Redes neuronales parte 1 - Rafael Alberto Moreno Parra](https://openlibra.com/es/book/redes-neuronales-parte-1)\n",
    "- https://glowingpython.blogspot.com.es/2011/04/how-to-find-minimum-of-function-using.html\n",
    "\n"
   ]
  },
  {
   "cell_type": "code",
   "execution_count": null,
   "metadata": {},
   "outputs": [],
   "source": []
  }
 ],
 "metadata": {
  "kernelspec": {
   "display_name": "Python 3",
   "language": "python",
   "name": "python3"
  },
  "language_info": {
   "codemirror_mode": {
    "name": "ipython",
    "version": 3
   },
   "file_extension": ".py",
   "mimetype": "text/x-python",
   "name": "python",
   "nbconvert_exporter": "python",
   "pygments_lexer": "ipython3",
   "version": "3.5.3"
  }
 },
 "nbformat": 4,
 "nbformat_minor": 2
}
