{
 "cells": [
  {
   "cell_type": "markdown",
   "metadata": {},
   "source": [
    "# <center>Integrales</center> "
   ]
  },
  {
   "cell_type": "code",
   "execution_count": 1,
   "metadata": {},
   "outputs": [],
   "source": [
    "import matplotlib.pyplot as plt\n",
    "import numpy as np"
   ]
  },
  {
   "cell_type": "markdown",
   "metadata": {},
   "source": [
    "## Intuitivamente\n",
    "Si las [derivadas](derivadas_antiderivadas.png) representan la razón de cambio en una función, las integrales representan el acumulado de los valores. Aquí puedes ver el ejemplo, el jarro representa la función integrada de la razón de cambio, la cual es la velocidad a la que echa agua el grifo.\n",
    "\n",
    "![¿Jarro o grifo?](img/jarro_o_grifo.png)\n",
    "\n",
    "Calculando el area debajo de la línea de la función podemos obtener el valor total. Si la función pasa por debajo del eje X, el área arriba de la línea de la función será restada al total de áreas.\n",
    "\n",
    "![¿Jarro o grifo?](img/integral_derivada.png)\n",
    "\n",
    "<center>**La derivada es la razón de cambio y la integral es el acumulado total de una función.**</center>\n",
    "\n",
    "## Formalmente\n",
    "Sea una función $f(x) = [a, b] \\rightarrow R$, es decir, definida en un intervalo. Supongamos que es positiva, es decir, que  (su gráfica está por encima del eje de abscisas). Entonces, la integral definida:\n",
    "\n",
    "$$\\int_{a}^{b} f(x) \\cdot dx$$ \n",
    "\n",
    "representa el área encerrada entre la gráfica de $f$ y el eje de abscisas entre las rectas $a$ y $b$.\n",
    "\n",
    "La integral representa el área bajo la curva de una función. Esto se calcula dividiendo el área bajo la curva entre infinitos rectángulos:\n",
    "\n",
    "![Integral Riemann animada](img/integral_riemann_animada.gif)\n",
    "\n",
    "Para no tener que calcular este límite tan extraño (sumatoria de Riemann), se definió el **segundo teorema fundamental del cálculo** (ver abajo), el cual nos permite calcular el área bajo la curva de una manera más rápida.\n",
    "\n",
    "### Integral indefinida\n",
    "Representa el área bajo la curva de una función, pero sin especificar los puntos $a$ y $b$ concretos que definan un área determinada. Suponte que tenemos la función $f(x) = x^n$ y queremos hallar su integral la cual se representa con $\\int x^n dx$. Esta será igual a\n",
    "\n",
    "$$F(x) = \\int x^n dx =  \\frac{x^{n+1}}{n+1} + c$$\n",
    "\n",
    "siempre y cuando $n \\neq -1$\n",
    "\n",
    "### Segundo teorema fundamental del cálculo\n",
    "Este indica que el área entre dos puntos $a$ y $b$ debajo de una función $f(x)$ se puede obtener restando al valor de la integral indefinida evaluada en el punto $b$ (representado por $F(b)$), el valor de la integral indefinida evaluada en el punto $a$ (representado por $F(a)$.\n",
    "\n",
    "$$\\int_{a}^{b} f(x) dx = F(b) - F(a)$$\n",
    "\n",
    "______________________________________\n",
    "\n",
    "## Cómo integrar\n",
    "Empezamos con un ejemplo simple, calcular la integral entre 2 y 3 de $x^2$ o lo que es lo mismo, el área bajo la curva en el rango $2 \\leq x \\leq 3$. Primero obtenemos la integral indefinida:\n",
    "\n",
    "$$F(x) = \\frac{x^{2+1}}{2+1} = \\frac{x^3}{3} + c $$\n",
    "\n",
    "Podemos comprobar que es correcto si derivamos la expresión $\\frac{x^3}{3}$ y obtenemos de nuevo la función original $x^2$.\n",
    "\n",
    "Ahora aplicamos el segundo teorema fundamental del cálculo:\n",
    "\n",
    "$$\\int_{2}^{3} x^2dx = F(b) - F(a) = \\frac{3^3}{3} + c - 3^2 + c = \\frac{27}{3} - \\frac{8}{3} = \\frac{19}{3} = 6.333 u^2$$\n",
    "\n",
    "> Observa como las constantes desaparecen al restarse y ten en cuenta que $u$ significa unidades.\n",
    "\n",
    "Por lo tanto, ya tenemos la solución:\n",
    "\n",
    "$$\\int_{2}^{3} x^2dx = 6.333 u^2$$\n",
    "\n",
    "Representación:"
   ]
  },
  {
   "cell_type": "code",
   "execution_count": 4,
   "metadata": {},
   "outputs": [
    {
     "data": {
      "image/png": "[encoded data removed]",
      "text/plain": [
       "<Figure size 432x288 with 1 Axes>"
      ]
     },
     "metadata": {},
     "output_type": "display_data"
    }
   ],
   "source": [
    "f = lambda x: x**2\n",
    "\n",
    "x = np.arange(0, 6)\n",
    "y = np.vectorize(f)(x)\n",
    "\n",
    "fig, ax = plt.subplots()\n",
    "\n",
    "ax.plot(x, y, label=\"$f(x) = x^2$\")\n",
    "ax.set_ylabel(\"y\")\n",
    "ax.set_xlabel(\"x\")\n",
    "\n",
    "mask = lambda x: x[2:4]  # Entre 2 y 3\n",
    "ax.fill_between(mask(x), 0, mask(y))\n",
    "\n",
    "plt.legend()\n",
    "plt.show()"
   ]
  },
  {
   "cell_type": "markdown",
   "metadata": {},
   "source": [
    "## Integrar programáticamente\n",
    "\n",
    "Para integrar con Sympy usamos la función [`integrate()`](http://docs.sympy.org/latest/modules/integrals/integrals.html). \n",
    "\n",
    "- `integrate(f, x)` devuelve la integral indefinida $\\int f dx$\n",
    "- `integrate(f, (x, a, b))` devuelve la integral definida $\\int_{a}^{b} f dx$"
   ]
  },
  {
   "cell_type": "code",
   "execution_count": 21,
   "metadata": {},
   "outputs": [
    {
     "data": {
      "text/plain": [
       "19/3"
      ]
     },
     "execution_count": 21,
     "metadata": {},
     "output_type": "execute_result"
    }
   ],
   "source": [
    "from sympy.abc import x\n",
    "from sympy import integrate\n",
    "\n",
    "f = x**2\n",
    "\n",
    "# Integral indefinida\n",
    "integrate(f,  x)          # x**3/3\n",
    "\n",
    "# Integral definida\n",
    "integrate(f, (x, 2, 3))   # 19/3"
   ]
  },
  {
   "cell_type": "markdown",
   "metadata": {},
   "source": [
    "__________________________________\n",
    "\n",
    "### Fuentes:\n",
    "- https://www.incress.com/valores-participacion/files/2013/04/figura-7.png\n",
    "- https://www.youtube.com/watch?v=NMHndnhaMbs"
   ]
  }
 ],
 "metadata": {
  "kernelspec": {
   "display_name": "Python 3",
   "language": "python",
   "name": "python3"
  },
  "language_info": {
   "codemirror_mode": {
    "name": "ipython",
    "version": 3
   },
   "file_extension": ".py",
   "mimetype": "text/x-python",
   "name": "python",
   "nbconvert_exporter": "python",
   "pygments_lexer": "ipython3",
   "version": "3.7.0a4"
  }
 },
 "nbformat": 4,
 "nbformat_minor": 2
}
