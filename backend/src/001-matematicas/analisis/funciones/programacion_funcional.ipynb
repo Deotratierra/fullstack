{
 "cells": [
  {
   "cell_type": "markdown",
   "metadata": {},
   "source": [
    "# <center>Programación funcional</center>"
   ]
  },
  {
   "cell_type": "markdown",
   "metadata": {},
   "source": [
    "> Este notebook usa un kernel de Golang. Para activarlo [sigue los pasos descritos aquí](https://github.com/mondeja/fullstack/blob/master/backend/src/005-entorno_de_ejecucion/ipynb/kernels.md)."
   ]
  },
  {
   "cell_type": "markdown",
   "metadata": {},
   "source": [
    "Así como podemos sumar, restar, multiplicar y dividir números, podemos también sumar, restar, multiplicar y dividir funciones. Este campo de la matemática ha dado origen a la programación funcional, la cual usa funciones como argumentos de otras funciones."
   ]
  },
  {
   "cell_type": "code",
   "execution_count": 1,
   "metadata": {},
   "outputs": [],
   "source": [
    "import (\n",
    "    \"fmt\"\n",
    ")"
   ]
  },
  {
   "cell_type": "markdown",
   "metadata": {},
   "source": [
    "## Composición de funciones \n",
    "Imagínate que tenemos las siguientes funciones:\n",
    "$$f(x) = x + 1$$\n",
    "$$g(x) = 2x$$\n",
    "\n",
    "Podemos reducir estas dos funciones a una sola función $h(x)$, ya que ambas toman la misma incógnita:\n",
    "\n",
    "$$f(x) + g(x) = x + 1 + 2x$$\n",
    "$$h(x) = 3x + 1$$"
   ]
  },
  {
   "cell_type": "code",
   "execution_count": 11,
   "metadata": {},
   "outputs": [
    {
     "name": "stdout",
     "output_type": "stream",
     "text": [
      "10\n",
      "true\n"
     ]
    },
    {
     "data": {
      "text/plain": [
       "5 <nil>"
      ]
     },
     "execution_count": 11,
     "metadata": {},
     "output_type": "execute_result"
    }
   ],
   "source": [
    "// Establecemos las funciones f y g\n",
    "f := func(x int) int { return x+1 }\n",
    "g := func(x int) int { return x*2 }\n",
    "\n",
    "// Combinamos ambas funciones en una nueva función\n",
    "h := func(x int) int { return f(x) + g(x)}\n",
    "\n",
    "// Evaluamos la función combinada\n",
    "fmt.Println(h(3))                    // 10\n",
    "\n",
    "// Comprobamos que funciona\n",
    "fmt.Println( h(5) == (f(5) + g(5)) ) // true"
   ]
  }
 ],
 "metadata": {
  "kernelspec": {
   "display_name": "Go",
   "language": "go",
   "name": "gophernotes"
  },
  "language_info": {
   "codemirror_mode": "",
   "file_extension": ".go",
   "mimetype": "",
   "name": "go",
   "nbconvert_exporter": "",
   "pygments_lexer": "",
   "version": "go1.10"
  }
 },
 "nbformat": 4,
 "nbformat_minor": 2
}
