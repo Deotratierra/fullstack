{
 "cells": [
  {
   "cell_type": "markdown",
   "metadata": {},
   "source": [
    "# <center>Utilidades trabajando con funciones</center>\n",
    "\n",
    "## Obtener la pendiente dados dos puntos\n",
    "\n",
    "Sean $(a, b)$, $(x, y)$ dos puntos cualquiera de una funcion, podemos calcular su pendiente $m$ mediante la fórmula:\n",
    "\n",
    "$$m = \\frac{y-b}{x-a}$$\n",
    "\n",
    "Lo cual se puede simplificar a lo que los matemáticos llaman **punto pendiente**, que es la misma función lineal $y = mx + n$:\n",
    "\n",
    "$$y-b = m(x-a)$$\n"
   ]
  },
  {
   "cell_type": "markdown",
   "metadata": {},
   "source": [
    "__________________________________\n",
    "\n",
    "## Tasa de cambio promedio\n",
    "Es una medida de cuánto cambia la función por unidad, en promedio, en un intervalo concreto. La tasa de cambio promedio de una función $f$ en el intervalo $a \\leq x \\leq b$ está dada por la expresión:\n",
    "\n",
    "$$\\frac{f(b)-f(a)}{b-a}$$\n",
    "\n",
    "Observa que esto es lo mismo que encontrar la pendiente de la recta que conecta los puntos en la gráfica que corresponden a los extremos del intervalo.\n",
    "\n",
    "### Ejemplo\n",
    "\n",
    "$$g(x) = \\frac{1}{3^x}+x$$\n",
    "\n",
    "$$TCP_{[-2, -1]} = \\frac{g(-1) - g(-2)}{-1-(-2)} $$\n",
    "\n",
    "![Gráfica de la función](img/ejemplo_tcp_grafica.png)"
   ]
  }
 ],
 "metadata": {
  "kernelspec": {
   "display_name": "Python 3",
   "language": "python",
   "name": "python3"
  },
  "language_info": {
   "codemirror_mode": {
    "name": "ipython",
    "version": 3
   },
   "file_extension": ".py",
   "mimetype": "text/x-python",
   "name": "python",
   "nbconvert_exporter": "python",
   "pygments_lexer": "ipython3",
   "version": "3.7.0a4"
  }
 },
 "nbformat": 4,
 "nbformat_minor": 2
}
