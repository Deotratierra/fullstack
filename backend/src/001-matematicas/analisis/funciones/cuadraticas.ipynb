{
 "cells": [
  {
   "cell_type": "markdown",
   "metadata": {},
   "source": [
    "# <center>Funciones cuadráticas</center>\n",
    "\n",
    "## Factorización en binomios de $x^2 + ax + b$\n",
    "\n",
    "Sea una función cuadrática $x^2 + ax + b$, podemos obtener un binomio de la forma $(x+c)(x+d)$ mediante:\n",
    "\n",
    "$$c+d = a$$\n",
    "$$cd = b$$\n",
    "\n",
    "> Ten en cuenta que si el coeficiente de $x^2 \\neq 1$ no podemos aplicar esta regla.\n",
    "\n",
    "#### ¿Cómo encontrar estos números?\n",
    "Realmente no hay una forma estándar de proceder para calcularlos, ya que si intentamos desarrollar la ecuación, volveremos a tener un polinomio de segundo grado. [Khanacademy](https://es.khanacademy.org/math/algebra/polynomial-factorization/factoring-quadratics-1/a/factoring-quadratics-leading-coefficient-1) aconseja realizar una tabla con las posibles aproximaciones e ir probando.\n",
    "\n",
    "#### Ejemplo\n",
    "\n",
    "Vamos a factorizar el trinomio $x^2 - 2x - 8$\n",
    "\n",
    "$$ c + d = 2 + (-4) = -2 $$\n",
    "$$ cd = 2 \\cdot -4 = -8$$\n",
    "\n",
    "- **Solución**: $(x + 2)(x - 4)$\n",
    "- **Prueba**: $(x + 2) \\cdot (x - 4) = x^2 - 4x + 2x - 8 = x^2 - 2x - 8$\n",
    "\n",
    "Podemos factorizar programáticamente con la función [`factor()`](http://docs.sympy.org/latest/tutorial/simplification.html#factor) de Sympy:"
   ]
  },
  {
   "cell_type": "code",
   "execution_count": 10,
   "metadata": {},
   "outputs": [
    {
     "data": {
      "text/plain": [
       "(x - 4)*(x + 2)"
      ]
     },
     "execution_count": 10,
     "metadata": {},
     "output_type": "execute_result"
    }
   ],
   "source": [
    "from sympy import Symbol, factor\n",
    "\n",
    "x = Symbol(\"x\")\n",
    "\n",
    "polinomio = x**2 - 2*x - 8\n",
    "factor(polinomio)"
   ]
  },
  {
   "cell_type": "markdown",
   "metadata": {},
   "source": [
    "También podemos realizar el proceso inverso a la factorización con la función [`expand()`](http://docs.sympy.org/latest/tutorial/simplification.html#expand) de Sympy:"
   ]
  },
  {
   "cell_type": "code",
   "execution_count": 11,
   "metadata": {},
   "outputs": [
    {
     "data": {
      "text/plain": [
       "x**2 - 2*x - 8"
      ]
     },
     "execution_count": 11,
     "metadata": {},
     "output_type": "execute_result"
    }
   ],
   "source": [
    "from sympy import expand\n",
    "\n",
    "polinomio = (x - 4)*(x + 2)\n",
    "expand(polinomio)"
   ]
  },
  {
   "cell_type": "markdown",
   "metadata": {},
   "source": [
    "_____________________\n",
    "\n",
    "## Factorización de trinomios $ax^2 + bx + c$\n",
    "\n",
    "Existen varias caminos para factorizar trinomios de esta forma, pero aquí vamos a dar usar la **fórmula cuadrática**. Esta fórmula nos ofrece las dos posibles raíces del polinomio:\n",
    "\n",
    "$$x = \\frac{-b \\pm \\sqrt{b^2 -4ac}}{2a}$$\n",
    "\n",
    "- Si la expresión dentro de la raíz cuadrada (el **discriminante**) es negativo, entonces no hay soluciones reales y necesitamos de los números complejos para tratar con este caso.\n",
    "- Si el discriminante es 0 entonces sólo hay una solución.\n",
    "- Si el discriminante es positivo, hay dos soluciones.\n",
    "\n",
    "La forma factorizada de un polinomio de segundo grado es $P(x) = a(x-y)(x-z)$ donde $y, y$ son las raíces del polinomio."
   ]
  },
  {
   "cell_type": "markdown",
   "metadata": {},
   "source": [
    "___________________________\n",
    "\n",
    "### Método de Ruffini\n",
    "El método de Ruffini sirve para factorizar polinomios de cualquier grado, pero su inconveniente es que es muy laborioso y largo de realizar. En el siguiente vídeo se explica:"
   ]
  },
  {
   "cell_type": "code",
   "execution_count": 8,
   "metadata": {},
   "outputs": [
    {
     "data": {
      "image/jpeg": "[encoded data removed]",
      "text/html": [
       "\n",
       "        <iframe\n",
       "            width=\"100%\"\n",
       "            height=\"553\"\n",
       "            src=\"https://www.youtube.com/embed/ozzalwEBhw0\"\n",
       "            frameborder=\"0\"\n",
       "            allowfullscreen\n",
       "        ></iframe>\n",
       "        "
      ],
      "text/plain": [
       "<IPython.lib.display.YouTubeVideo at 0x7f9c8c2ab080>"
      ]
     },
     "execution_count": 8,
     "metadata": {},
     "output_type": "execute_result"
    }
   ],
   "source": [
    "from IPython.display import YouTubeVideo\n",
    "YouTubeVideo(\"ozzalwEBhw0\", width=\"100%\", height=553)"
   ]
  },
  {
   "cell_type": "markdown",
   "metadata": {},
   "source": [
    "_____________________________\n",
    "\n",
    "### Fuentes:\n",
    "- https://es.khanacademy.org/math/algebra/polynomial-factorization/factoring-quadratics-1/a/factoring-quadratics-leading-coefficient-1"
   ]
  }
 ],
 "metadata": {
  "kernelspec": {
   "display_name": "Python 3",
   "language": "python",
   "name": "python3"
  },
  "language_info": {
   "codemirror_mode": {
    "name": "ipython",
    "version": 3
   },
   "file_extension": ".py",
   "mimetype": "text/x-python",
   "name": "python",
   "nbconvert_exporter": "python",
   "pygments_lexer": "ipython3",
   "version": "3.7.0a4"
  }
 },
 "nbformat": 4,
 "nbformat_minor": 2
}
