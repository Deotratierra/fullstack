{
 "cells": [
  {
   "cell_type": "markdown",
   "metadata": {},
   "source": [
    "# <center>Derivada de una función</center>\n",
    "\n",
    "\n",
    "En matemáticas, la [derivada de una función](https://es.wikipedia.org/wiki/Derivada) mide la rapidez con la que cambia el valor de dicha función matemática, según cambie el valor de su <font color=\"brown\">variable independiente</font>. Para la función $f(x)$ se representa como $f'(x)$.\n",
    "\n",
    "> En una expresión matemática, por ejemplo una función $y = f(x)$, el símbolo $x$ representa a la <font color=\"brown\">variable independiente</font>, y el símbolo $y$ representa a la variable dependiente. Se define <font color=\"brown\">variable independiente</font> como un símbolo $x$ que toma diversos valores numéricos dentro de un conjunto de números específicos y que modifica el resultado o valor de la variable dependiente.\n",
    "\n",
    "El concepto de derivada de una función matemática se halla íntimamente relacionado con la noción de límite. Así, la derivada se entiende como la variación que experimenta la función de forma instantánea, es decir, entre cada dos puntos de su dominio suficientemente próximos entre sí.\n",
    "\n",
    "### Obtener la derivada de una función\n",
    "#### Programáticamente\n",
    "Podemos usar el método [`diff()`](http://docs.sympy.org/latest/tutorial/calculus.html#derivatives) de [Sympy](http://www.sympy.org/es/)."
   ]
  },
  {
   "cell_type": "code",
   "execution_count": 3,
   "metadata": {},
   "outputs": [
    {
     "data": {
      "text/plain": [
       "2*x + 10"
      ]
     },
     "execution_count": 3,
     "metadata": {},
     "output_type": "execute_result"
    }
   ],
   "source": [
    "from sympy import Symbol  # pip3 install sympy\n",
    "\n",
    "# Creamos un símbolo\n",
    "x = Symbol(\"x\", real=True)\n",
    "\n",
    "# Definimos la función\n",
    "funcion = x**2 + 10*x + 50\n",
    "\n",
    "# Obtenemos su derivada\n",
    "derivada = funcion.diff(x)\n",
    "derivada"
   ]
  },
  {
   "cell_type": "markdown",
   "metadata": {},
   "source": [
    "> Para calcular su valor en un punto ver abajo [`scipy.misc.derivative()`](https://docs.scipy.org/doc/scipy-0.15.1/reference/generated/scipy.misc.derivative.html)."
   ]
  },
  {
   "cell_type": "markdown",
   "metadata": {},
   "source": [
    "#### A mano\n",
    "Para derivar una función, por ejemplo <font color=\"green\">$f(x) = 3x^2 + x - 10$</font> se realiza lo siguiente:\n",
    "\n",
    "\n",
    "Se reducen los exponentes en un valor, pasando a multiplicarse por la pendiente: <font color=\"green\">$f'(x) = 2 \\cdot 3x^1 + 1 \\cdot 1^0 = 6x + 1$</font>. Si la incógnita está exponenciada a 1 la exponenciamos a 0 desaparenciendo, convirtiéndose en 1. Las ordenadas al origen desaparecen.\n",
    "\n",
    "> Formalmente, la derivada de la función <font color=\"green\">$f(x) = 3x^2 + x - 10$</font> se representaría como <font color=\"navy\">$\\frac{d}{dx} [3x^2 + x - 10]$</font>"
   ]
  },
  {
   "cell_type": "markdown",
   "metadata": {},
   "source": [
    "\n",
    "## Correspondencia geométrica\n",
    "\n",
    "La derivada de una función es un concepto local, es decir, se calcula como el límite de la rapidez de cambio media de la función en cierto intervalo, por ello se habla del valor de la derivada de una función en un punto dado. El valor de la derivada de una función en un punto puede interpretarse geométricamente, ya que se corresponde con la pendiente de la recta tangente a la gráfica de la función en dicho punto.\n",
    "\n",
    "![Derivada tangente](img/derivada_tg.gif)\n",
    "<center>La derivada de la función en el punto marcado es equivalente a la pendiente de la recta tangente.</center>\n",
    "\n",
    "Por lo tanto, si queremos calcular la pendiente de la recta tangente para una función en un punto concreto, hemos de hallar la derivada de la función para ese punto. Pero la pendiente debe hallarse para una diferencia entre dos puntos para que exista pendiente. Así que simplemente colocamos ambos puntos alrededor del punto para el cual queremos hallarla, lo más cercano posible uno de otro.\n",
    "\n",
    "#### Formalmente:\n",
    "Dada una función $f(x)$, y considerado un punto $a$ de su dominio, se llama derivada de la función en ese punto, denotada como $f'(a)$, al siguiente límite:\n",
    "\n",
    "$$f'(a) = \\lim_{h \\to 0} \\frac{f(a+h)-f(a)}{h}$$\n",
    "\n",
    "### Cálculo de la derivada en un punto\n",
    "Podemos usar la función [`scipy.misc.derivative()`](https://docs.scipy.org/doc/scipy-0.15.1/reference/generated/scipy.misc.derivative.html) de Scipy."
   ]
  },
  {
   "cell_type": "code",
   "execution_count": 1,
   "metadata": {},
   "outputs": [
    {
     "ename": "ModuleNotFoundError",
     "evalue": "No module named 'scipy'",
     "output_type": "error",
     "traceback": [
      "\u001b[0;31m---------------------------------------------------------------------------\u001b[0m",
      "\u001b[0;31mModuleNotFoundError\u001b[0m                       Traceback (most recent call last)",
      "\u001b[0;32m<ipython-input-1-4e15d6cfce38>\u001b[0m in \u001b[0;36m<module>\u001b[0;34m()\u001b[0m\n\u001b[1;32m      1\u001b[0m \u001b[0;32mimport\u001b[0m \u001b[0mnumpy\u001b[0m \u001b[0;32mas\u001b[0m \u001b[0mnp\u001b[0m\u001b[0;34m\u001b[0m\u001b[0m\n\u001b[1;32m      2\u001b[0m \u001b[0;32mimport\u001b[0m \u001b[0mmatplotlib\u001b[0m\u001b[0;34m.\u001b[0m\u001b[0mpyplot\u001b[0m \u001b[0;32mas\u001b[0m \u001b[0mplt\u001b[0m\u001b[0;34m\u001b[0m\u001b[0m\n\u001b[0;32m----> 3\u001b[0;31m \u001b[0;32mfrom\u001b[0m \u001b[0mscipy\u001b[0m\u001b[0;34m.\u001b[0m\u001b[0mmisc\u001b[0m \u001b[0;32mimport\u001b[0m \u001b[0mderivative\u001b[0m  \u001b[0;31m# Función para calcular la derivada\u001b[0m\u001b[0;34m\u001b[0m\u001b[0m\n\u001b[0m\u001b[1;32m      4\u001b[0m \u001b[0;34m\u001b[0m\u001b[0m\n\u001b[1;32m      5\u001b[0m \u001b[0;34m\u001b[0m\u001b[0m\n",
      "\u001b[0;31mModuleNotFoundError\u001b[0m: No module named 'scipy'"
     ]
    }
   ],
   "source": [
    "import numpy as np\n",
    "import matplotlib.pyplot as plt\n",
    "from scipy.misc import derivative   # pip3 install scipy\n",
    "                                    # Función para calcular la derivada\n",
    "\n",
    "# Función para representar la recta tangente\n",
    "def funcion_lineal(x, a, b):\n",
    "    return a*x + b\n",
    "\n",
    "# Dada la siguiente función\n",
    "def funcion_cuadratica(x, a, b, c):\n",
    "    return a*x**2 + b*x + c\n",
    "\n",
    "# Rango (eje X)\n",
    "x = np.arange(-100, 101)\n",
    "\n",
    "# Eje Y\n",
    "y0 = funcion_cuadratica(x, 1, 10, -50)\n",
    "\n",
    "# Punto\n",
    "i = 90  # Posición del punto\n",
    "px, py = (x[i], y0[i])  # X, Y\n",
    "\n",
    "# Derivada de la función en px\n",
    "z = derivative(funcion_cuadratica,\n",
    "               px, args=(1, 10, -50,))\n",
    "               #dx=1e-6) # Indica el espacio entre los dos puntos cercanos imaginarios\n",
    "                         # para los cuales calcular la pendiente (aquí no se necesitan ya que es 0)\n",
    "# Función para representar la recta tangente\n",
    "y1 = funcion_lineal(x+15, z, 0)\n",
    "\n",
    "# -----------------------------------\n",
    "\n",
    "# Instanciamos figura\n",
    "fig, ax = plt.subplots(figsize=(16, 8))\n",
    "plt.xlim(-40, 40)\n",
    "plt.ylim(-200, 200)\n",
    "\n",
    "# Dibujamos las funciones\n",
    "ax.plot(x, y0, label=\"función cuadrática\")  # Función\n",
    "ax.plot(x, y1, label=\"tangente\")            # Tangente\n",
    "ax.plot(px, py, \"ro\",                       # Punto para el cual se calculó la derivada\n",
    "        label=\"punto (%d, %d)\" % (px, py))\n",
    "\n",
    "# Líneas de ejes 0\n",
    "ax.axhline(y=0, color='k')\n",
    "ax.axvline(x=0, color='k')\n",
    "\n",
    "plt.legend() # Leyenda\n",
    "plt.grid()   # Grilla\n",
    "plt.show()"
   ]
  },
  {
   "cell_type": "markdown",
   "metadata": {},
   "source": [
    "___________________________\n",
    "\n",
    "# <center>Antiderivada de una función</center>\n",
    "La antiderivada es la función <font color=\"crimson\">$f'(x)$</font> que resulta de hacer la derivada de <font color=\"crimson\">$h(x)$</font>. Por lo tanto, antiderivar es el proceso inverso a derivar.\n",
    "\n",
    "Formalmente, se representa la antiderivada con el símbolo <font color=\"navy\">$\\int h(x) \\cdot dx$</font> donde <font color=\"navy\">$h(x)$</font> es la función que vamos a antiderivar.\n",
    "\n",
    "### Ejemplo\n",
    "Las siguientes derivadas dan el mismo resultado (<font color=\"green\">$2x$</font>).\n",
    "$$\\frac{d}{dx} [x^2] = 2x $$\n",
    "$$\\frac{d}{dx} [x^2 + 1] = 2x $$\n",
    "$$\\frac{d}{dx} [x^2 + \\pi] = 2x $$\n",
    "$$\\frac{d}{dx} [x^2 + c] = 2x $$\n",
    "\n",
    "Si calculamos la antiderivada de <font color=\"green\">$2x$</font>, no sabremos cual es la constante, así que tendremos:\n",
    "\n",
    "<font color=\"navy\">$$\\int 2x \\cdot dx = x^2 + c$$</font>\n",
    "\n",
    "Este resultado se conoce como una **integral indefinida**. Podríamos decir que la integral indefinida de <font color=\"green\">$2x$</font> es lo mismo que la antiderivada de <font color=\"green\">$2x$</font>."
   ]
  },
  {
   "cell_type": "code",
   "execution_count": 9,
   "metadata": {},
   "outputs": [
    {
     "data": {
      "text/plain": [
       "x**2"
      ]
     },
     "execution_count": 9,
     "metadata": {},
     "output_type": "execute_result"
    }
   ],
   "source": [
    "from sympy import integrate\n",
    "\n",
    "x = Symbol(\"x\", real=True)\n",
    "\n",
    "# Definimos la función\n",
    "h = 2*x\n",
    "\n",
    "# Calculamos la antiderivada (no se representa la constante)\n",
    "integrate(h, x)  # x**2"
   ]
  },
  {
   "cell_type": "markdown",
   "metadata": {},
   "source": [
    "> Fuentes:\n",
    "- https://es.wikipedia.org/wiki/Extremos_de_una_funci%C3%B3n\n",
    "- https://es.wikipedia.org/wiki/Funci%C3%B3n_matem%C3%A1tica\n",
    "- http://www.dma.fi.upm.es/recursos/aplicaciones/calculo_infinitesimal/web/estudio_funciones/maxminrel.html\n",
    "- https://www.youtube.com/watch?v=ia8L26ub_pc\n",
    "- http://www.hiru.eus/matematicas/derivada-de-una-funcion\n",
    "- https://www.geogebra.org/m/HzQr5MGM\n",
    "- https://www.pybonacci.org/2012/04/30/como-calcular-limites-derivadas-series-e-integrales-en-python-con-sympy/"
   ]
  }
 ],
 "metadata": {
  "kernelspec": {
   "display_name": "Python 3",
   "language": "python",
   "name": "python3"
  },
  "language_info": {
   "codemirror_mode": {
    "name": "ipython",
    "version": 3
   },
   "file_extension": ".py",
   "mimetype": "text/x-python",
   "name": "python",
   "nbconvert_exporter": "python",
   "pygments_lexer": "ipython3",
   "version": "3.7.0a4"
  }
 },
 "nbformat": 4,
 "nbformat_minor": 2
}
