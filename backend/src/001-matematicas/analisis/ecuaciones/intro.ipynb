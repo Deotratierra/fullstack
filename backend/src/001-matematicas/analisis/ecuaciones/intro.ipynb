{
 "cells": [
  {
   "cell_type": "markdown",
   "metadata": {},
   "source": [
    "# <center>Sistemas de ecuaciones</center>\n",
    "\n",
    "## Número de soluciones\n",
    "\n",
    "Sea la igualdad $ax+b = cx+d$, un sistema de ecuaciones tiene diferente número de soluciones según se cumpla que:\n",
    "\n",
    "- $a \\neq c \\rightarrow$ Una única solución\n",
    "- $a = c \\land c \\neq d \\rightarrow$ Ninguna solución\n",
    "- $a = c \\land b = d \\rightarrow $ Infinitas soluciones"
   ]
  },
  {
   "cell_type": "markdown",
   "metadata": {},
   "source": [
    "_________________________________________\n",
    "\n",
    "## Resolución programática de ecuaciones\n",
    "\n",
    "Con Sympy podemos resolver ecuaciones bastante complejas, gracias a la función [`solve()`](http://docs.sympy.org/latest/modules/solvers/solvers.html). Supón que tienes la ecuación $-p(d+z) = -2z+59$ y debes resolverla para $z$.\n",
    "\n",
    "Instanciamos los símbolos necesarios:"
   ]
  },
  {
   "cell_type": "code",
   "execution_count": 3,
   "metadata": {},
   "outputs": [],
   "source": [
    "from sympy import symbols\n",
    "p, d, z = symbols(\"p d z\")\n",
    "\n",
    "# También así:\n",
    "from sympy.abc import p, d, z"
   ]
  },
  {
   "cell_type": "markdown",
   "metadata": {},
   "source": [
    "Igualamos a 0, por lo que quedaría así: $$-p(d+z) +2z -59 = 0$$\n",
    "\n",
    "Usamos la función [`solve()`](http://docs.sympy.org/latest/modules/solvers/solvers.html) pasando como primer parámetro toda la expresión que ha sido igualada a 0 y como segundo parámetro la variable para la cual queremos resolver:"
   ]
  },
  {
   "cell_type": "code",
   "execution_count": 4,
   "metadata": {},
   "outputs": [
    {
     "data": {
      "text/plain": [
       "[-(d*p + 59)/(p - 2)]"
      ]
     },
     "execution_count": 4,
     "metadata": {},
     "output_type": "execute_result"
    }
   ],
   "source": [
    "from sympy import solve\n",
    "\n",
    "polinomio = -p*(d + z) + 2*z  - 59\n",
    "solve(polinomio, z)"
   ]
  },
  {
   "cell_type": "markdown",
   "metadata": {},
   "source": [
    "La solución sería: $$z = - \\frac{dp+59}{p-2} = \\frac{dp+59}{-p+2}$$"
   ]
  }
 ],
 "metadata": {
  "kernelspec": {
   "display_name": "Python 3",
   "language": "python",
   "name": "python3"
  },
  "language_info": {
   "codemirror_mode": {
    "name": "ipython",
    "version": 3
   },
   "file_extension": ".py",
   "mimetype": "text/x-python",
   "name": "python",
   "nbconvert_exporter": "python",
   "pygments_lexer": "ipython3",
   "version": "3.7.0a4"
  }
 },
 "nbformat": 4,
 "nbformat_minor": 2
}
