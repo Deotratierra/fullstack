{
 "cells": [
  {
   "cell_type": "markdown",
   "metadata": {},
   "source": [
    "# <center>Introducción a la trigonometría</center>"
   ]
  },
  {
   "cell_type": "markdown",
   "metadata": {},
   "source": [
    "## Teorema de Pitágoras\n",
    "> En todo triángulo rectángulo el cuadrado de la hipotenusa es igual a la suma de los cuadrados de los catetos.\n",
    "\n",
    "Siendo un **triángulo rectángulo** de catetos $a$ y $b$ e hipotenusa $c$, se cumple siempre que:\n",
    "\n",
    "$$a^2 + b^2 = c^2$$\n",
    "\n",
    "de lo cual podemos deducir:\n",
    "$$a = \\sqrt{c^2 - b^2}$$\n",
    "$$b = \\sqrt{c^2 - a^2}$$\n",
    "$$c = \\sqrt{a^2 + b^2}$$"
   ]
  },
  {
   "cell_type": "code",
   "execution_count": 29,
   "metadata": {},
   "outputs": [
    {
     "data": {
      "text/plain": [
       "87.68124086713189"
      ]
     },
     "execution_count": 29,
     "metadata": {},
     "output_type": "execute_result"
    }
   ],
   "source": [
    "import math\n",
    "\n",
    "def pitagoras(a, b, c):\n",
    "    \"\"\"Calcula el teorema de Pitágoras pasando \n",
    "    dos de los parámetros(rellena el parámetro\n",
    "    a calcular con ``None``).\n",
    "    \"\"\"\n",
    "    params = [a, b, c]\n",
    "    if params.count(None) in [2, 3]:\n",
    "        raise ValueError(\"You need to pass at least 2 parameters.\")\n",
    "    elif params.count(None) == 0:\n",
    "        raise ValueError(\"You can't pass more than 2 numbers parameters.\" \\\n",
    "                       + \"Fill the other with `None` please.\")\n",
    "    else:\n",
    "        if not a:\n",
    "            res = c**2 - b**2\n",
    "        elif not b:\n",
    "            res = c**2 - a**2\n",
    "        else:\n",
    "            res = a**2 + b**2\n",
    "    return math.sqrt(res)\n",
    "\n",
    "pitagoras(62, 62, None)"
   ]
  },
  {
   "cell_type": "markdown",
   "metadata": {},
   "source": [
    "_________________________\n",
    "\n",
    "\n",
    "## Teorema de la desigualdad del triángulo\n",
    "\n",
    "> Si tenemos un lado en un triángulo, este no puede ser mayor a la suma de sus dos lados y tampoco menor a la diferencia entre el lado mayor y el menor de los otros dos.\n",
    "\n",
    "Aquí puedes ver un ejemplo encontrando intuitivamente el máximo y el mínimo posible del lado ($4 < x < 16$):\n",
    "\n",
    "![Desigualdad del triángulo](img/desigualdad_triangulo.png)"
   ]
  },
  {
   "cell_type": "markdown",
   "metadata": {},
   "source": [
    "____________________________________________\n",
    "\n",
    "## Los triángulos especiales\n",
    "\n",
    "Hay un par de triángulos rectángulos que cumplen unas características especiales según el teorema de Pitágoras, los que tienen los ángulos **45**-**45**-**90** y los que tienen ángulos de **30**-**60**-**90**.\n",
    "\n",
    "Siendo $a$ y $b$ los catetos de la misma longitud y $c$ la hipotenusa, según Pitágoras:\n",
    "\n",
    "### 45-45-90\n",
    "$$a^2 + b^2 = 2b^2 = c^2$$\n",
    "\n",
    "De lo que se puede deducir que:\n",
    "\n",
    "$$a = b = \\frac{\\sqrt{2}}{2} \\cdot c$$\n",
    "\n"
   ]
  },
  {
   "cell_type": "code",
   "execution_count": 8,
   "metadata": {},
   "outputs": [
    {
     "data": {
      "text/html": [
       "<center><svg width=200 height=150>\n",
       "  <polygon points=\"10,10 10,140 140,140\" style=\"fill:navy;stroke:crimson;stroke-width:2\"/>\n",
       "</svg></center>"
      ],
      "text/plain": [
       "<IPython.core.display.HTML object>"
      ]
     },
     "execution_count": 8,
     "metadata": {},
     "output_type": "execute_result"
    }
   ],
   "source": [
    "from IPython.display import HTML\n",
    "\n",
    "center = lambda x: \"<center>%s</center>\" % x\n",
    "def svg_polygon(points, style=\"fill:navy;stroke:crimson;stroke-width:2\"):\n",
    "    return center(\"\"\"<svg width=200 height=150>\n",
    "  <polygon points=\"%s\" style=\"%s\"/>\n",
    "</svg>\"\"\" % (points, style))\n",
    "\n",
    "HTML(svg_polygon(\"10,10 10,140 140,140\"))"
   ]
  },
  {
   "cell_type": "markdown",
   "metadata": {},
   "source": [
    "### 30-60-90\n",
    "Siendo $a$ el cateto más largo y $b$ el más corto, la relación entre los lados de este tipo de triángulos es:\n",
    "\n",
    "$$c = 1$$\n",
    "$$a = \\frac{1}{2}$$\n",
    "$$b = \\frac{\\sqrt{3}}{2}$$"
   ]
  },
  {
   "cell_type": "code",
   "execution_count": 10,
   "metadata": {},
   "outputs": [
    {
     "data": {
      "text/html": [
       "<center><svg width=200 height=150>\n",
       "  <polygon points=\"20,20 20,140 75,140\" style=\"fill:navy;stroke:crimson;stroke-width:2\"/>\n",
       "</svg></center>"
      ],
      "text/plain": [
       "<IPython.core.display.HTML object>"
      ]
     },
     "execution_count": 10,
     "metadata": {},
     "output_type": "execute_result"
    }
   ],
   "source": [
    "HTML(svg_polygon(\"20,20 20,140 75,140\"))"
   ]
  },
  {
   "cell_type": "markdown",
   "metadata": {},
   "source": [
    "________________________________\n",
    "\n",
    "\n",
    "## Las razones trigonométricas\n",
    "Si tenemos un triángulo del cual queremos saber sus ángulos, podemos definir las siguientes reglas para cada ángulo dado:\n",
    "- El **seno** de un ángulo es el lado opuesto entre la hipotenusa.\n",
    "- El **coseno** de un ángulo es el lado adyacente entre la hipotenusa.\n",
    "- La **tangente** de un ángulo es el lado adyacente entre el opuesto.\n",
    "\n",
    "> La regla nemotécnica más común para aprenderlo es *soh* (Seno = opuesto / hipotenusa), *cah* (Coseno = adyacente / hipotenusa) y *toa* (Tangente = opuesto / adyacente). Todo junto: **sohcahtoa**.\n",
    "\n",
    "Podemos calcular **seno**, **coseno** y **tangente** de un ángulo programáticamente (estas funciones toman radianes como parámetro, por lo que debemos convertir antes si tenemos grados):"
   ]
  },
  {
   "cell_type": "code",
   "execution_count": 5,
   "metadata": {},
   "outputs": [
    {
     "data": {
      "text/plain": [
       "15.588457268119894"
      ]
     },
     "execution_count": 5,
     "metadata": {},
     "output_type": "execute_result"
    }
   ],
   "source": [
    "import math\n",
    "\n",
    "math.sin(65)\n",
    "math.cos(32)\n",
    "math.tan(50)\n",
    "\n",
    "math.asin(0.6)  # Inverso del seno\n",
    "math.acos(0.2)  # Inverso del coseno\n",
    "math.atan(0.1)  # Inverso de la tangente\n",
    "\n",
    "# Conversión de radianes a grados\n",
    "math.degrees(1.4)\n",
    "\n",
    "# Conversión de grados a radianes\n",
    "math.radians(90)\n",
    "\n",
    "18 * math.sin(math.radians(60))"
   ]
  },
  {
   "cell_type": "markdown",
   "metadata": {},
   "source": [
    "### Entender la razones trigonométricas\n"
   ]
  },
  {
   "cell_type": "code",
   "execution_count": 11,
   "metadata": {},
   "outputs": [
    {
     "data": {
      "image/jpeg": "[encoded data removed]",
      "text/html": [
       "\n",
       "        <iframe\n",
       "            width=\"100%\"\n",
       "            height=\"400\"\n",
       "            src=\"https://www.youtube.com/embed/gnlQdk_rb4s\"\n",
       "            frameborder=\"0\"\n",
       "            allowfullscreen\n",
       "        ></iframe>\n",
       "        "
      ],
      "text/plain": [
       "<IPython.lib.display.YouTubeVideo at 0x7fbe000dbb00>"
      ]
     },
     "execution_count": 11,
     "metadata": {},
     "output_type": "execute_result"
    }
   ],
   "source": [
    "from IPython.display import YouTubeVideo\n",
    "YouTubeVideo(\"gnlQdk_rb4s\", width=\"100%\", height=400)"
   ]
  },
  {
   "cell_type": "code",
   "execution_count": null,
   "metadata": {},
   "outputs": [],
   "source": []
  }
 ],
 "metadata": {
  "kernelspec": {
   "display_name": "Python 3",
   "language": "python",
   "name": "python3"
  },
  "language_info": {
   "codemirror_mode": {
    "name": "ipython",
    "version": 3
   },
   "file_extension": ".py",
   "mimetype": "text/x-python",
   "name": "python",
   "nbconvert_exporter": "python",
   "pygments_lexer": "ipython3",
   "version": "3.7.0a4"
  }
 },
 "nbformat": 4,
 "nbformat_minor": 2
}
