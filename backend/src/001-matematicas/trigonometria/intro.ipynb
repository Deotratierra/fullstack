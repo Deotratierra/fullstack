{
 "cells": [
  {
   "cell_type": "markdown",
   "metadata": {},
   "source": [
    "# <center>Introducción a la trigonometría</center>"
   ]
  },
  {
   "cell_type": "markdown",
   "metadata": {},
   "source": [
    "## Teorema de Pitágoras\n",
    "> En todo triángulo rectángulo el cuadrado de la hipotenusa es igual a la suma de los cuadrados de los catetos.\n",
    "\n",
    "Siendo un **triángulo rectángulo** de catetos $a$ y $b$ e hipotenusa $c$, se cumple siempre que:\n",
    "\n",
    "$$a^2 + b^2 = c^2$$\n",
    "\n",
    "de lo cual podemos deducir:\n",
    "$$a = \\sqrt{c^2 - b^2}$$\n",
    "$$b = \\sqrt{c^2 - a^2}$$\n",
    "$$c = \\sqrt{a^2 + b^2}$$"
   ]
  },
  {
   "cell_type": "code",
   "execution_count": 28,
   "metadata": {},
   "outputs": [
    {
     "data": {
      "text/plain": [
       "7.615773105863909"
      ]
     },
     "execution_count": 28,
     "metadata": {},
     "output_type": "execute_result"
    }
   ],
   "source": [
    "import math\n",
    "\n",
    "def pitagoras(a, b, c):\n",
    "    \"\"\"Calcula el teorema de Pitágoras pasando \n",
    "    dos de los parámetros(rellena el parámetro\n",
    "    a calcular con ``None``).\n",
    "    \"\"\"\n",
    "    params = [a, b, c]\n",
    "    if params.count(None) in [2, 3]:\n",
    "        raise ValueError(\"You need to pass at least 2 parameters.\")\n",
    "    elif params.count(None) == 0:\n",
    "        raise ValueError(\"You can't pass more than 2 numbers parameters.\" \\\n",
    "                       + \"Fill the other with `None` please.\")\n",
    "    else:\n",
    "        if not a:\n",
    "            res = c**2 - b**2\n",
    "        elif not b:\n",
    "            res = c**2 - a**2\n",
    "        else:\n",
    "            res = a**2 + b**2\n",
    "    return math.sqrt(res)\n",
    "\n",
    "pitagoras(3, 7, None)"
   ]
  },
  {
   "cell_type": "markdown",
   "metadata": {},
   "source": [
    "_________________________\n",
    "\n",
    "\n",
    "## Teorema de la desigualdad del triángulo\n",
    "\n",
    "> Si tenemos un lado en un triángulo, este no puede ser mayor a la suma de sus dos lados y tampoco menor a la diferencia entre el lado mayor y el menor de los otros dos.\n",
    "\n",
    "Aquí puedes ver un ejemplo encontrando intuitivamente el máximo y el mínimo posible del lado ($4 < x < 16$):\n",
    "\n",
    "![Desigualdad del triángulo](img/desigualdad_triangulo.png)"
   ]
  }
 ],
 "metadata": {
  "kernelspec": {
   "display_name": "Python 3",
   "language": "python",
   "name": "python3"
  },
  "language_info": {
   "codemirror_mode": {
    "name": "ipython",
    "version": 3
   },
   "file_extension": ".py",
   "mimetype": "text/x-python",
   "name": "python",
   "nbconvert_exporter": "python",
   "pygments_lexer": "ipython3",
   "version": "3.7.0a4"
  }
 },
 "nbformat": 4,
 "nbformat_minor": 2
}
