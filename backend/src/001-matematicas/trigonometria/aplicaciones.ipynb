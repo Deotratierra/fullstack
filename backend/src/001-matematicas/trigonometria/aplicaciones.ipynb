{
 "cells": [
  {
   "cell_type": "markdown",
   "metadata": {},
   "source": [
    "# <center>Ejercicios de trigonometría</center>"
   ]
  },
  {
   "cell_type": "markdown",
   "metadata": {},
   "source": [
    "## 1. Medir un objeto a distancia\n",
    "\n",
    "### Técnica del tamaño angular\n",
    "> Esta técnica sólo funciona para objetos situados a una distancia angular menor a 25°, por lo que puede ser inútil para medir objetos muy grandes desde muy cerca.\n",
    "\n",
    "Para medir un objeto a distancia necesitamos un [clinómetro](https://es.wikipedia.org/wiki/Clin%C3%B3metro) ([aquí hay uno excelente en PlayStore para Android](https://play.google.com/store/apps/details?id=com.plaincode.clinometer&hl=es)). Este aparato se usa para medir la inclinación en grados con respecto a la vertical.\n",
    "\n",
    "Lo siguiente será ubicarnos a una distancia conocida del objeto y apuntar a este desde nuestra dirección con el clinómetro (para mayor precisión hazlo desde el suelo). Apuntamos los grados de inclinación que marca el clinómetro.\n",
    "\n",
    "#### [Fórmula del ángulo pequeño](http://boojum.as.arizona.edu/~jill/NS102_2004/geom.html#smallangle)\n",
    "\n",
    "La fórmula a aplicar sería la siguiente:\n",
    "\n",
    "$$f(x) = \\frac{a}{360} \\cdot 2 \\cdot \\pi d$$\n",
    "\n",
    "donde $a$ es el número de ángulos y $d$ es la distancia al objeto. Podemos simplificar la ecuación a:\n",
    "\n",
    "$$ f(x) = \\frac{a}{\\frac{360}{2\\pi}} \\cdot d$$\n",
    "\n",
    "donde $\\frac{360}{2 \\pi} = 57,3$ (redondeado)."
   ]
  },
  {
   "cell_type": "code",
   "execution_count": 4,
   "metadata": {},
   "outputs": [
    {
     "data": {
      "text/plain": [
       "1.1435397259066846"
      ]
     },
     "execution_count": 4,
     "metadata": {},
     "output_type": "execute_result"
    }
   ],
   "source": [
    "import math\n",
    "\n",
    "def remote_height(angles, distance):\n",
    "    if angles > 25:\n",
    "        msg = \"The angles can't be less than 25 degrees. \" \\\n",
    "              + \"Please, get away from the object to be measured.\"\n",
    "        raise ValueError(msg)\n",
    "    return angles/360 * 2 * math.pi * distance\n",
    "\n",
    "remote_height(14, 4.68)"
   ]
  },
  {
   "cell_type": "markdown",
   "metadata": {},
   "source": [
    "_______________________\n",
    "\n",
    "### Fuentes:\n",
    "- http://boojum.as.arizona.edu/~jill/NS102_2004/geom.html#smallangle"
   ]
  },
  {
   "cell_type": "code",
   "execution_count": null,
   "metadata": {},
   "outputs": [],
   "source": []
  }
 ],
 "metadata": {
  "kernelspec": {
   "display_name": "Python 3",
   "language": "python",
   "name": "python3"
  },
  "language_info": {
   "codemirror_mode": {
    "name": "ipython",
    "version": 3
   },
   "file_extension": ".py",
   "mimetype": "text/x-python",
   "name": "python",
   "nbconvert_exporter": "python",
   "pygments_lexer": "ipython3",
   "version": "3.7.0a4"
  }
 },
 "nbformat": 4,
 "nbformat_minor": 2
}
