{
 "cells": [
  {
   "cell_type": "markdown",
   "metadata": {},
   "source": [
    "# <center>Programación lineal</center>"
   ]
  },
  {
   "cell_type": "code",
   "execution_count": null,
   "metadata": {},
   "outputs": [],
   "source": [
    "from IPython.display import IFrame\n",
    "IFrame(\"https://es.wikipedia.org/wiki/Programaci%C3%B3n_lineal\", width=\"100%\", height=\"200\")"
   ]
  },
  {
   "cell_type": "markdown",
   "metadata": {},
   "source": [
    "> La programación lineal es el campo de la **optimización matemática** dedicado a maximizar o minimizar (optimizar) una función lineal, denominada función objetivo, de tal forma que las variables de dicha función estén sujetas a una serie de restricciones expresadas mediante un sistema de ecuaciones o inecuaciones también lineales.\n",
    "\n",
    "La [optimización](https://es.wikipedia.org/wiki/Optimizaci%C3%B3n_(matem%C3%A1tica)) es fundamental para cualquier problema relacionado con la toma de decisiones, ya sea en ingeniería o en ciencias económicas. La tarea de tomar decisiones implica elegir entre varias alternativas. Esta opción va a estar gobernada por nuestro deseo de tomar la \"mejor\" decisión posible. Que tan buena va a ser cada una de las alternativas va a estar descripta por una [función objetivo](https://es.wikipedia.org/wiki/Funci%C3%B3n_real) o índice de rendimiento. \n",
    "\n",
    "La teoría y los métodos de [optimización](https://es.wikipedia.org/wiki/Optimizaci%C3%B3n_(matem%C3%A1tica)) nos van a ayudar a seleccionar la mejor alternativa de acuerdo a esta función objetivo dada.\n",
    "\n",
    "> El poder de los métodos de optimización reside en la posibilidad de determinar la solución óptima sin realmente tener que probar todos los casos posibles. Para logar esto, se utiliza un nivel modesto de Matemáticas y se realizan cálculos numéricos iterativos utilizando procedimientos lógicos claramente definidos o algoritmos implementados en computadoras.\n",
    "\n"
   ]
  },
  {
   "cell_type": "markdown",
   "metadata": {},
   "source": [
    "## ¿Qué es un problema de optimización?\n",
    "Un problema de [optimización](https://es.wikipedia.org/wiki/Optimizaci%C3%B3n_(matem%C3%A1tica)) comienza con un conjunto de variables independientes o parámetros, y a menudo incluye condiciones o restricciones que definen los valores aceptables de estas variables. Tales restricciones se denominan las limitaciones del problema. El otro componente esencial de un problema de [optimización](https://es.wikipedia.org/wiki/Optimizaci%C3%B3n_(matem%C3%A1tica)) es una medida única de \"bondad\", denominada [función objetivo](https://es.wikipedia.org/wiki/Funci%C3%B3n_real), la cual va a depender también de las variables independientes. La solución al problema de optimización va a estar dada por un conjunto de valores permitidos para las variables independientes, de acuerdo con las limitaciones del problema, en los que la [función objetivo](https://es.wikipedia.org/wiki/Funci%C3%B3n_real) asume un valor óptimo. En términos matemáticos, la optimización implica normalmente [maximizar o minimizar](https://github.com/mondeja/fullstack/blob/master/backend/src/001-matematicas/analisis/funciones/max_min_gd.ipynb) la [función objetivo](https://es.wikipedia.org/wiki/Funci%C3%B3n_real).\n",
    "\n",
    "_____________________"
   ]
  },
  {
   "cell_type": "code",
   "execution_count": null,
   "metadata": {},
   "outputs": [],
   "source": [
    "import numpy as np\n",
    "import matplotlib.pyplot as plt\n",
    "import cvxopt   # pip3 install cvxopt"
   ]
  },
  {
   "cell_type": "markdown",
   "metadata": {},
   "source": [
    "## Sistema de ecuaciones lineales\n",
    "En este primer ejemplo vamos a ver como resolver un sistema de **ecuaciones lineales**, los cuales tienen una solución determinada.\n",
    "\n",
    "Por ejemplo, dadas las siguientes ecuaciones:\n",
    "\n",
    "$$2x + 4y + 6z = 18$$\n",
    "$$4x + 5y + 6z = 24$$\n",
    "$$3x + y - 2x = 4$$\n",
    "\n",
    "Podemos calcular el resultado fácilmente con `numpy`:"
   ]
  },
  {
   "cell_type": "code",
   "execution_count": null,
   "metadata": {},
   "outputs": [],
   "source": [
    "# Obtenemos los coeficientes de x, y, z en todas las igualdades almacenándolos\n",
    "a = np.array([[2, 4, 6], [4, 5, 6], [3, 1, -2]])        # en arrays ordenados.\n",
    "b = np.array([18, 24, 4])            # En otro array definimos los resultados.\n",
    "\n",
    "# Aplicamos esta función sobre la matriz de coeficientes y los resultados\n",
    "res = np.linalg.solve(a, b)\n",
    "x, y, z = (res[0], res[1], res[2])  # [4, -2, 3]\n",
    "\n",
    "print(\" Solución:\\n%s\" % (\"-\"*32) \\\n",
    "      + \"\\n|  x = %d  |  y = %d  |  z = %d  |\" % (x, y, z) \\\n",
    "      + \"\\n%s\" % (\"-\"*32))"
   ]
  },
  {
   "cell_type": "markdown",
   "metadata": {},
   "source": [
    "## Sistemas de inecuaciones lineales\n",
    "En cambio, en los sistemas de inecuaciones no existe una solución determinada, sino que pueden ser varias las soluciones adoptadas para un problema. Veamos un ejemplo de programación lineal utilizando los métodos de [optimización convexa](https://en.wikipedia.org/wiki/Convex_optimization) que nos ofrece la librería [CVXopt](https://cvxopt.org/). Recordemos que la programación lineal es un caso especial de la [optimización convexa](https://en.wikipedia.org/wiki/Convex_optimization) y el principal algoritmo que se utiliza es el [método simplex](https://es.wikipedia.org/wiki/Algoritmo_s%C3%ADmplex). Para este pequeño ejemplo vamos a maximizar la siguiente función objetivo:\n",
    "\n",
    "$$f(x_{1}, x_{2}) = 50x_{1} + 40x{2}$$\n",
    "\n",
    "con las siguientes restricciones:\n",
    "\n",
    "$$x_{1} + 1.5x_{2} \\leq 750$$\n",
    "$$2x_{1} + x_{2} \\leq 1000$$\n",
    "$$x_{1} \\geq 1$$\n",
    "$$x_{2} \\geq 0$$"
   ]
  },
  {
   "cell_type": "code",
   "execution_count": null,
   "metadata": {},
   "outputs": [],
   "source": [
    "# Ejemplo programación lineal con CVXopt\n",
    "\n",
    "# Resolviendo el problema con cvxopt\n",
    "A = cvxopt.matrix([[-1., -2., 1., 0.], # columna de x1\n",
    "            [-1.5, -1., 0., 1.]]) # columna de x2\n",
    "b = cvxopt.matrix([750., 1000., 0., 0.]) # resultados\n",
    "c = cvxopt.matrix([50., 40.]) # funcion objetivo\n",
    "\n",
    "# resolviendo el problema\n",
    "sol=cvxopt.solvers.lp(c,A,b)"
   ]
  },
  {
   "cell_type": "markdown",
   "metadata": {},
   "source": [
    "### Problema de maximización de ganancias\n",
    "Un fabricante de muebles hace dos tipos de sillas, Tipo A y Tipo B. Cada silla A requiere 8 horas de trabajo-hombre (1 hombre trabajando 8 horas, 2 hombres trabajando 4 horas, etc.). La silla B necesita 5 horas-hombre. Los materiales para el tipo A cuestan 4€ y los del tipo B, 5€. El beneficio que se obtiene haciendo la silla A es de 7/4€. y el beneficio de la silla B 3/2€. El fabricante tiene que tener en cuenta las siguientes condiciones:\n",
    "\n",
    "1. Un contrato para fabricar 15 sillas del tipo A como mínimo y 10 tipo B por semana,\n",
    "2. Sólo se pueden trabajar 320 horas-hombre por semana.\n",
    "3. El coste total de material por semana, para todas las sillas producidas, no deberá sobrepasar las 200€.\n",
    "\n",
    "<center>**Hallar el número de sillas de cada tipo que habrán de fabricarse por semana, para que el beneficio sea máximo.**</center>\n",
    "\n",
    "_____________________\n",
    "\n",
    "#### Datos\n",
    "\n",
    "| Tipo de silla |  Número  | Horas de trabajo | Coste de materiales |     Beneficio (€) |\n",
    "|:-------------:|:--------:|:----------------:|--------------------:|------------------:|\n",
    "|    **A**      |    x     |        8x        |        4x           |       (7/4)x      |\n",
    "|    **B**      |    y     |        5y        |        5y           |       (3/2)y      |\n",
    "|  **Total**    |          |       320        |       200           |                   |\n",
    "\n",
    "#### Restricciones\n",
    "\n",
    "$$x \\geq 15$$\n",
    "$$y \\geq 10$$\n",
    "$$ 8x + 5y \\leq 320 $$\n",
    "$$ 4x + 5y \\leq 200 $$\n",
    "\n",
    "#### Función objetivo\n",
    "$$B(x, y) = \\frac{7}{4}x + \\frac{3}{2}y$$\n"
   ]
  },
  {
   "cell_type": "markdown",
   "metadata": {},
   "source": [
    "#### Planteamiento general del problema\n",
    "En un problema de programación lineal con dos variables, $x$ e $y$, se trata de hallar el óptimo (máximo o mínimo valor, según sea el caso) de la función $F(x,y) = ax + by$, y los puntos en los que se alcanza, cuando $x$ e $y$ satisfacen cierto conjunto de condiciones."
   ]
  },
  {
   "cell_type": "code",
   "execution_count": null,
   "metadata": {},
   "outputs": [],
   "source": [
    "func_beneficio = lambda x, y: (x, y, (7/4)*x + (3/2)*y)\n",
    "func_horas_trabajo = lambda x, y: 8*x + 5*y\n",
    "func_coste_materiales = lambda x, y: 4*x + 5*y\n",
    "\n",
    "# Eje X\n",
    "x = np.arange(0, 100)\n",
    "\n",
    "# Eje Y\n",
    "y = np.arange(0, 100)\n",
    "\n",
    "# Datos\n",
    "beneficio, horas_trabajo, coste_materiales = ([], [], [])\n",
    "for x, y in zip(x, y):\n",
    "    # Calculamos las restricciones para los datos\n",
    "    if func_horas_trabajo(x, y) <= 320:\n",
    "        horas_trabajo.append(func_horas_trabajo(x, y))\n",
    "    if func_coste_materiales(x, y) <= 200:\n",
    "        coste_materiales.append(func_coste_materiales(x, y))\n",
    "    if func_coste_materiales(x, y) <= 200 and func_horas_trabajo(x, y) <= 320:\n",
    "        beneficio.append(func_beneficio(x, y))\n",
    "\n",
    "\n",
    "fig, ax = plt.subplots(figsize=(12, 6))\n",
    "fig.suptitle(\"Cirva\")\n",
    "\n",
    "ax.set_xlabel(\"Número de sillas\")\n",
    "#ax.axvline(x=max(beneficio), color=\"k\")\n",
    "\n",
    "print(beneficio)\n",
    "\n",
    "ax.plot([b[2] for b in beneficio], label=\"Beneficio\")\n",
    "ax.plot([b[0] for b in beneficio], label=\"Sillas tipo A ($x$)\")\n",
    "ax.plot(horas_trabajo, label=\"Horas de trabajo\")\n",
    "ax.plot(coste_materiales, label=\"Coste de materiales\")\n",
    "plt.legend(loc=2, prop={'size': 12})\n",
    "\n",
    "plt.show()\n"
   ]
  },
  {
   "cell_type": "markdown",
   "metadata": {},
   "source": [
    "______________________\n",
    "\n",
    "#### Fuentes:\n",
    "- http://www.srbarreiro.es/Apuntes/CCSS_2bto/Teoria/BS2ProgramacionLIN.pdf\n",
    "- http://www.srbarreiro.es/Apuntes/CCSS_2bto/Ejercicios/Soluciones%20de%20PL%2811%29.pdf\n",
    "- https://relopezbriega.github.io/blog/2017/01/18/problemas-de-optimizacion-con-python/\n"
   ]
  },
  {
   "cell_type": "code",
   "execution_count": null,
   "metadata": {},
   "outputs": [],
   "source": []
  }
 ],
 "metadata": {
  "kernelspec": {
   "display_name": "Python 3",
   "language": "python",
   "name": "python3"
  },
  "language_info": {
   "codemirror_mode": {
    "name": "ipython",
    "version": 3
   },
   "file_extension": ".py",
   "mimetype": "text/x-python",
   "name": "python",
   "nbconvert_exporter": "python",
   "pygments_lexer": "ipython3",
   "version": "3.7.0a4"
  }
 },
 "nbformat": 4,
 "nbformat_minor": 2
}
