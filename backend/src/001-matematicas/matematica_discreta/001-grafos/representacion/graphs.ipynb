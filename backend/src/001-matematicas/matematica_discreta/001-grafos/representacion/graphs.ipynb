{
 "cells": [
  {
   "cell_type": "markdown",
   "metadata": {},
   "source": [
    "# <center>Representación de grafos en Python</center>\n",
    "El software libre más conocido para la creación de grafos es [Graphviz](https://es.wikipedia.org/wiki/Graphviz), el cual usa el lenguaje descriptivo [DOT](https://es.wikipedia.org/wiki/DOT). Para no aprender otro lenguaje más para el simple cometido de crear grafos, podemos usar la implementación en Python de Graphviz:\n",
    "\n",
    "- Instalación: `pip3 install graphviz`\n",
    "- [Código fuente](https://github.com/xflr6/graphviz)\n",
    "- [Referencia](https://graphviz.readthedocs.io/en/stable/api.html)"
   ]
  },
  {
   "cell_type": "code",
   "execution_count": 57,
   "metadata": {},
   "outputs": [
    {
     "name": "stdout",
     "output_type": "stream",
     "text": [
      "0.8.2\n"
     ]
    }
   ],
   "source": [
    "import graphviz as gv\n",
    "print(gv.__version__)\n",
    "\n",
    "from IPython.display import SVG"
   ]
  },
  {
   "cell_type": "markdown",
   "metadata": {},
   "source": [
    "## Grafo simple "
   ]
  },
  {
   "cell_type": "code",
   "execution_count": 58,
   "metadata": {},
   "outputs": [
    {
     "data": {
      "text/plain": [
       "'graph {\\n\\tA\\n\\tB\\n\\tA -- B\\n}'"
      ]
     },
     "execution_count": 58,
     "metadata": {},
     "output_type": "execute_result"
    }
   ],
   "source": [
    "# Crear un grafo con dos nodos\n",
    "g1 = gv.Graph(format=\"svg\") # Por defecto el formato será pdf\n",
    "g1.node(\"A\")  # Es lo mismo que name=\"A\"\n",
    "g1.node(name=\"B\")\n",
    "\n",
    "# Unir nodos de un gráfico\n",
    "g1.edge(\"A\", \"B\")\n",
    "\n",
    "# Mostrar el código DOT equivalente\n",
    "g1.source"
   ]
  },
  {
   "cell_type": "code",
   "execution_count": 59,
   "metadata": {},
   "outputs": [
    {
     "data": {
      "image/svg+xml": [
       "<svg height=\"116pt\" viewBox=\"0.00 0.00 62.00 116.00\" width=\"62pt\" xmlns=\"http://www.w3.org/2000/svg\" xmlns:xlink=\"http://www.w3.org/1999/xlink\">\n",
       "<g class=\"graph\" id=\"graph0\" transform=\"scale(1 1) rotate(0) translate(4 112)\">\n",
       "<title>%3</title>\n",
       "<polygon fill=\"white\" points=\"-4,4 -4,-112 58,-112 58,4 -4,4\" stroke=\"none\"/>\n",
       "<!-- A -->\n",
       "<g class=\"node\" id=\"node1\"><title>A</title>\n",
       "<ellipse cx=\"27\" cy=\"-90\" fill=\"none\" rx=\"27\" ry=\"18\" stroke=\"black\"/>\n",
       "<text font-family=\"Times,serif\" font-size=\"14.00\" text-anchor=\"middle\" x=\"27\" y=\"-86.3\">A</text>\n",
       "</g>\n",
       "<!-- B -->\n",
       "<g class=\"node\" id=\"node2\"><title>B</title>\n",
       "<ellipse cx=\"27\" cy=\"-18\" fill=\"none\" rx=\"27\" ry=\"18\" stroke=\"black\"/>\n",
       "<text font-family=\"Times,serif\" font-size=\"14.00\" text-anchor=\"middle\" x=\"27\" y=\"-14.3\">B</text>\n",
       "</g>\n",
       "<!-- A&#45;&#45;B -->\n",
       "<g class=\"edge\" id=\"edge1\"><title>A--B</title>\n",
       "<path d=\"M27,-71.6966C27,-60.8463 27,-46.9167 27,-36.1043\" fill=\"none\" stroke=\"black\"/>\n",
       "</g>\n",
       "</g>\n",
       "</svg>"
      ],
      "text/plain": [
       "<IPython.core.display.SVG object>"
      ]
     },
     "execution_count": 59,
     "metadata": {},
     "output_type": "execute_result"
    }
   ],
   "source": [
    "# Exportar un grafo\n",
    "nombre_de_archivo = g1.render(\"img/g1\")  # No hace falta indicar la extensión\n",
    "\n",
    "# El nombre de archivo lo devuelve con la extensión\n",
    "SVG(nombre_de_archivo)"
   ]
  },
  {
   "cell_type": "markdown",
   "metadata": {},
   "source": [
    "_________________________________________\n",
    "\n",
    "## Grafo con flechas "
   ]
  },
  {
   "cell_type": "code",
   "execution_count": 60,
   "metadata": {},
   "outputs": [
    {
     "data": {
      "image/svg+xml": [
       "<svg height=\"116pt\" viewBox=\"0.00 0.00 118.49 116.00\" width=\"118pt\" xmlns=\"http://www.w3.org/2000/svg\" xmlns:xlink=\"http://www.w3.org/1999/xlink\">\n",
       "<g class=\"graph\" id=\"graph0\" transform=\"scale(1 1) rotate(0) translate(4 112)\">\n",
       "<title>%3</title>\n",
       "<polygon fill=\"white\" points=\"-4,4 -4,-112 114.49,-112 114.49,4 -4,4\" stroke=\"none\"/>\n",
       "<!-- A -->\n",
       "<g class=\"node\" id=\"node1\"><title>A</title>\n",
       "<ellipse cx=\"55.2451\" cy=\"-90\" fill=\"none\" rx=\"55.4913\" ry=\"18\" stroke=\"black\"/>\n",
       "<text font-family=\"Times,serif\" font-size=\"14.00\" text-anchor=\"middle\" x=\"55.2451\" y=\"-86.3\">Primer nodo</text>\n",
       "</g>\n",
       "<!-- B -->\n",
       "<g class=\"node\" id=\"node2\"><title>B</title>\n",
       "<ellipse cx=\"55.2451\" cy=\"-18\" fill=\"none\" rx=\"27\" ry=\"18\" stroke=\"black\"/>\n",
       "<text font-family=\"Times,serif\" font-size=\"14.00\" text-anchor=\"middle\" x=\"55.2451\" y=\"-14.3\">B</text>\n",
       "</g>\n",
       "<!-- A&#45;&gt;B -->\n",
       "<g class=\"edge\" id=\"edge1\"><title>A-&gt;B</title>\n",
       "<path d=\"M55.2451,-71.6966C55.2451,-63.9827 55.2451,-54.7125 55.2451,-46.1124\" fill=\"none\" stroke=\"black\"/>\n",
       "<polygon fill=\"black\" points=\"58.7452,-46.1043 55.2451,-36.1043 51.7452,-46.1044 58.7452,-46.1043\" stroke=\"black\"/>\n",
       "</g>\n",
       "</g>\n",
       "</svg>"
      ],
      "text/plain": [
       "<IPython.core.display.SVG object>"
      ]
     },
     "execution_count": 60,
     "metadata": {},
     "output_type": "execute_result"
    }
   ],
   "source": [
    "# Crear un grafo direccional\n",
    "g2 = gv.Digraph(format=\"svg\")\n",
    "g2.node(\"A\", label=\"Primer nodo\")  # Las etiquetas reemplazan a los nombres de los nodos\n",
    "g2.node(\"B\")\n",
    "g2.edge(\"A\", \"B\")\n",
    "SVG(g2.render(\"img/g2\"))"
   ]
  },
  {
   "cell_type": "markdown",
   "metadata": {},
   "source": [
    "___________________________________\n",
    "\n",
    "## Aplicar estilos\n",
    "Podemos cambiar el color, la forma, la fuente... de grafos, nodos y uniones."
   ]
  },
  {
   "cell_type": "code",
   "execution_count": 61,
   "metadata": {},
   "outputs": [
    {
     "data": {
      "image/svg+xml": [
       "<svg height=\"215pt\" viewBox=\"0.00 0.00 154.00 215.00\" width=\"154pt\" xmlns=\"http://www.w3.org/2000/svg\" xmlns:xlink=\"http://www.w3.org/1999/xlink\">\n",
       "<g class=\"graph\" id=\"graph0\" transform=\"scale(1 1) rotate(0) translate(4 211)\">\n",
       "<title>%3</title>\n",
       "<polygon fill=\"#000000\" points=\"-4,4 -4,-211 150,-211 150,4 -4,4\" stroke=\"none\"/>\n",
       "<text fill=\"white\" font-family=\"Times,serif\" font-size=\"17.00\" text-anchor=\"middle\" x=\"73\" y=\"-9.4\">Un grafo con estilo</text>\n",
       "<!-- A -->\n",
       "<g class=\"node\" id=\"node1\"><title>A</title>\n",
       "<polygon fill=\"#006699\" points=\"113.5,-50.5623 86.5,-63 59.5,-50.5623 69.8131,-30.4377 103.187,-30.4377 113.5,-50.5623\" stroke=\"white\"/>\n",
       "<text fill=\"white\" font-family=\"Arial\" font-size=\"14.00\" text-anchor=\"middle\" x=\"86.5\" y=\"-41.3\">A</text>\n",
       "</g>\n",
       "<!-- B -->\n",
       "<g class=\"node\" id=\"node2\"><title>B</title>\n",
       "<polygon fill=\"#006699\" points=\"86.5,-122.562 59.5,-135 32.5,-122.562 42.8131,-102.438 76.1869,-102.438 86.5,-122.562\" stroke=\"white\"/>\n",
       "<text fill=\"white\" font-family=\"Arial\" font-size=\"14.00\" text-anchor=\"middle\" x=\"59.5\" y=\"-113.3\">B</text>\n",
       "</g>\n",
       "<!-- A&#45;&gt;B -->\n",
       "<g class=\"edge\" id=\"edge1\"><title>A-&gt;B</title>\n",
       "<path d=\"M80.9056,-60.504C77.3472,-69.7296 72.6573,-81.8885 68.5746,-92.4733\" fill=\"none\" stroke=\"white\" stroke-dasharray=\"5,2\"/>\n",
       "<polygon fill=\"white\" points=\"64.903,-101.992 64.3033,-91.0427 66.7024,-97.3272 68.5018,-92.6622 68.5018,-92.6622 68.5018,-92.6622 66.7024,-97.3272 72.7003,-94.2816 64.903,-101.992 64.903,-101.992\" stroke=\"white\"/>\n",
       "</g>\n",
       "<!-- C -->\n",
       "<g class=\"node\" id=\"node3\"><title>C</title>\n",
       "<polygon fill=\"#006699\" points=\"113.5,-194.562 86.5,-207 59.5,-194.562 69.8131,-174.438 103.187,-174.438 113.5,-194.562\" stroke=\"white\"/>\n",
       "<text fill=\"white\" font-family=\"Arial\" font-size=\"14.00\" text-anchor=\"middle\" x=\"86.5\" y=\"-185.3\">C</text>\n",
       "</g>\n",
       "<!-- A&#45;&gt;C -->\n",
       "<g class=\"edge\" id=\"edge3\"><title>A-&gt;C</title>\n",
       "<path d=\"M89.8758,-61.6814C91.9603,-72.1843 94.4337,-86.3518 95.5,-99 96.8441,-114.943 96.8441,-119.057 95.5,-135 94.6885,-144.626 93.0621,-155.131 91.4123,-164.232\" fill=\"none\" stroke=\"white\" stroke-dasharray=\"5,2\"/>\n",
       "<polygon fill=\"white\" points=\"89.5124,-174.133 86.9777,-163.464 90.4547,-169.223 91.397,-164.312 91.397,-164.312 91.397,-164.312 90.4547,-169.223 95.8164,-165.16 89.5124,-174.133 89.5124,-174.133\" stroke=\"white\"/>\n",
       "</g>\n",
       "<!-- B&#45;&gt;C -->\n",
       "<g class=\"edge\" id=\"edge2\"><title>B-&gt;C</title>\n",
       "<path d=\"M65.0944,-132.504C68.6528,-141.73 73.3427,-153.889 77.4254,-164.473\" fill=\"none\" stroke=\"white\" stroke-dasharray=\"5,2\"/>\n",
       "<polygon fill=\"white\" points=\"81.097,-173.992 73.2997,-166.282 79.2976,-169.327 77.4982,-164.662 77.4982,-164.662 77.4982,-164.662 79.2976,-169.327 81.6967,-163.043 81.097,-173.992 81.097,-173.992\" stroke=\"white\"/>\n",
       "</g>\n",
       "</g>\n",
       "</svg>"
      ],
      "text/plain": [
       "<IPython.core.display.SVG object>"
      ]
     },
     "execution_count": 61,
     "metadata": {},
     "output_type": "execute_result"
    }
   ],
   "source": [
    "g3 = gv.Digraph(format=\"svg\")\n",
    "\n",
    "for n in [\"A\", \"B\", \"C\"]:\n",
    "    g3.node(n)\n",
    "\n",
    "for e in [(\"A\", \"B\"), (\"B\", \"C\"), (\"A\", \"C\")]:\n",
    "    g3.edge(*e)\n",
    "\n",
    "# Actualizar estilos del grafo\n",
    "g3.graph_attr.update({\n",
    "    \"label\": \"Un grafo con estilo\", # Etiqueta del grafo\n",
    "    \"fontsize\": \"17\",               # Tamaño de la fuente\n",
    "    \"fontcolor\": \"white\",           # Color de la fuente\n",
    "    \"bgcolor\": \"#000000\",            # Color de fondo\n",
    "    \"rankdir\": \"BT\"                 # Dirección de las flechas, de abajo a arriba\n",
    "})\n",
    "\n",
    "# Actualizar estilos de los nodos\n",
    "g3.node_attr.update({\n",
    "    \"fontname\": \"Arial\",   # Tipo de fuente\n",
    "    \"shape\": \"pentagon\",   # Forma de los nodos\n",
    "    \"fontcolor\": \"white\",  # Color de la fuente\n",
    "    \"color\": \"white\",      # Color del nodo\n",
    "    \"style\": \"filled\",     # Estilo del color\n",
    "    \"fillcolor\": \"#006699\" # Color del relleno\n",
    "})\n",
    "\n",
    "# Actualizar estilos de las uniones\n",
    "g3.edge_attr.update({\n",
    "    \"style\": \"dashed\",    # Estilo de las uniones (discontinuas)\n",
    "    \"color\": \"white\",\n",
    "    \"arrowhead\": \"open\",  # Estilo de las puntas de las flechas\n",
    "})\n",
    "\n",
    "SVG(g3.render(\"img/g3\"))\n"
   ]
  },
  {
   "cell_type": "markdown",
   "metadata": {},
   "source": [
    "________________________________________\n",
    "\n",
    "## Aproximación con programación funcional\n",
    "Podemos crear unas funciones de ayuda que nos permitan jugar fácilmente con los grafos, ya que la forma anterior de crearlos es demasiado ineficiente cuando tratamos con muchos nodos:"
   ]
  },
  {
   "cell_type": "code",
   "execution_count": 62,
   "metadata": {},
   "outputs": [],
   "source": [
    "from functools import partial\n",
    "graph = partial(gv.Graph, format=\"svg\")\n",
    "digraph = partial(gv.Digraph, format=\"svg\")\n",
    "\n",
    "# Ahora podemos crear gráficos en SVG simplemente ejecutando:\n",
    "g4 = digraph()\n",
    "g4.node(\"D\")\n",
    "g4.edge(\"D\", \"C\", color=\"green\")"
   ]
  },
  {
   "cell_type": "markdown",
   "metadata": {},
   "source": [
    "________________________________\n",
    "\n",
    "## Combinar grafos en subgrafos\n",
    "Podemos añadir parte de un grafo a otro, siempre y cuando los grafos sean del mismo tipo."
   ]
  },
  {
   "cell_type": "code",
   "execution_count": 66,
   "metadata": {},
   "outputs": [],
   "source": [
    "g3.subgraph(g4)\n",
    "SVG(g3.render(\"img/g3\"))"
   ]
  },
  {
   "cell_type": "markdown",
   "metadata": {},
   "source": [
    "__________________________________\n",
    "\n",
    "## Visualizar grafos\n",
    "Ahora no lo estoy haciendo así porque puedo abrirlo gŕaficamente en el notebook, pero si estamos en un entorno de puro Python la siguiente función puede serte muy útil: "
   ]
  },
  {
   "cell_type": "code",
   "execution_count": null,
   "metadata": {},
   "outputs": [],
   "source": [
    "# Visualizar grafos con el programa que tengas configurado \n",
    "# por defecto para abrir el tipo de archivo del cual se trata\n",
    "gv.view(\"img/g3.svg\")"
   ]
  },
  {
   "cell_type": "markdown",
   "metadata": {},
   "source": [
    "_____________________________________________\n",
    "\n",
    "\n",
    "> Fuentes:\n",
    "- http://matthiaseisen.com/articles/graphviz/"
   ]
  }
 ],
 "metadata": {
  "kernelspec": {
   "display_name": "Python 3",
   "language": "python",
   "name": "python3"
  },
  "language_info": {
   "codemirror_mode": {
    "name": "ipython",
    "version": 3
   },
   "file_extension": ".py",
   "mimetype": "text/x-python",
   "name": "python",
   "nbconvert_exporter": "python",
   "pygments_lexer": "ipython3",
   "version": "3.5.3"
  }
 },
 "nbformat": 4,
 "nbformat_minor": 2
}
