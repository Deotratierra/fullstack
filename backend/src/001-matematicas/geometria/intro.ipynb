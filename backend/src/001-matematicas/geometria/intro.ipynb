{
 "cells": [
  {
   "cell_type": "markdown",
   "metadata": {},
   "source": [
    "# <center>Geometría básica</center>\n",
    "\n",
    "## Fórmulas \n",
    "|  Figura              |   Área                          | Perímetro  |    Volumen                      |\n",
    "|---------------------:|:-------------------------------:|:----------:|:-------------------------------:|\n",
    "| Rectángulo           | $b \\cdot h$                     |  $2b + 2h$ |                                 |\n",
    "| Triángulo            | $\\frac{b \\cdot h}{2}$           |            |                                 |\n",
    "| Círculo              | $\\pi r^2$                       | $2 \\pi r$  |                                 |\n",
    "| Prisma rectangular   |                                 |            | $bb \\cdot bh \\cdot h$           |\n",
    "| Prisma triangular    |                                 |            | $\\frac{bb \\cdot bh}{2} \\cdot h$ |\n",
    "| Cilindro             | $\\pi r^2 + 2 \\pi r h$           |            | $\\pi r^2 h$                     |\n",
    "| Esfera               | $4 \\pi r^2$                     |            | $\\frac{4}{3}\\pi r^3$            |\n",
    "| Cono                 |                                 |            | $\\frac{\\pi r^2 h}{3}$           |\n"
   ]
  },
  {
   "cell_type": "code",
   "execution_count": null,
   "metadata": {},
   "outputs": [],
   "source": []
  }
 ],
 "metadata": {
  "kernelspec": {
   "display_name": "Python 3",
   "language": "python",
   "name": "python3"
  },
  "language_info": {
   "codemirror_mode": {
    "name": "ipython",
    "version": 3
   },
   "file_extension": ".py",
   "mimetype": "text/x-python",
   "name": "python",
   "nbconvert_exporter": "python",
   "pygments_lexer": "ipython3",
   "version": "3.7.0a4"
  }
 },
 "nbformat": 4,
 "nbformat_minor": 2
}
