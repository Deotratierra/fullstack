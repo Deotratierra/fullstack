{
 "cells": [
  {
   "cell_type": "markdown",
   "metadata": {},
   "source": [
    "## <center>Introducción a la estadística descriptiva</center>\n",
    "\n",
    "Es la parte de la estadística que se dedica a recolectar, ordenar, analizar y representar a un conjunto de datos, con el fin de describir apropiadamente las características de este. Calcula los parámetros estadísticos que describen el conjunto estudiado. Algunas de las herramientas que utiliza son gráficos, medidas de frecuencias, medidas de centralización, medidas de posición, medidas de dispersión, entre otras.\n"
   ]
  },
  {
   "cell_type": "code",
   "execution_count": 1,
   "metadata": {},
   "outputs": [
    {
     "data": {
      "text/plain": [
       "array([[ 2.19464324, -0.79196312,  0.29130273,  1.84377333],\n",
       "       [-1.45766187,  1.01691967,  1.16609156, -1.68622677],\n",
       "       [-0.71786341,  0.80893434, -1.5225427 , -0.49459456],\n",
       "       [-1.47426545, -0.83371879, -1.19203707, -0.17049824]])"
      ]
     },
     "execution_count": 1,
     "metadata": {},
     "output_type": "execute_result"
    }
   ],
   "source": [
    "import numpy as np\n",
    "import pandas as pd\n",
    "from scipy import stats\n",
    "\n",
    "# Generamos un conjunto de datos aleatorios:\n",
    "datos = np.random.randn(4, 4) # Matriz 4x4\n",
    "datos"
   ]
  },
  {
   "cell_type": "markdown",
   "metadata": {},
   "source": [
    "\n",
    "### Media aritmética\n",
    "Valor obtenido al sumar todos los datos y dividir el resultado entre el número total elementos. Se suele representar con la letra griega $\\mu$. Si tenemos una muestra de n valores, $x_i$, la media aritmética, $\\mu$, es la suma de los valores divididos por el numero de elementos; en otras palabras: \n",
    "\n",
    "<center> $\\mu = \\frac{1}{n}\\sum\\limits_{i}x_i$ </center>"
   ]
  },
  {
   "cell_type": "code",
   "execution_count": 2,
   "metadata": {},
   "outputs": [
    {
     "name": "stdout",
     "output_type": "stream",
     "text": [
      "-0.188731694423\n",
      "[ 0.88443904 -0.24021935 -0.48151658 -0.91762989]\n",
      "[-0.36378687  0.05004302 -0.31429637 -0.12688656]\n"
     ]
    }
   ],
   "source": [
    "media = datos.mean()\n",
    "# np.mean(datos)  # <-- También\n",
    "print(media)\n",
    "\n",
    "# Media de cada fila:\n",
    "print(datos.mean(axis=1))\n",
    "\n",
    "# Media de cada columna\n",
    "print(datos.mean(axis=0))"
   ]
  },
  {
   "cell_type": "markdown",
   "metadata": {},
   "source": [
    "_______________________________\n",
    "\n",
    "### Mediana\n",
    "Es el valor que ocupa el lugar central de todos los datos cuando estos están ordenados de menor a mayor. Se representa con $\\widetilde{x}$."
   ]
  },
  {
   "cell_type": "code",
   "execution_count": 3,
   "metadata": {},
   "outputs": [
    {
     "data": {
      "text/plain": [
       "-0.60622898353835686"
      ]
     },
     "execution_count": 3,
     "metadata": {},
     "output_type": "execute_result"
    }
   ],
   "source": [
    "np.median(datos)"
   ]
  },
  {
   "cell_type": "markdown",
   "metadata": {},
   "source": [
    "_______________________________\n",
    "\n",
    "### Moda\n",
    "Valor que tiene mayor frecuencia absoluta. Se representa con $M_0$."
   ]
  },
  {
   "cell_type": "code",
   "execution_count": 4,
   "metadata": {},
   "outputs": [
    {
     "data": {
      "text/plain": [
       "ModeResult(mode=array([[-1.47426545, -0.83371879, -1.5225427 , -1.68622677]]), count=array([[1, 1, 1, 1]]))"
      ]
     },
     "execution_count": 4,
     "metadata": {},
     "output_type": "execute_result"
    }
   ],
   "source": [
    "stats.mode(datos) # Devuelve un array con la moda de cada columna y otro con la frecuencia"
   ]
  },
  {
   "cell_type": "markdown",
   "metadata": {},
   "source": [
    "________________________________\n",
    "\n",
    "### Desviación respecto a la media\n",
    "Diferencia en valor absoluto entre cada valor de la variable estadística y la media aritmética:\n",
    "<center> $D_i = | x_i - \\mu | $ </center>\n"
   ]
  },
  {
   "cell_type": "code",
   "execution_count": 5,
   "metadata": {},
   "outputs": [
    {
     "data": {
      "text/plain": [
       "array([[ 2.38337493, -0.60323143,  0.48003443,  2.03250502],\n",
       "       [-1.26893017,  1.20565136,  1.35482326, -1.49749507],\n",
       "       [-0.52913172,  0.99766603, -1.33381101, -0.30586286],\n",
       "       [-1.28553376, -0.6449871 , -1.00330538,  0.01823346]])"
      ]
     },
     "execution_count": 5,
     "metadata": {},
     "output_type": "execute_result"
    }
   ],
   "source": [
    "datos - media"
   ]
  },
  {
   "cell_type": "markdown",
   "metadata": {},
   "source": [
    "_______________________________\n",
    "\n",
    "### Varianza\n",
    "Media aritmética del cuadrado de las desviaciones respecto a la media de una distribución estádistica. La varianza intenta describir la **dispersión de los datos**. Se representa como $\\sigma^2$.\n",
    "<center>$\\sigma^2 = \\frac{\\sum\\limits_{i=1}^n(x_i - \\mu)^2}{n}$</center>"
   ]
  },
  {
   "cell_type": "code",
   "execution_count": 6,
   "metadata": {},
   "outputs": [
    {
     "data": {
      "text/plain": [
       "1.485698236680145"
      ]
     },
     "execution_count": 6,
     "metadata": {},
     "output_type": "execute_result"
    }
   ],
   "source": [
    "np.var(datos)"
   ]
  },
  {
   "cell_type": "markdown",
   "metadata": {},
   "source": [
    "_______________________________\n",
    "\n",
    "### Desviación estándar\n",
    "Es la raíz cuadrada de la varianza. Se representa con la letra griega $\\sigma$. Mide cuánto se separan los datos. Así, para cada valor se tiene una forma de saber si es muy grande, muy pequeño o normal.\n",
    "<center>$ \\sigma = \\sqrt{\\frac{\\sum\\limits_{i=1}^n(x_i - \\mu)^2}{n}}$</center>"
   ]
  },
  {
   "cell_type": "code",
   "execution_count": 7,
   "metadata": {},
   "outputs": [
    {
     "name": "stdout",
     "output_type": "stream",
     "text": [
      "1.21889221701\n"
     ]
    }
   ],
   "source": [
    "stdev = np.std(datos)\n",
    "print(stdev)"
   ]
  },
  {
   "cell_type": "code",
   "execution_count": 8,
   "metadata": {},
   "outputs": [
    {
     "data": {
      "text/plain": [
       "array([ 1.50836501,  0.86613737,  1.09414197,  1.27005447])"
      ]
     },
     "execution_count": 8,
     "metadata": {},
     "output_type": "execute_result"
    }
   ],
   "source": [
    "# Desviación de cada columna\n",
    "np.std(datos, 0)"
   ]
  },
  {
   "cell_type": "markdown",
   "metadata": {},
   "source": [
    "\n",
    "_______________________________\n",
    "\n",
    "### Covarianza\n",
    "Es el equivalente de la varianza aplicado a una variable bidimensional. Es la media aritmética de los productos de las desviaciones de cada una de las variables respecto a sus medias respectivas. La covarianza indica el sentido de la correlación entre las variables; Si $\\sigma_xy > 0$ la correlación es directa; Si $\\sigma_xy<0$ la correlación es inversa.\n",
    "<center>$\\sigma_{xy} = \\frac{\\sum\\limits_{i=1}^n(x_i - \\mu_x)(y_i -\\mu_y)}{n}$</center>"
   ]
  },
  {
   "cell_type": "code",
   "execution_count": 9,
   "metadata": {},
   "outputs": [
    {
     "data": {
      "text/plain": [
       "array([[ 1.93303073, -1.97463581, -0.62268436,  0.00317829],\n",
       "       [-1.97463581,  2.37707087,  0.15497311, -0.2277    ],\n",
       "       [-0.62268436,  0.15497311,  0.93500994,  0.17191209],\n",
       "       [ 0.00317829, -0.2277    ,  0.17191209,  0.31679641]])"
      ]
     },
     "execution_count": 9,
     "metadata": {},
     "output_type": "execute_result"
    }
   ],
   "source": [
    "np.cov(datos) # calcula matriz de covarianza"
   ]
  },
  {
   "cell_type": "markdown",
   "metadata": {},
   "source": [
    "\n",
    "_______________________________\n",
    "\n",
    "### Correlación\n",
    "Trata de establecer la relación o dependencia que existe entre las dos variables que intervienen en una distribución bidimensional. Es decir, determinar si los cambios en una de las variables influyen en los cambios de la otra. En caso de que suceda, diremos que las variables están correlacionadas o que hay correlación entre ellas. La correlación es positiva cuando los valores de las variables aumenta juntos; y es negativa cuando un valor de una variable se reduce cuando el valor de la otra variable aumenta."
   ]
  },
  {
   "cell_type": "code",
   "execution_count": 10,
   "metadata": {},
   "outputs": [
    {
     "data": {
      "text/plain": [
       "array([[ 1.        , -0.92118438, -0.46317004,  0.00406148],\n",
       "       [-0.92118438,  1.        ,  0.10395064, -0.26239276],\n",
       "       [-0.46317004,  0.10395064,  1.        ,  0.31586986],\n",
       "       [ 0.00406148, -0.26239276,  0.31586986,  1.        ]])"
      ]
     },
     "execution_count": 10,
     "metadata": {},
     "output_type": "execute_result"
    }
   ],
   "source": [
    "np.corrcoef(datos) # Crea matriz de correlación."
   ]
  },
  {
   "cell_type": "code",
   "execution_count": 11,
   "metadata": {},
   "outputs": [
    {
     "data": {
      "text/plain": [
       "array([[ 1.        , -0.92118438],\n",
       "       [-0.92118438,  1.        ]])"
      ]
     },
     "execution_count": 11,
     "metadata": {},
     "output_type": "execute_result"
    }
   ],
   "source": [
    "# Correlación entre dos vectores.\n",
    "np.corrcoef(datos[0], datos[1])"
   ]
  },
  {
   "cell_type": "markdown",
   "metadata": {},
   "source": [
    "\n",
    "_______________________________\n",
    "\n",
    "### Valor atípico\n",
    "Un valor atípico es una observación que se aleja demasiado de la moda; esta muy lejos de la tendencia principal del resto de los datos. Pueden ser causados por errores en la recolección de datos o medidas inusuales. Generalmente se recomienda eliminarlos del conjunto de datos."
   ]
  },
  {
   "cell_type": "code",
   "execution_count": null,
   "metadata": {},
   "outputs": [],
   "source": []
  }
 ],
 "metadata": {
  "kernelspec": {
   "display_name": "Python 3",
   "language": "python",
   "name": "python3"
  },
  "language_info": {
   "codemirror_mode": {
    "name": "ipython",
    "version": 3
   },
   "file_extension": ".py",
   "mimetype": "text/x-python",
   "name": "python",
   "nbconvert_exporter": "python",
   "pygments_lexer": "ipython3",
   "version": "3.5.3"
  }
 },
 "nbformat": 4,
 "nbformat_minor": 2
}
