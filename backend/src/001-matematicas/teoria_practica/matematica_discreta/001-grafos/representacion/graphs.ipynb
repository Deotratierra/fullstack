{
 "cells": [
  {
   "cell_type": "markdown",
   "metadata": {},
   "source": [
    "# <center> Representación de grafos </center>\n",
    "\n"
   ]
  },
  {
   "cell_type": "code",
   "execution_count": 7,
   "metadata": {},
   "outputs": [
    {
     "data": {
      "text/html": [
       "<img src=\"https://s20.postimg.org/t6lwyrrtp/Connexe_et_pas_connexe.png\"/>"
      ],
      "text/plain": [
       "<IPython.core.display.Image object>"
      ]
     },
     "execution_count": 7,
     "metadata": {},
     "output_type": "execute_result"
    }
   ],
   "source": [
    "from pprint import pprint\n",
    "\n",
    "from IPython.display import Image\n",
    "Image(url=\"https://s20.postimg.org/t6lwyrrtp/Connexe_et_pas_connexe.png\")"
   ]
  },
  {
   "cell_type": "markdown",
   "metadata": {},
   "source": [
    "Para representar los grafos anteriores en lenguajes de programación, típicamente se emplean conjuntos.\n",
    "\n",
    "### Python"
   ]
  },
  {
   "cell_type": "code",
   "execution_count": 19,
   "metadata": {},
   "outputs": [
    {
     "name": "stdout",
     "output_type": "stream",
     "text": [
      "[(1, 2), (1, 4), (2, 1), (2, 5), (3, 2), (4, 1), (4, 5), (5, 2), (5, 4)]\n",
      "\n",
      "[(1, 2), (2, 1), (2, 3), (3, 2), (4, 5), (5, 4)]\n",
      "\n"
     ]
    }
   ],
   "source": [
    "grafo1 = {\n",
    "    1: [2, 4],\n",
    "    2: [1, 5],\n",
    "    3: [2],\n",
    "    4: [1, 5],\n",
    "    5: [2, 4]\n",
    "}\n",
    "\n",
    "grafo2 = {\n",
    "    1: [2],\n",
    "    2: [1, 3],\n",
    "    3: [2],\n",
    "    4: [5],\n",
    "    5: [4]\n",
    "}\n",
    "\n",
    "# ==============================================\n",
    "\n",
    "# Generar todos los caminos entre nodos\n",
    "def generar_rutas(grafo):\n",
    "    for nodo, vecinos in grafo.items():\n",
    "        for vecino in vecinos:\n",
    "            yield (nodo, vecino)\n",
    "\n",
    "for grafo in [grafo1, grafo2]:\n",
    "    print(\"%r\\n\" % list(generar_rutas(grafo)))\n",
    "    \n",
    "# ==============================================\n",
    "    \n",
    "# Obtener los nodos solitarios\n",
    "def buscar_nodos_solitarios(grafo):\n",
    "    for nodo, vecinos in grafo.items():\n",
    "        if not vecinos:\n",
    "            yield nodo\n",
    "    "
   ]
  },
  {
   "cell_type": "markdown",
   "metadata": {},
   "source": [
    "> Fuentes:\n",
    "- https://www.python-course.eu/graphs_python.php"
   ]
  },
  {
   "cell_type": "code",
   "execution_count": null,
   "metadata": {},
   "outputs": [],
   "source": []
  }
 ],
 "metadata": {
  "kernelspec": {
   "display_name": "Python 3",
   "language": "python",
   "name": "python3"
  },
  "language_info": {
   "codemirror_mode": {
    "name": "ipython",
    "version": 3
   },
   "file_extension": ".py",
   "mimetype": "text/x-python",
   "name": "python",
   "nbconvert_exporter": "python",
   "pygments_lexer": "ipython3",
   "version": "3.5.3"
  }
 },
 "nbformat": 4,
 "nbformat_minor": 2
}
