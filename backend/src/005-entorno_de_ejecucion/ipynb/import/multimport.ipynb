{
 "cells": [
  {
   "cell_type": "markdown",
   "metadata": {},
   "source": [
    "## <center> Importar módulos en varios lenguajes </center>"
   ]
  },
  {
   "cell_type": "markdown",
   "metadata": {},
   "source": [
    "### Importar biblioteca ruby"
   ]
  },
  {
   "cell_type": "code",
   "execution_count": 1,
   "metadata": {},
   "outputs": [
    {
     "name": "stdout",
     "output_type": "stream",
     "text": [
      "String\n",
      "Hash\n",
      "que tal\n"
     ]
    }
   ],
   "source": [
    "%%ruby\n",
    "require \"json\"\n",
    "\n",
    "texto = '{\"hola\": \"que tal\"}'\n",
    "puts texto.class  #  String\n",
    "\n",
    "response = JSON.parse(texto)\n",
    "puts response.class  #  Hash\n",
    "\n",
    "puts response[\"hola\"]  # que tal"
   ]
  },
  {
   "cell_type": "markdown",
   "metadata": {},
   "source": [
    "____________________________________\n",
    "\n",
    "### Importar biblioteca Javascript"
   ]
  },
  {
   "cell_type": "code",
   "execution_count": 2,
   "metadata": {},
   "outputs": [],
   "source": [
    "from IPython.display import display_html, display_javascript\n",
    "\n",
    "html_string = \"\"\"\n",
    "<svg width=\"400\" height=\"200\"></svg>\n",
    "\n",
    "<script src=\"https://d3js.org/d3.v4.min.js\"></script>\n",
    "\"\"\"\n",
    "\n",
    "js_string=\"\"\"\n",
    "console.log(d3);\n",
    "\n",
    "var svg = d3.select(\"svg\");\n",
    "var circle = svg.append(\"circle\")\n",
    "    .attr(\"cx\", 100)\n",
    "    .attr(\"cy\", 100)\n",
    "    .attr(\"r\", 40)\n",
    "    .attr(\"fill\", \"blue\")\n",
    "    .attr(\"stroke\", \"black\");\n",
    "\n",
    " \"\"\"\n",
    "\n",
    "display_html(html_string)\n",
    "display_javascript(js_string)"
   ]
  }
 ],
 "metadata": {
  "kernelspec": {
   "display_name": "Python 3",
   "language": "python",
   "name": "python3"
  },
  "language_info": {
   "codemirror_mode": {
    "name": "ipython",
    "version": 3
   },
   "file_extension": ".py",
   "mimetype": "text/x-python",
   "name": "python",
   "nbconvert_exporter": "python",
   "pygments_lexer": "ipython3",
   "version": "3.4.2"
  }
 },
 "nbformat": 4,
 "nbformat_minor": 2
}
