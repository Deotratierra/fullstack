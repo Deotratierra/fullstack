{
 "cells": [
  {
   "cell_type": "markdown",
   "metadata": {},
   "source": [
    "# <center>Crea tus propias funciones mágicas con IPython</center>"
   ]
  },
  {
   "cell_type": "markdown",
   "metadata": {},
   "source": [
    "Vamos a crear una función mágica para obtener ayuda de la biblioteca estándar de Python fácilmente."
   ]
  },
  {
   "cell_type": "code",
   "execution_count": 2,
   "metadata": {},
   "outputs": [],
   "source": [
    "import requests\n",
    "import re\n",
    "from IPython.display import IFrame"
   ]
  },
  {
   "cell_type": "markdown",
   "metadata": {},
   "source": [
    "Extraemos la lista de módulos de la [documentación de python](https://docs.python.org/3/py-modindex.html). Hay otras formas pero esto es un ejemplo conveniente para aprender."
   ]
  },
  {
   "cell_type": "code",
   "execution_count": 5,
   "metadata": {},
   "outputs": [
    {
     "data": {
      "text/plain": [
       "['__future__',\n",
       " '__main__',\n",
       " '_dummy_thread',\n",
       " '_thread',\n",
       " 'abc',\n",
       " 'aifc',\n",
       " 'argparse',\n",
       " 'array',\n",
       " 'ast',\n",
       " 'asynchat',\n",
       " 'asyncio',\n",
       " 'asyncore',\n",
       " 'atexit',\n",
       " 'audioop',\n",
       " 'base64',\n",
       " 'bdb',\n",
       " 'binascii',\n",
       " 'binhex',\n",
       " 'bisect',\n",
       " 'builtins',\n",
       " 'bz2',\n",
       " 'calendar',\n",
       " 'cgi',\n",
       " 'cgitb',\n",
       " 'chunk',\n",
       " 'cmath',\n",
       " 'cmd',\n",
       " 'code',\n",
       " 'codecs',\n",
       " 'codeop',\n",
       " 'collections',\n",
       " 'collections.abc',\n",
       " 'colorsys',\n",
       " 'compileall',\n",
       " 'concurrent.futures',\n",
       " 'configparser',\n",
       " 'contextlib',\n",
       " 'copy',\n",
       " 'copyreg',\n",
       " 'profile',\n",
       " 'crypt',\n",
       " 'csv',\n",
       " 'ctypes',\n",
       " 'curses',\n",
       " 'curses.ascii',\n",
       " 'curses.panel',\n",
       " 'curses',\n",
       " 'datetime',\n",
       " 'dbm',\n",
       " 'dbm',\n",
       " 'dbm',\n",
       " 'dbm',\n",
       " 'decimal',\n",
       " 'difflib',\n",
       " 'dis',\n",
       " 'distutils',\n",
       " 'doctest',\n",
       " 'dummy_threading',\n",
       " 'email',\n",
       " 'email.charset',\n",
       " 'email.contentmanager',\n",
       " 'email.encoders',\n",
       " 'email.errors',\n",
       " 'email.generator',\n",
       " 'email.header',\n",
       " 'email.headerregistry',\n",
       " 'email.iterators',\n",
       " 'email.message',\n",
       " 'email.mime',\n",
       " 'email.parser',\n",
       " 'email.policy',\n",
       " 'email.util',\n",
       " 'codecs',\n",
       " 'codecs',\n",
       " 'codecs',\n",
       " 'ensurepip',\n",
       " 'enum',\n",
       " 'errno',\n",
       " 'faulthandler',\n",
       " 'fcntl',\n",
       " 'filecmp',\n",
       " 'fileinput',\n",
       " 'fnmatch',\n",
       " 'formatter',\n",
       " 'fpectl',\n",
       " 'fractions',\n",
       " 'ftplib',\n",
       " 'functools',\n",
       " 'gc',\n",
       " 'getopt',\n",
       " 'getpass',\n",
       " 'gettext',\n",
       " 'glob',\n",
       " 'grp',\n",
       " 'gzip',\n",
       " 'hashlib',\n",
       " 'heapq',\n",
       " 'hmac',\n",
       " 'html.html#module',\n",
       " 'html.entities.html#module',\n",
       " 'html.parser.html#module',\n",
       " 'http',\n",
       " 'http.client',\n",
       " 'http.cookiejar',\n",
       " 'http.cookies',\n",
       " 'http.server',\n",
       " 'imaplib',\n",
       " 'imghdr',\n",
       " 'imp',\n",
       " 'importlib',\n",
       " 'importlib',\n",
       " 'importlib',\n",
       " 'importlib',\n",
       " 'inspect',\n",
       " 'io',\n",
       " 'ipaddress',\n",
       " 'itertools',\n",
       " 'json',\n",
       " 'json',\n",
       " 'keyword',\n",
       " '2to3',\n",
       " 'linecache',\n",
       " 'locale',\n",
       " 'logging',\n",
       " 'logging.config',\n",
       " 'logging.handlers',\n",
       " 'lzma',\n",
       " 'macpath',\n",
       " 'mailbox',\n",
       " 'mailcap',\n",
       " 'marshal',\n",
       " 'math',\n",
       " 'mimetypes',\n",
       " 'mmap',\n",
       " 'modulefinder',\n",
       " 'msilib',\n",
       " 'msvcrt',\n",
       " 'multiprocessing',\n",
       " 'multiprocessing',\n",
       " 'multiprocessing',\n",
       " 'multiprocessing',\n",
       " 'multiprocessing',\n",
       " 'multiprocessing',\n",
       " 'netrc',\n",
       " 'nis',\n",
       " 'nntplib',\n",
       " 'numbers',\n",
       " 'operator',\n",
       " 'optparse',\n",
       " 'os',\n",
       " 'os.path',\n",
       " 'ossaudiodev',\n",
       " 'parser',\n",
       " 'pathlib',\n",
       " 'pdb',\n",
       " 'pickle',\n",
       " 'pickletools',\n",
       " 'pipes',\n",
       " 'pkgutil',\n",
       " 'platform',\n",
       " 'plistlib',\n",
       " 'poplib',\n",
       " 'posix',\n",
       " 'pprint',\n",
       " 'profile',\n",
       " 'profile',\n",
       " 'pty',\n",
       " 'pwd',\n",
       " 'py_compile',\n",
       " 'pyclbr',\n",
       " 'pydoc',\n",
       " 'queue',\n",
       " 'quopri',\n",
       " 'random',\n",
       " 're',\n",
       " 'readline',\n",
       " 'reprlib',\n",
       " 'resource',\n",
       " 'rlcompleter',\n",
       " 'runpy',\n",
       " 'sched',\n",
       " 'secrets',\n",
       " 'select',\n",
       " 'selectors',\n",
       " 'shelve',\n",
       " 'shlex',\n",
       " 'shutil',\n",
       " 'signal',\n",
       " 'site',\n",
       " 'smtpd',\n",
       " 'smtplib',\n",
       " 'sndhdr',\n",
       " 'socket',\n",
       " 'socketserver',\n",
       " 'spwd',\n",
       " 'sqlite3',\n",
       " 'ssl',\n",
       " 'stat',\n",
       " 'statistics',\n",
       " 'string',\n",
       " 'stringprep',\n",
       " 'struct',\n",
       " 'subprocess',\n",
       " 'sunau',\n",
       " 'symbol',\n",
       " 'symtable',\n",
       " 'sys',\n",
       " 'sysconfig',\n",
       " 'syslog',\n",
       " 'tabnanny',\n",
       " 'tarfile',\n",
       " 'telnetlib',\n",
       " 'tempfile',\n",
       " 'termios',\n",
       " 'test',\n",
       " 'test',\n",
       " 'textwrap',\n",
       " 'threading',\n",
       " 'time',\n",
       " 'timeit',\n",
       " 'tkinter',\n",
       " 'tkinter.scrolledtext',\n",
       " 'tkinter.tix',\n",
       " 'tkinter.ttk',\n",
       " 'token',\n",
       " 'tokenize',\n",
       " 'trace',\n",
       " 'traceback',\n",
       " 'tracemalloc',\n",
       " 'tty',\n",
       " 'turtle',\n",
       " 'turtle',\n",
       " 'types',\n",
       " 'typing',\n",
       " 'unicodedata',\n",
       " 'unittest',\n",
       " 'unittest.mock',\n",
       " 'urllib',\n",
       " 'urllib.error',\n",
       " 'urllib.parse',\n",
       " 'urllib.request',\n",
       " 'urllib.request',\n",
       " 'urllib.robotparser',\n",
       " 'uu',\n",
       " 'uuid',\n",
       " 'venv',\n",
       " 'warnings',\n",
       " 'wave',\n",
       " 'weakref',\n",
       " 'webbrowser',\n",
       " 'winreg',\n",
       " 'winsound',\n",
       " 'wsgiref',\n",
       " 'wsgiref',\n",
       " 'wsgiref',\n",
       " 'wsgiref',\n",
       " 'wsgiref',\n",
       " 'wsgiref',\n",
       " 'xdrlib',\n",
       " 'xml',\n",
       " 'xml.dom',\n",
       " 'xml.dom.minidom',\n",
       " 'xml.dom.pulldom',\n",
       " 'xml.etree.elementtree',\n",
       " 'pyexpat',\n",
       " 'pyexpat',\n",
       " 'pyexpat',\n",
       " 'xml.sax',\n",
       " 'xml.sax.handler',\n",
       " 'xml.sax.utils',\n",
       " 'xml.sax.reader',\n",
       " 'xmlrpc.client',\n",
       " 'xmlrpc.server',\n",
       " 'zipapp',\n",
       " 'zipfile',\n",
       " 'zipimport',\n",
       " 'zlib']"
      ]
     },
     "execution_count": 5,
     "metadata": {},
     "output_type": "execute_result"
    }
   ],
   "source": [
    "mods = requests.get(\"https://docs.python.org/3.6/py-modindex.html\").content\n",
    "\n",
    "modules = re.findall(r'library/([^\\'\" >]+).html', str(mods))\n",
    "modules"
   ]
  },
  {
   "cell_type": "markdown",
   "metadata": {},
   "source": [
    "Podemos mostrar la ayuda dentro de un IFrame:"
   ]
  },
  {
   "cell_type": "code",
   "execution_count": 6,
   "metadata": {},
   "outputs": [
    {
     "data": {
      "text/html": [
       "\n",
       "        <iframe\n",
       "            width=\"100%\"\n",
       "            height=\"400px\"\n",
       "            src=\"https://docs.python.org/3/library/__future__.html#module-__future__\"\n",
       "            frameborder=\"0\"\n",
       "            allowfullscreen\n",
       "        ></iframe>\n",
       "        "
      ],
      "text/plain": [
       "<IPython.lib.display.IFrame at 0x7f538a23a7f0>"
      ]
     },
     "execution_count": 6,
     "metadata": {},
     "output_type": "execute_result"
    }
   ],
   "source": [
    "url = \"https://docs.python.org/3/library/{0}.html#module-{0}\"\n",
    "IFrame(url.format(\"__future__\"), width = \"100%\", height = \"400px\")"
   ]
  },
  {
   "cell_type": "markdown",
   "metadata": {},
   "source": [
    "### Estructura de una función mágica"
   ]
  },
  {
   "cell_type": "markdown",
   "metadata": {},
   "source": [
    "> **De la documentación oficial de IPython: [definiendo funciones mágicas personalizadas](https://ipython.org/ipython-doc/3/config/custommagics.html)**\n",
    "\n",
    "Existen dos maneras de crear una función mágica: \n",
    "\n",
    "* desde funciones autónomas\n",
    "* heredando de una clase base provista por IPython: `IPython.core.magic.Magics`.\n",
    "\n",
    "Las funciones mágicas pueden funcionar como:\n",
    "\n",
    "* line magic (`from IPython.core.magic import register_line_magic`)\n",
    "* cell magic (`from IPython.core.magic import register_cell_magic`)\n",
    "* Ambos casos anteriores (`from IPython.core.magic import register_line_cell_magic`)"
   ]
  },
  {
   "cell_type": "markdown",
   "metadata": {},
   "source": [
    "### 1) - El caso más simple, usando funciones y registrándolas"
   ]
  },
  {
   "cell_type": "code",
   "execution_count": 7,
   "metadata": {},
   "outputs": [],
   "source": [
    "from IPython.core.magic import register_line_magic\n",
    "\n",
    "# imports\n",
    "import requests\n",
    "import re\n",
    "from IPython.display import IFrame, HTML\n",
    "\n",
    "@register_line_magic\n",
    "def stdlib_help(module):\n",
    "    # list of modules\n",
    "    mods = requests.get(\"https://docs.python.org/3/py-modindex.html\")\n",
    "    mods = mods.content\n",
    "    modules = re.findall(r'library/([^\\'\" >]+).html', str(mods))\n",
    "    \n",
    "    # Check if argument is a stdlib module\n",
    "    if module in modules:\n",
    "        url = \"https://docs.python.org/3/library/{0}.html#module-{0}\"\n",
    "        return IFrame(url.format(module), width = \"100%\", height = \"400px\")\n",
    "    else:\n",
    "        return HTML(\"<p><strong>\"+module+\"</strong> is not part of the CPython3.4 stdlib</p>\")"
   ]
  },
  {
   "cell_type": "code",
   "execution_count": 8,
   "metadata": {},
   "outputs": [
    {
     "data": {
      "text/html": [
       "\n",
       "        <iframe\n",
       "            width=\"100%\"\n",
       "            height=\"400px\"\n",
       "            src=\"https://docs.python.org/3/library/re.html#module-re\"\n",
       "            frameborder=\"0\"\n",
       "            allowfullscreen\n",
       "        ></iframe>\n",
       "        "
      ],
      "text/plain": [
       "<IPython.lib.display.IFrame at 0x7f5389911400>"
      ]
     },
     "execution_count": 8,
     "metadata": {},
     "output_type": "execute_result"
    }
   ],
   "source": [
    "%stdlib_help re"
   ]
  },
  {
   "cell_type": "code",
   "execution_count": 9,
   "metadata": {},
   "outputs": [
    {
     "data": {
      "text/html": [
       "<p><strong>regex</strong> is not part of the CPython3.4 stdlib</p>"
      ],
      "text/plain": [
       "<IPython.core.display.HTML object>"
      ]
     },
     "execution_count": 9,
     "metadata": {},
     "output_type": "execute_result"
    }
   ],
   "source": [
    "%stdlib_help regex"
   ]
  },
  {
   "cell_type": "markdown",
   "metadata": {},
   "source": [
    "### 2) - Heredando de `IPython.core.magic.Magics`"
   ]
  },
  {
   "cell_type": "markdown",
   "metadata": {},
   "source": [
    "Es muy similar al ejemplo anterior con algunos pasos más que añaden algo de funcionalidad extra: las funciones `magics` pueden potencialmente mantener estado entre llamadas y pueden tener acceso completo al objeto principal de IPython. En el caso actual no sería necesario así que la solución anterior sería suficiente."
   ]
  },
  {
   "cell_type": "code",
   "execution_count": null,
   "metadata": {
    "collapsed": true
   },
   "outputs": [],
   "source": [
    "from IPython.core.magic import Magics, magics_class, line_magic\n",
    "\n",
    "# imports\n",
    "import requests\n",
    "import re\n",
    "from IPython.display import IFrame, HTML\n",
    "\n",
    "@magics_class\n",
    "class ItIsMagic(Magics):\n",
    "    \n",
    "    @register_line_magic\n",
    "    def stdlib_help2(module):\n",
    "        # list of modules\n",
    "        mods = requests.get(\"https://docs.python.org/3/py-modindex.html\")\n",
    "        mods = mods.content\n",
    "        modules = re.findall(r'library/([^\\'\" >]+).html', str(mods))\n",
    "\n",
    "        # Check if argument is a stdlib module\n",
    "        if module in modules:\n",
    "            url = \"https://docs.python.org/3/library/{0}.html#module-{0}\"\n",
    "            return IFrame(url.format(module), width = \"100%\", height = \"400px\")\n",
    "        else:\n",
    "            return HTML(\"<p><strong>\"+module+\"</strong> is not part of the CPython3.4 stdlib</p>\")\n",
    "\n",
    "# In order to actually use these magics, you must register them with a\n",
    "# running IPython.  This code must be placed in a file that is loaded once\n",
    "# IPython is up and running:\n",
    "ip = get_ipython()\n",
    "# You can register the class itself without instantiating it.  IPython will\n",
    "# call the default constructor on it.\n",
    "ip.register_magics(ItIsMagic)"
   ]
  },
  {
   "cell_type": "code",
   "execution_count": null,
   "metadata": {},
   "outputs": [],
   "source": [
    "%stdlib_help2 __future__"
   ]
  },
  {
   "cell_type": "code",
   "execution_count": null,
   "metadata": {},
   "outputs": [],
   "source": [
    "%stdlib_help2 make_the_web_I_have_in_mind"
   ]
  },
  {
   "cell_type": "code",
   "execution_count": null,
   "metadata": {
    "collapsed": true
   },
   "outputs": [],
   "source": [
    "from IPython.display import IFrame\n",
    "from IPython.core.magic import register_line_magic\n",
    "\n",
    "@register_line_magic\n",
    "def ddg(arg):\n",
    "    phrase = arg.replace(' ', '+')\n",
    "    url = \"https://duckduckgo.com/?&q={0}\".format(phrase)\n",
    "    print(url)\n",
    "    return IFrame(url, \"100%\", 400)"
   ]
  },
  {
   "cell_type": "code",
   "execution_count": null,
   "metadata": {},
   "outputs": [],
   "source": [
    "%ddg ipython"
   ]
  },
  {
   "cell_type": "markdown",
   "metadata": {},
   "source": [
    "### Es fácil buscar nuevas posibilidades"
   ]
  },
  {
   "cell_type": "markdown",
   "metadata": {},
   "source": [
    "<div class=\"alert alert-danger\">\n",
    "<p>Hay páginas que no son incrustables como google, stackoverflow...</p>\n",
    "\n",
    "<P>Para comprobar si es posible mostrar una página como `iframe`, puedes usar el siguiente código:</p>\n",
    "</div>"
   ]
  },
  {
   "cell_type": "code",
   "execution_count": null,
   "metadata": {},
   "outputs": [],
   "source": [
    "import requests\n",
    "\n",
    "g = requests.get(\"http://www.google.com\")\n",
    "\n",
    "g.headers['X-Frame-Options']"
   ]
  },
  {
   "cell_type": "markdown",
   "metadata": {},
   "source": [
    "Si el resultado es `SAMEORIGIN` o `DENY` (puede haber otros) entonces no puedes empotrarla como `iframe`."
   ]
  },
  {
   "cell_type": "markdown",
   "metadata": {},
   "source": [
    "### Otros ejemplos explicados"
   ]
  },
  {
   "cell_type": "markdown",
   "metadata": {},
   "source": [
    "- http://pybonacci.org/2014/01/24/157-cosas-de-ipython-que-no-sabias-y-nunca-preguntaste-i/ (in Spanish)\n",
    "- http://nbviewer.ipython.org/urls/gist.github.com/bj0/5343292/raw/23a0845ee874827e3635edb0bf5701710a537bfc/jinja2.ipynb (in English)\n",
    "- http://nbviewer.ipython.org/github/ipython-books/cookbook-code/blob/master/notebooks/chapter01_basic/04_magic.ipynb (in English, BTW, it is part of an excellent book \"[IPython Interactive Computing and Visualization Cookbook](http://ipython-books.github.io/cookbook/)\" written by Cyrille Rossant)"
   ]
  },
  {
   "cell_type": "markdown",
   "metadata": {},
   "source": [
    "_______________________\n",
    "\n",
    "###  Fuentes\n",
    ">  - http://nbviewer.jupyter.org/github/kikocorreoso/PyConES14_talk-Hacking_the_Notebook/tree/master/notebooks/"
   ]
  }
 ],
 "metadata": {
  "kernelspec": {
   "display_name": "Python 3",
   "language": "python",
   "name": "python3"
  },
  "language_info": {
   "codemirror_mode": {
    "name": "ipython",
    "version": 3
   },
   "file_extension": ".py",
   "mimetype": "text/x-python",
   "name": "python",
   "nbconvert_exporter": "python",
   "pygments_lexer": "ipython3",
   "version": "3.5.3"
  }
 },
 "nbformat": 4,
 "nbformat_minor": 1
}
