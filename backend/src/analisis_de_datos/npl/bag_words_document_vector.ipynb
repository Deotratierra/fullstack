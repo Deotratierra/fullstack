{
 "cells": [
  {
   "cell_type": "markdown",
   "metadata": {},
   "source": [
    "## <center>Bolsas de palabras y vectorización de documentos</center>\n",
    "\n",
    "Antes de realizar modelado predictivo con texto, necesitamos prepararlo adecuadamente. Para ello, primero empezamos por limpiarlo y tokenizarlo. Si luego queremos realizar modelos de aprendizaje necesitamos codificar los datos de caracteres a números, para poder trabajar con vectores, si no será muy complicado extraer características de los datos.\n",
    "\n",
    "Existen diferentes formas de codificar textos para realizar modelos con ellos, y cada una de ellas está enfocada a resolver un tipo de problema. En este documento mostramos las \"bolsas de palabras\".\n",
    "\n",
    "Una bolsa de palabras es simplemente un conjunto de palabras predefinidos que usamos como base para analizar documentos. Por ejemplo, si tenemos un conjunto de palabras relacionadas con el fútbol, podremos detectar si un artículo periodístico está hablando de fútbol sólo con detectar si aparecen (o su frecuencia de aparición) aquellas palabras que tenemos en la bolsa. Otro punto a favor de este enfoque es que, los algoritmos de aprendizaje toman vectores de entrada con el mismo número de elementos en cada iteración, por lo que el largo del vector podemos representarlo con los elementos que hay en la bolsa de palabras.\n",
    "\n",
    "### Vectorizador de contador\n",
    "Este modelo se usa para obtener el número de apriciones de las palabras de una bolsa dentro de un documento.\n",
    "\n",
    "Veamos un ejemplo con el vectorizador incluido en ``sklearn`` [CountVectorizer](https://scikit-learn.org/stable/modules/generated/sklearn.feature_extraction.text.CountVectorizer.html):"
   ]
  },
  {
   "cell_type": "code",
   "execution_count": 15,
   "metadata": {},
   "outputs": [
    {
     "name": "stdout",
     "output_type": "stream",
     "text": [
      "{'array': 0,\n",
      " 'balón': 1,\n",
      " 'bolsa': 2,\n",
      " 'cadenas': 3,\n",
      " 'como': 4,\n",
      " 'de': 5,\n",
      " 'es': 6,\n",
      " 'esta': 7,\n",
      " 'incluir': 8,\n",
      " 'incluirlas': 9,\n",
      " 'mi': 10,\n",
      " 'otras': 11,\n",
      " 'palabras': 12,\n",
      " 'penalti': 13,\n",
      " 'puedo': 14,\n",
      " 'texto': 15,\n",
      " 'voy': 16,\n",
      " 'árbitro': 17}\n",
      "En mi bolsa de palabras hay 18 palabras.\n"
     ]
    }
   ],
   "source": [
    "from pprint import pprint\n",
    "from sklearn.feature_extraction.text import CountVectorizer\n",
    "\n",
    "# Creamos una bolsa de palabras\n",
    "bag_words = [\n",
    "    \"Esta es mi bolsa de palabras. Voy a incluir\" \\\n",
    "        + \" otras palabras como: balón, árbitro y penalti.\",\n",
    "    \"puedo incluirlas como array o como cadenas de texto\",\n",
    "]\n",
    "\n",
    "# Instanciamos el vectorizador\n",
    "vectorizer = CountVectorizer()\n",
    "\n",
    "# Tokenizamos y ajustamos el vectorizador a las palabras\n",
    "#   que hay en la bolsa\n",
    "vectorizer.fit(bag_words)\n",
    "\n",
    "# Imprimimos un resumen de las palabras\n",
    "vocabulary = vectorizer.vocabulary_\n",
    "pprint(vocabulary)\n",
    "print(\"En mi bolsa de palabras hay %d palabras.\" % len(vocabulary))"
   ]
  },
  {
   "cell_type": "markdown",
   "metadata": {},
   "source": [
    "A cada palabra, el vectorizador basado en contador, le asigna un número identificador ordenándolas alfabéticamente. También elimina las palabras repetidas. Podemos obtener más información sobre nuestra bolsa con los siguientes métodos:\n",
    "\n"
   ]
  },
  {
   "cell_type": "code",
   "execution_count": 17,
   "metadata": {},
   "outputs": [
    {
     "data": {
      "text/plain": [
       "['array',\n",
       " 'balón',\n",
       " 'bolsa',\n",
       " 'cadenas',\n",
       " 'como',\n",
       " 'de',\n",
       " 'es',\n",
       " 'esta',\n",
       " 'incluir',\n",
       " 'incluirlas',\n",
       " 'mi',\n",
       " 'otras',\n",
       " 'palabras',\n",
       " 'penalti',\n",
       " 'puedo',\n",
       " 'texto',\n",
       " 'voy',\n",
       " 'árbitro']"
      ]
     },
     "execution_count": 17,
     "metadata": {},
     "output_type": "execute_result"
    }
   ],
   "source": [
    "vectorizer.get_feature_names()"
   ]
  },
  {
   "cell_type": "markdown",
   "metadata": {},
   "source": [
    "Para aplicar esta bolsa de palabras a un documento, usamos la función ``transform`` del vectorizador."
   ]
  },
  {
   "cell_type": "code",
   "execution_count": 13,
   "metadata": {},
   "outputs": [
    {
     "name": "stdout",
     "output_type": "stream",
     "text": [
      "(1, 18)\n",
      "<class 'scipy.sparse.csr.csr_matrix'>\n",
      "[[0 2 0 0 0 1 1 0 0 0 0 0 0 0 0 0 0 0]]\n"
     ]
    }
   ],
   "source": [
    "docs = [\"El Real Madrid es el equipo de fútbol que mejor domina el balón balón.\"]\n",
    "\n",
    "# Codificamos los documentos\n",
    "vector = vectorizer.transform(docs)\n",
    "\n",
    "# Imprimimos un resumen del vector codificado\n",
    "print(vector.shape)\n",
    "print(type(vector))\n",
    "print(vector.toarray())"
   ]
  },
  {
   "cell_type": "markdown",
   "metadata": {},
   "source": [
    "Como podemos observar en la salida anterior, el segundo elemento del vector es 2, cuyo índice corresponde con la posición de la palabra ``balón`` en el ajuste del modelo y cuyo valor corresponde con el número de apariciones de la palabra en el documento. Por ello, es un vectorizador de contador."
   ]
  }
 ],
 "metadata": {
  "kernelspec": {
   "display_name": "Python 3",
   "language": "python",
   "name": "python3"
  },
  "language_info": {
   "codemirror_mode": {
    "name": "ipython",
    "version": 3
   },
   "file_extension": ".py",
   "mimetype": "text/x-python",
   "name": "python",
   "nbconvert_exporter": "python",
   "pygments_lexer": "ipython3",
   "version": "3.5.3"
  }
 },
 "nbformat": 4,
 "nbformat_minor": 2
}
