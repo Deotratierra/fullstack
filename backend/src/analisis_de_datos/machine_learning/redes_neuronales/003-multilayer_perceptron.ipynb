{
 "cells": [
  {
   "cell_type": "markdown",
   "metadata": {},
   "source": [
    "# <center>Perceptrón multicapa</center>\n",
    "\n",
    "Es un tipo de red neuronal en donde hay varias capas:\n",
    "- Capa de entrada\n",
    "- Capas ocultas\n",
    "- Capa de salida\n",
    "\n",
    "![Perceptron multicapa](img/multilayer_perceptron.png)\n",
    "\n",
    "En el perceptrón multicapa, las neuronas de la capa 1 se conectan con las neuronas de la capa 2, las neuronas de la capa 2 con las neuronas de la capa 3 y así sucesivamente. No está permitido conectar neuronas de la capa 1 con las neuronas de la capa 4 por ejemplo, ese salto podrá suceder en otro tipo de redes neuronales pero no en el perceptrón multicapa.\n",
    "\n",
    "El perceptrón multicapa permite resolver problemas que no son linealmente separables.\n",
    "\n",
    "## Los pesos y cómo nombrarlos\n",
    "\n",
    "En el siguiente gráfico se dibujan algunos pesos y, como se podrá dilucidar, el número de estos pesos crece rápidamente a medida que se agregan capas y neuronas.\n",
    "\n",
    "![Pesos perceptrón multicapa](https://s20.postimg.org/ouyn8o7wd/weights_multilayer_perceptron.png)\n",
    "\n",
    "Por ello, para no perdernos, al nombrar los pesos usamos la siguiente notación:\n",
    "\n",
    "![Notación de los pesos](https://s20.postimg.org/3lb0xzjxp/weights_notation.png)\n",
    "\n",
    "- **Capa de donde sale la conexión**: las capas se enumeran de derecha a izquierda según la imagen de arriba, siendo 1 la capa de entrada.\n",
    "- **Neurona inicial**: de donde parte la conexión. Las neuronas las numeramos de arriba a abajo, siendo 1 la superior.\n",
    "- **Neurona final**: a donde llega la conexión.\n",
    "\n",
    "## Limitaciones del perceptrón multicapa\n",
    "\n",
    "- El Perceptrón Multicapa no extrapola bien, es decir, si la red se entrena mal o de manera insuficiente, las salidas pueden ser imprecisas.\n",
    "- La existencia de mínimos locales en la función de error dificulta considerablemente el entrenamiento, pues una vez alcanzado un mínimo el entrenamiento se detiene aunque no se haya alcanzado la tasa de convergencia fijada.\n",
    "\n",
    "Cuando caemos en un mínimo local sin satisfacer el porcentaje de error permitido se puede considerar: cambiar la topología de la red (número de capas y número de neuronas), comenzar el entrenamiento con unos pesos iniciales diferentes, modificar los parámetros de aprendizaje, modificar el conjunto de entrenamiento o presentar los patrones en otro orden.\n"
   ]
  },
  {
   "cell_type": "markdown",
   "metadata": {},
   "source": [
    "## La función sigmoide\n",
    "En el [capítulo anterior](https://github.com/mondeja/fullstack/tree/master/backend/src/analisis_de_datos/machine_learning/redes_neuronales/002-perceptron.ipynb) vimos como la función de activación $\\phi(z)$ producía un salto unitario entre los valores 0 y 1. Así se activaba o no la neurona, dependiendo de si los valores procesados con sus pesos superaban o no el umbral. \n",
    "\n",
    "Sin embargo, se produce un comportamiento más realista en el aprendizaje de las neuronas cuando esta función toma la forma de una [función sigmoide](https://es.wikipedia.org/wiki/Funci%C3%B3n_sigmoide):\n",
    "$$y = \\frac{1}{1 + e^{-x}}$$"
   ]
  },
  {
   "cell_type": "code",
   "execution_count": 4,
   "metadata": {},
   "outputs": [
    {
     "data": {
      "image/png": "[encoded data removed]",
      "text/plain": [
       "<matplotlib.figure.Figure at 0x7f908028d6d8>"
      ]
     },
     "metadata": {},
     "output_type": "display_data"
    }
   ],
   "source": [
    "import matplotlib.pyplot as plt\n",
    "import numpy as np\n",
    "\n",
    "f = lambda x: 1 / (1 + np.exp(-x))  # Función sigmoide\n",
    "\n",
    "x = np.linspace(-10, 10, num=100) # Eje de X\n",
    "\n",
    "fig, ax = plt.subplots(figsize=(16, 8))\n",
    "\n",
    "ax.plot(x, f(x))\n",
    "\n",
    "plt.title(\"Función sigmoide\")\n",
    "plt.grid()\n",
    "plt.show()"
   ]
  },
  {
   "cell_type": "code",
   "execution_count": 41,
   "metadata": {},
   "outputs": [
    {
     "name": "stdout",
     "output_type": "stream",
     "text": [
      "x=-25\ty=1.3887943864771165e-11\n",
      "x=-24\ty=3.775134544136586e-11\n",
      "x=-23\ty=1.0261879630648841e-10\n",
      "x=-22\ty=2.789468092090815e-10\n",
      "x=-21\ty=7.582560422162393e-10\n",
      "x=-20\ty=2.061153618190206e-09\n",
      "x=-19\ty=5.6027964061459456e-09\n",
      "x=-18\ty=1.5229979512760363e-08\n",
      "x=-17\ty=4.1399375473943345e-08\n",
      "x=-16\ty=1.1253516205509509e-07\n",
      "x=-15\ty=3.05902226925625e-07\n",
      "x=-14\ty=8.315280276641327e-07\n",
      "x=-13\ty=2.260324297903576e-06\n",
      "x=-12\ty=6.1441746022147215e-06\n",
      "x=-11\ty=1.670142184809519e-05\n",
      "x=-10\ty=4.539786870243442e-05\n",
      "x=-9\ty=0.0001233945759862318\n",
      "x=-8\ty=0.00033535013046647827\n",
      "x=-7\ty=0.0009110511944006456\n",
      "x=-6\ty=0.002472623156634775\n",
      "x=-5\ty=0.006692850924284857\n",
      "x=-4\ty=0.017986209962091562\n",
      "x=-3\ty=0.04742587317756679\n",
      "x=-2\ty=0.11920292202211757\n",
      "x=-1\ty=0.2689414213699951\n",
      "x=0\ty=0.5\n",
      "x=1\ty=0.7310585786300049\n",
      "x=2\ty=0.8807970779778823\n",
      "x=3\ty=0.9525741268224331\n",
      "x=4\ty=0.9820137900379085\n",
      "x=5\ty=0.9933071490757153\n",
      "x=6\ty=0.9975273768433653\n",
      "x=7\ty=0.9990889488055994\n",
      "x=8\ty=0.9996646498695336\n",
      "x=9\ty=0.9998766054240137\n",
      "x=10\ty=0.9999546021312976\n",
      "x=11\ty=0.999983298578152\n",
      "x=12\ty=0.9999938558253978\n",
      "x=13\ty=0.999997739675702\n",
      "x=14\ty=0.9999991684719722\n",
      "x=15\ty=0.999999694097773\n",
      "x=16\ty=0.9999998874648379\n",
      "x=17\ty=0.9999999586006244\n",
      "x=18\ty=0.9999999847700205\n",
      "x=19\ty=0.9999999943972036\n",
      "x=20\ty=0.9999999979388463\n",
      "x=21\ty=0.9999999992417439\n",
      "x=22\ty=0.9999999997210531\n",
      "x=23\ty=0.9999999998973812\n",
      "x=24\ty=0.9999999999622486\n"
     ]
    }
   ],
   "source": [
    "from decimal import Decimal\n",
    "\n",
    "x = -25\n",
    "n_iteraciones = 50\n",
    "\n",
    "for _ in range(n_iteraciones):\n",
    "    y = f(x)\n",
    "    # Para mayor precisión descomentar:\n",
    "    #y = Decimal(y)\n",
    "    print(\"x=%d\\ty=%r\" % (x, y))\n",
    "    x += 1"
   ]
  },
  {
   "cell_type": "markdown",
   "metadata": {},
   "source": [
    "Como podemos comprobar en la representación numérica, la función posee dos [asíntotas](https://es.wikipedia.org/wiki/As%C3%ADntota) horizontales en los valores 1 y 0. \n",
    "\n",
    "> La función sigmoidal es característica de muchos procesos de aprendizaje y fenómenos físicos."
   ]
  },
  {
   "cell_type": "markdown",
   "metadata": {},
   "source": [
    "_____________________\n",
    "\n",
    "## Algoritmo de propagación hacia atrás\n",
    "Es un algoritmo de aprendizaje supervisado que se usa para entrenar redes neuronales artificiales. El algoritmo emplea un ciclo propagación – adaptación de dos fases. Una vez que se ha aplicado un patrón a la entrada de la red como estímulo, este se propaga desde la primera capa a través de las capas siguientes de la red, hasta generar una salida. La señal de salida se compara con la salida deseada y se calcula una señal de error para cada una de las salidas.\n",
    "\n",
    "Las salidas de error se propagan hacia atrás, partiendo de la capa de salida, hacia todas las neuronas de la capa oculta que contribuyen directamente a la salida. Sin embargo las neuronas de la capa oculta solo reciben una fracción de la señal total del error, basándose aproximadamente en la contribución relativa que haya aportado cada neurona a la salida original. Este proceso se repite, capa por capa, hasta que todas las neuronas de la red hayan recibido una señal de error que describa su contribución relativa al error total.\n",
    "\n"
   ]
  },
  {
   "cell_type": "markdown",
   "metadata": {},
   "source": [
    "__________________________\n",
    "\n",
    "## Implementación tabla de verdad XOR\n",
    "\n",
    "#### <center>[Visualización de comportamiento de un perceptrón multicapa aprendiendo la tabla XOR](http://www.emergentmind.com/neural-network)</center>\n",
    "\n",
    "En el [capítulo anterior](http://nbviewer.jupyter.org/github/mondeja/fullstack/blob/master/backend/src/analisis_de_datos/machine_learning/redes_neuronales/002-perceptron.ipynb#Limitaciones-del-perceptr%C3%B3n) vimos como un perceptrón simple no es capaz de aprender la tabla de la disyunción exclusiva, pero con el perceptrón multicapa sí seremos capaces.\n",
    "\n",
    "|  *XOR*  | True     |   False   |\n",
    "|---------|----------|-----------|\n",
    "|**True** | False    | True      |\n",
    "|**False**| True     | False     |\n",
    "\n",
    "\n",
    "Esta vez vamos a crear una pequeña red neuronal con dos entradas, una capa oculta con 3 neuronas y una salida. La implementación será pura programación funcional usando `numpy`, sin objetos. La red neuronal estará codificada en las matrices de los pesos."
   ]
  },
  {
   "cell_type": "code",
   "execution_count": 1,
   "metadata": {},
   "outputs": [],
   "source": [
    "import numpy as np\n",
    "\n",
    "n_iteraciones = 6000\n",
    "\n",
    "# Tamaños de cada capa en la red\n",
    "t_capa_entrada, t_capa_oculta, t_capa_salida = 2, 3, 1\n",
    "\n",
    "X = np.array(      # Tabla de verdad XOR:\n",
    "   [[0, 0],    # Falso - Falso         -> Falso\n",
    "    [0, 1],    # Falso - Verdadero     -> Verdadero\n",
    "    [1, 0],    # Verdadero - Falso     -> Verdadero\n",
    "    [1, 1]]    # Verdadero - Verdadero -> Falso\n",
    ")\n",
    "Y = np.array([ [0],   [1],   [1],   [0]])  # Valores objetivo\n",
    "\n",
    "sigmoide = lambda x: 1/(1 + np.exp(-x))  # Función sigmoide\n",
    "sigmoide_der = lambda x: x * (1 - x)     # Derivada de la función sigmoide"
   ]
  },
  {
   "cell_type": "markdown",
   "metadata": {},
   "source": [
    "Para representar los pesos de de entrada para cada capa usamos matrices con la notación descrita arriba. Aquí podemos ver las matrices que representan los pesos en las conexiones de las neuronas:\n",
    "\n",
    "$$\\pmb{w}_{oculta} = \\begin{bmatrix}w^1_{1, 1} & w^1_{1, 2} & w^1_{1, 3} \\\\ w^1_{2, 1} & w^1_{2, 2} & w^1_{2, 3} \\end{bmatrix}, \\pmb{w}_{salida} =  \\begin{bmatrix}w^2_{1, 1} \\\\ w^2_{2, 1} \\\\ w^2_{3, 1} \\end{bmatrix}$$"
   ]
  },
  {
   "cell_type": "code",
   "execution_count": 2,
   "metadata": {},
   "outputs": [
    {
     "name": "stdout",
     "output_type": "stream",
     "text": [
      "[[0.04223424]\n",
      " [0.97409124]\n",
      " [0.97409555]\n",
      " [0.00953029]]\n"
     ]
    }
   ],
   "source": [
    "# Pesos de las capas\n",
    "W_oculta = np.random.uniform(size=(t_capa_entrada, t_capa_oculta))  # Capa oculta\n",
    "W_salida = np.random.uniform(size=(t_capa_oculta, t_capa_salida))   # Capa de salida\n",
    "\n",
    "for i in range(n_iteraciones):\n",
    "    capa_oculta = sigmoide(np.dot(X, W_oculta))            # Resultados de la capa oculta\n",
    "    salida = sigmoide(np.dot(capa_oculta, W_salida))       # Resultados de la capa de salida\n",
    "    error = Y - salida                                     # Error\n",
    "     \n",
    "    delta_salida = error * sigmoide_der(salida)\n",
    "    delta_oculta = delta_salida.dot(W_salida.T) * sigmoide_der(capa_oculta)\n",
    "    W_salida += capa_oculta.T.dot(delta_salida)\n",
    "    W_oculta += X.T.dot(delta_oculta)\n",
    " \n",
    "print(salida)"
   ]
  },
  {
   "cell_type": "markdown",
   "metadata": {},
   "source": [
    "> Si has seguidos todos los capítulos, llegado a este punto puedes observar como hay diferentes formas de implementar una red neuronal programáticamente. Para dominar el machine learning hay que conocer los algoritmos y saber implementarlos sin importar tanto que tecnología estás usando."
   ]
  },
  {
   "cell_type": "markdown",
   "metadata": {},
   "source": [
    "__________________\n",
    "\n",
    "### <center>Capítulo anterior: [**El perceptrón**](http://nbviewer.jupyter.org/github/mondeja/fullstack/blob/master/backend/src/analisis_de_datos/machine_learning/redes_neuronales/002-perceptron.ipynb) <center>\n",
    "### <center>Siguiente capítulo: [**Implementación de un perceptrón multicapa - Piedra, papel, tijeras**](http://nbviewer.jupyter.org/github/mondeja/fullstack/blob/master/backend/src/analisis_de_datos/machine_learning/redes_neuronales/004-mp_rps.ipynb) <center>\n",
    "    \n",
    "__________________"
   ]
  },
  {
   "cell_type": "markdown",
   "metadata": {},
   "source": [
    "> Fuentes:\n",
    "- [Redes Neuronales parte 1 - Rafael Alberto Moreno Parra](https://openlibra.com/es/book/redes-neuronales-parte-1)\n",
    "- https://sinfallas.wordpress.com/2017/11/14/el-perceptron-y-perceptron-multicapa-que-es-y-con-que-se-come/\n",
    "- http://python3.codes/neural-network-python-part-1-sigmoid-function-gradient-descent-backpropagation/\n",
    "- https://es.wikipedia.org/wiki/Propagaci%C3%B3n_hacia_atr%C3%A1s"
   ]
  }
 ],
 "metadata": {
  "kernelspec": {
   "display_name": "Python 3",
   "language": "python",
   "name": "python3"
  },
  "language_info": {
   "codemirror_mode": {
    "name": "ipython",
    "version": 3
   },
   "file_extension": ".py",
   "mimetype": "text/x-python",
   "name": "python",
   "nbconvert_exporter": "python",
   "pygments_lexer": "ipython3",
   "version": "3.4.2"
  }
 },
 "nbformat": 4,
 "nbformat_minor": 2
}
