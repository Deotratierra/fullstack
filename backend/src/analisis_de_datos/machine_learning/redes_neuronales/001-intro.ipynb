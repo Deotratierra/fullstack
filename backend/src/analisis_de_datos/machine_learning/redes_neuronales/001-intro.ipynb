{
 "cells": [
  {
   "cell_type": "markdown",
   "metadata": {},
   "source": [
    "# <center> Introducción a las redes neuronales </center>\n",
    "Las redes neuronales (también conocidas como sistemas conexionistas) son un modelo computacional basado en un gran conjunto de unidades neuronales simples (neuronas artificiales), de forma aproximadamente análoga al comportamiento observado en los axones de las neuronas en los cerebros biológicos.\n",
    "\n",
    "![Red neuronal](https://s20.postimg.org/q0t1jzcxp/Colored_neural_network.png)\n",
    "\n",
    "Las redes neuronales se componen de unas entradas (inputs), unas capas intermedias de procesamiento (hidden layers) y unas salidas (outputs). Cada conexión a un nodo está equipado con un peso, por el cual se multiplica el valor de entrada para evaluarlo dentro del nodo. \n",
    "\n",
    " En el siguiente ejemplo podemos ver los pesos de las conexiones en una red neuronal muy simple. Esto daría como resultado una multiplicación en forma de matrix de la siguiente forma:\n",
    " \n",
    "$$ \\begin{bmatrix}w_{12} & w_{21}\\\\w_{12} & w_{22}\\end{bmatrix} \\begin{bmatrix} x_1 \\\\ x_2 \\end{bmatrix}$$\n",
    "\n",
    "Para más información consultar el [notebook sobre algebra lineal](https://github.com/mondeja/fullstack/blob/master/backend/src/001-matematicas/teoria_practica/algebra_aritmetica/004-algebra_lineal/matrices.ipynb).\n",
    "\n",
    "![Matrix red neuronal](https://s20.postimg.org/z50nbv3jx/matrix_neuronal.jpg)\n",
    "\n"
   ]
  },
  {
   "cell_type": "code",
   "execution_count": null,
   "metadata": {},
   "outputs": [],
   "source": []
  }
 ],
 "metadata": {
  "kernelspec": {
   "display_name": "Python 3",
   "language": "python",
   "name": "python3"
  },
  "language_info": {
   "codemirror_mode": {
    "name": "ipython",
    "version": 3
   },
   "file_extension": ".py",
   "mimetype": "text/x-python",
   "name": "python",
   "nbconvert_exporter": "python",
   "pygments_lexer": "ipython3",
   "version": "3.5.3"
  }
 },
 "nbformat": 4,
 "nbformat_minor": 2
}
