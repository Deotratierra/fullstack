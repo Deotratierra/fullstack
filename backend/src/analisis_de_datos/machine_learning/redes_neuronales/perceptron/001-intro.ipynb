{
 "cells": [
  {
   "cell_type": "markdown",
   "metadata": {},
   "source": [
    "# <center> Introducción a las redes neuronales </center>\n",
    "Las redes neuronales (también conocidas como sistemas conexionistas) son un modelo computacional basado en un gran conjunto de unidades neuronales simples (neuronas artificiales), de forma aproximadamente análoga al comportamiento observado en los axones de las neuronas en los cerebros biológicos.\n",
    "\n",
    "![Red neuronal](https://s20.postimg.org/q0t1jzcxp/Colored_neural_network.png)\n",
    "\n",
    "Antes de comenzar a saber como funcionan cada una de estas neuronas, veamos algunas estructuras y notaciones matemáticas básicas que nos ayudarán a entender como funciona el conjunto por encima.\n",
    "\n"
   ]
  },
  {
   "cell_type": "code",
   "execution_count": 37,
   "metadata": {},
   "outputs": [
    {
     "data": {
      "text/html": [
       "<svg width=\"600\" height=\"250\"> \n",
       "  <line x1=\"50\" y1=\"20\" x2=\"250\" y2=\"20\" style=\"stroke:red; stroke-width:3;\"/>\n",
       "  <text x=\"25\" y=\"25\" style=\"font-size:14px;\"> X1 </text>\n",
       "\n",
       "  <line x1=\"50\" y1=\"120\" x2=\"250\" y2=\"120\" style=\"stroke:red; stroke-width:3;\"/>\n",
       "  <text x=\"25\" y=\"125\" style=\"font-size:14px;\"> X2 </text>    \n",
       "\n",
       "</svg>"
      ],
      "text/plain": [
       "<IPython.core.display.HTML object>"
      ]
     },
     "metadata": {},
     "output_type": "display_data"
    }
   ],
   "source": [
    "%%html\n",
    "<svg width=\"600\" height=\"250\"> \n",
    "  <line x1=\"50\" y1=\"20\" x2=\"250\" y2=\"20\" style=\"stroke:red; stroke-width:3;\"/>\n",
    "  <text x=\"25\" y=\"25\" style=\"font-size:14px;\"> X1 </text>\n",
    "\n",
    "  <line x1=\"50\" y1=\"120\" x2=\"250\" y2=\"120\" style=\"stroke:red; stroke-width:3;\"/>\n",
    "  <text x=\"25\" y=\"125\" style=\"font-size:14px;\"> X2 </text>    \n",
    "\n",
    "</svg>"
   ]
  },
  {
   "cell_type": "code",
   "execution_count": null,
   "metadata": {},
   "outputs": [],
   "source": []
  }
 ],
 "metadata": {
  "kernelspec": {
   "display_name": "Python 3",
   "language": "python",
   "name": "python3"
  },
  "language_info": {
   "codemirror_mode": {
    "name": "ipython",
    "version": 3
   },
   "file_extension": ".py",
   "mimetype": "text/x-python",
   "name": "python",
   "nbconvert_exporter": "python",
   "pygments_lexer": "ipython3",
   "version": "3.5.3"
  }
 },
 "nbformat": 4,
 "nbformat_minor": 2
}
