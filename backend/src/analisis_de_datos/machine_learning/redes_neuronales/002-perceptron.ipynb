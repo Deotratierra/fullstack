{
 "cells": [
  {
   "cell_type": "markdown",
   "metadata": {},
   "source": [
    "# <center> El perceptrón </center>\n",
    "Tratando de averiguar cómo funcina el cerebro biológico, [Warren McCullock](https://es.wikipedia.org/wiki/Warren_McCulloch) y [Walter Pitts](https://es.wikipedia.org/wiki/Walter_Pitts) publicaron el primer concepto de una celda de cerebro simplificada, la llamada *neurona McCullocks-Pitts* (MCP), en 1943 ([(W. S. McCulloch and W. Pitts. *A Logical\n",
    "Calculus of the Ideas Immanent in Nervous Activity*](http://www.cs.cmu.edu/~./epxing/Class/10715/reading/McCulloch.and.Pitts.pdf)).\n",
    "\n",
    "![neurona MCP](images/mccullock_pitts_neuron.jpg)\n",
    "\n",
    "Ellos describieron una célula nerviosa con una puerta lógica simple con salidas binarias. Múltiples señales llegan a las dendritas, se integran en el cuerpo de la célula y, si la señal acumulada excede cierto umbral, la señal de salida es es generada y pasará por el axón."
   ]
  },
  {
   "cell_type": "markdown",
   "metadata": {},
   "source": [
    "Sólo unos años más tarde, [Frank Rosenblatt](https://en.wikipedia.org/wiki/Frank_Rosenblatt) publicó el primer concepto de una regla de aprendizaje de perceptrones básada en el modelo de neurona McCullock-Pitts ([F. Rosenblatt, *The Perceptron, a\n",
    "Perceiving and Recognizing Automaton*. Cornell Aeronautical Laboratory, 1957](https://blogs.umass.edu/brain-wars/files/2016/03/rosenblatt-1957.pdf)). Rosenblatt propuso un algoritmo que aprendería automáticamente los coeficientes de pesos óptimos que luego serían multiplicados por las características de entrada en orden de tomar una decisión dependiendo de si la neurona era disparada o no. En el contexto del aprendizaje automático y la clasificación, tal algoritmo podría ser usado para predecir si una muestra pertenecía a una clase o a otra.\n",
    "\n",
    "![perceptron](images/perceptron.png)\n",
    "\n",
    "Más formalmente, podemos poner este problema como una tarea de clasificación binaria en la cual nos referimos a dos clases como 1 (positiva) y -1 (negativa), por simplicidad. Luego podemos definir una función de activación $\\phi(z)$ que toma una combinación lineal de ciertos valores de entrada $\\pmb{x}$ y un vector de peso correspondiente $\\pmb{w}$, donde $z$ es la denominada entrada neta ($z = w_1 x_1 + \\ldots + w_m x_m$).\n",
    "<center>$\\pmb{w} = \\begin{bmatrix}w_1 \\\\ \\vdots \\\\ w_m \\end{bmatrix}, \\pmb{x} = \\begin{bmatrix}x_1 \\\\ \\vdots \\\\ x_m \\end{bmatrix}$</center>\n",
    "\n",
    "Ahora, si la activación de una muestra particular $x^{(i)}$, esto es, si la salida de $\\phi(z)$ es mayor al umbral definido $\\theta$, predecimos la clase 1, si no, la clase -1:\n",
    "<center>$\\phi(z) = \\left \\{ \\begin{matrix} 1 & \\mbox{si }z \\ge \\theta \\\\ -1 & \\mbox{de otra forma} \\end{matrix}\\right.$</center>\n",
    "\n",
    "Por simplicidad, podemos llevar al umbral $\\theta$ al lado izquierdo de la ecuación y definir un peso 0 como $w_0 = - \\theta$ y $x_0 = 1$, por lo que escribimos $\\pmb{z}$ de una forma más compacta:\n",
    "\n",
    "<center>$z = w_0 x_0 + w_1 x_1 + \\ldots + w_m x_m = \\pmb{w}^T \\pmb{x}$</center>\n",
    "\n",
    ">Si te pierdes con los conceptos matemáticos sobre matrices consulta esta [carpeta sobre álgebra lineal](https://github.com/mondeja/fullstack/blob/master/backend/src/001-matematicas/teoria_practica/algebra_aritmetica/algebra_lineal)."
   ]
  },
  {
   "cell_type": "markdown",
   "metadata": {},
   "source": [
    "### Regla de aprendizaje del perceptrón\n",
    "La idea general detrás del modelo de neurona MCP y el modelo de perceptrón con umbral de Rosenblatt es usar una aproximación reduccionista a imitar como funciona una neurona en el cerebro: se dispara o no. Así, la regla inicial del perceptrón de Rosenblatt es bastante simple y puede ser resumida en los siguientes pasos:\n",
    "\n",
    "1. Inicializar los pesos a 0 o a números aleatorios muy pequeños.\n",
    "2. Por cada muestra de entrenamiento $\\pmb{x}^{(i)}$ realizar los siguientes pasos:\n",
    "    1. Calcular el valor de salida $ŷ$.\n",
    "    2. Actualizar los pesos.\n",
    "\n",
    "Aquí la salida es la etiqueta anteriormente predicha por la función de salto unitario que hemos definido anteriormente y la actualización simultánea de cada peso $w_j$ en el vector de pesos $w$ puede ser más formalmente escrita como:\n",
    "$$w_j = w_j + \\Delta w_j$$\n",
    "\n",
    "El valor de $\\Delta w_j$, el cual es usado para actualizar el peso $w_j$, es calculado por la **regla de aprendizaje del perceptrón**:\n",
    "\n",
    "$$\\Delta w_j = \\eta(y^{(i)} - ŷ^{(i)}) x^{(i)}_j$$\n",
    "\n",
    "donde $\\eta$ es la tasa de aprendizaje (una constante entre 0.0 y 1.0), $y^{(i)}$ es la etiqueta objetiva (la verdadera) de la muestra de ejemplo número $i$, y la $ŷ^{(i)}$ es la etiqueta predicha. Es importante notar que todos los pesos en el vector de pesos son actualizados simultáneamente, lo que significa que no recalculamos la $ŷ^{(i)}$ antes de que todos los pesos $\\Delta w_j$ han sido actualizados. Concretamente, para un conjunto de datos de 2 dimensiones, escribiríamos la actualización de esta forma:\n",
    "\n",
    "$$\\Delta w_0 = \\eta(y^{(i)} - output^{(i)})$$\n",
    "\n",
    "$$\\Delta w_1 = \\eta(y^{(i)} - output^{(i)}) x^{(i)}_1$$\n",
    "\n",
    "$$\\Delta w_2 = \\eta(y^{(i)} - output^{(i)}) x^{(i)}_2$$\n",
    "\n",
    "Así, en los escenarios donde el perceptrón predice la etiqueta correctamente, los pesos se mantienen sin cambio:\n",
    "\n",
    "$$\\Delta w_j = \\eta(-1^{(i)} - - 1^{(i)}) x^{(i)}_j = 0$$\n",
    "\n",
    "$$\\Delta w_j = \\eta(1^{(i)} - 1^{(i)}) x^{(i)}_j = 0$$\n",
    "\n",
    "Sin embargo, en el caso de una predicción incorrecta, los pesos son empujados hacia la dirección de la etiqueta positiva o negativa, respectivamente:\n",
    "\n",
    "$$\\Delta w_j = \\eta(1^{(i)} - - 1^{(i)}) x^{(i)}_j = \\eta(2)x_j$$\n",
    "\n",
    "$$\\Delta w_j = \\eta(- 1^{(i)} - 1^{(i)}) x^{(i)}_j = \\eta(-2)x_j$$\n"
   ]
  },
  {
   "cell_type": "markdown",
   "metadata": {},
   "source": [
    "________________________________________\n",
    "### Implemetación de un perceptrón\n"
   ]
  },
  {
   "cell_type": "code",
   "execution_count": 1,
   "metadata": {},
   "outputs": [],
   "source": [
    "import numpy as np\n",
    "\n",
    "class Perceptron:\n",
    "    \"\"\"Clasificador perceptrón\n",
    "    \n",
    "    Args:\n",
    "        eta (float): Tasa de aprendizaje\n",
    "            (entre 0.0 y 1.0)\n",
    "        n_iter (int): Pasadas sobre el conjunto\n",
    "            de datos de entreanamiento\n",
    "    \n",
    "    Attrs:\n",
    "        w_ (1d-array): Pesos después de ajustar.\n",
    "        errors_ (list): Número de clasificaciones\n",
    "            erróneas en cada paso.\n",
    "    \"\"\"\n",
    "    def __init__(self, eta=0.01, n_iter=10):\n",
    "        self.eta = eta  # Es el nombre de la letra griega dada a la tasa de entrenamiento\n",
    "        self.n_iter = n_iter\n",
    "    \n",
    "    def fit(self, X, y):\n",
    "        \"\"\"Ajuste de los datos de entrenamiento\n",
    "        \n",
    "        Args:\n",
    "            X (array): Vectores de entrenamiento,\n",
    "                matriz con [n_samples, n_features]\n",
    "            y (array): Valores objetivo, con forma [n_samples]\n",
    "        \n",
    "        Returns: self (object)\n",
    "        \"\"\"\n",
    "        # Vector de 0s de una fila y el número de columnas de X + 1 (el umbral):\n",
    "        self.w_ = np.zeros(1 + X.shape[1])\n",
    "        self.errors_ = []\n",
    "        #print(X) # Matriz de entrenamiento (características de las muestras)\n",
    "        #print(y) # Objetivo\n",
    "        \n",
    "        for _ in range(self.n_iter): # Número de iteraciones\n",
    "            errors = 0\n",
    "            for xi, target in zip(X, y):\n",
    "                # Le pasamos cada fila de la matriz X\n",
    "                update = self.eta * (target - self.predict(xi))\n",
    "                self.w_[1:] += update * xi\n",
    "                self.w_[0] += update\n",
    "                errors += int(update != 0.0)\n",
    "            # print(self.w_)  # Pesos\n",
    "            self.errors_.append(errors)\n",
    "        return self\n",
    "        \n",
    "    def net_input(self, xi):\n",
    "        \"\"\"Calcular la entrada neta\"\"\"\n",
    "        return np.dot(xi, self.w_[1:]) + self.w_[0]\n",
    "    \n",
    "    def predict(self, xi):\n",
    "        \"\"\"Predecir si el valor superó (devuelve 1) \n",
    "        o no (devuelve -1) el umbral 0.0\"\"\"\n",
    "        return np.where(self.net_input(xi) >= 0.0, 1, -1)"
   ]
  },
  {
   "cell_type": "markdown",
   "metadata": {},
   "source": [
    ">La función `np.dot()` [multiplica dos matrices](https://github.com/mondeja/fullstack/blob/master/backend/src/001-matematicas/teoria_practica/algebra_aritmetica/algebra_lineal/matrices.ipynb) y la función `np.where()` actúa de la [siguiente forma](https://docs.scipy.org/doc/numpy-1.13.0/reference/generated/numpy.where.html): si se cumple la condición otorgada al primer parámetro, devuelve el segundo parámetro, si no devuelve el tercero. \n",
    "\n",
    "________________________________________________\n",
    "\n",
    "Para implementar el perceptrón usaremos el [dataset iris](http://scikit-learn.org/stable/modules/generated/sklearn.datasets.load_iris.html). Extraeremos dos de las tres clases de flores que incluye, Setosa y Versicolour y consideraremos el largo de sépalo y de pétalo.\n",
    "\n",
    "> Sin embargo, la regla del perceptrón no está restringida a dos dimensiones y el algoritmo del perceptrón puede extenderse para implementar clasificaciones multiclase."
   ]
  },
  {
   "cell_type": "code",
   "execution_count": 2,
   "metadata": {},
   "outputs": [
    {
     "data": {
      "text/plain": [
       "(150, 5)"
      ]
     },
     "execution_count": 2,
     "metadata": {},
     "output_type": "execute_result"
    }
   ],
   "source": [
    "import pandas as pd\n",
    "import matplotlib.pyplot as plt\n",
    "import numpy as np\n",
    "from sklearn import datasets\n",
    "\n",
    "# Cargamos el dataset Iris de sklearn\n",
    "iris = datasets.load_iris()\n",
    "# Descripción del dataset (descomentar)\n",
    "#print(iris[\"DESCR\"])\n",
    "\n",
    "# Lo convertimos a DataFramde de pandas\n",
    "df = pd.DataFrame(iris.data, columns=iris.feature_names)\n",
    "df[\"target\"] = iris.target\n",
    "df.shape   # 150 muestras (50 de cada tipo de flor)\n",
    "\n",
    "# Correspondencia de tipos de flores y numeros en iris.target:\n",
    "#    0 Iris Setosa\n",
    "#    1 Iris Versicolour\n",
    "#    2 Iris Virginica"
   ]
  },
  {
   "cell_type": "markdown",
   "metadata": {},
   "source": [
    "Ahora extraemos las 100 etiquetas de clases que corresponden a las 50 *Iris Setosa* y 50 *Iris Versicolor*, respectivamente. Entonces convertimos las etiquetas de clase en los enteros 1 (Versicolor) y -1 (Setosa)."
   ]
  },
  {
   "cell_type": "code",
   "execution_count": 3,
   "metadata": {},
   "outputs": [
    {
     "data": {
      "image/png": "[encoded data removed]",
      "text/plain": [
       "<matplotlib.figure.Figure at 0x7fa02e331550>"
      ]
     },
     "metadata": {},
     "output_type": "display_data"
    }
   ],
   "source": [
    "# Extraemos las primeras 100 flores\n",
    "y = df.iloc[0:100, 4].values\n",
    "\n",
    "# Donde la etiqueta de flor sea 0 (Setosa) ponle -1, si no 1\n",
    "y = np.where(y == 0, -1, 1)\n",
    "\n",
    "# Extraemos el largo de sépalo (0) y de pétalo (2) \n",
    "X = df.iloc[:100, [0, 2]].values\n",
    "\n",
    "# Dibujamos Iris Setosa\n",
    "plt.scatter(X[:50, 0], X[:50, 1], c=\"red\", marker=\"o\", label=\"Setosa\")\n",
    "\n",
    "# Dibujamos Iris Versicolour\n",
    "plt.scatter(X[50:100, 0], X[50:100, 1], c=\"blue\", marker=\"x\", label=\"Versicolour\")\n",
    "\n",
    "plt.xlabel(\"Largo de sépalo (cm)\")\n",
    "plt.ylabel(\"Largo de pétalo (cm)\")\n",
    "plt.legend()\n",
    "plt.show()\n"
   ]
  },
  {
   "cell_type": "markdown",
   "metadata": {},
   "source": [
    "Ahora entrenamos el algoritmo del perceptrón en el subconjunto de datos que hemos extraido. También, vamos a dibujar el error de clasificación para cada iteración para comprobar si el algoritmo convergió y encontró un límite de decisión que separe las dos clases de flores:"
   ]
  },
  {
   "cell_type": "code",
   "execution_count": 4,
   "metadata": {},
   "outputs": [
    {
     "data": {
      "image/png": "[encoded data removed]",
      "text/plain": [
       "<matplotlib.figure.Figure at 0x7f9ff32e2780>"
      ]
     },
     "metadata": {},
     "output_type": "display_data"
    }
   ],
   "source": [
    "ppn = Perceptron() # Inicializamos el perceptrón\n",
    "ppn.fit(X, y)      # Ajustamos el modelo\n",
    "# Dibujamos el número de errores por iteración\n",
    "plt.plot(range(1, len(ppn.errors_) + 1), ppn.errors_, marker=\"o\")\n",
    "\n",
    "plt.xlabel(\"Iteraciones\")\n",
    "plt.ylabel(\"Errores de clasificación\")\n",
    "plt.show()"
   ]
  },
  {
   "cell_type": "markdown",
   "metadata": {},
   "source": [
    "El perceptrón converge a partir de la 6ª iteración y a partir de ahí es capaz de clasificar las muestras perfectamente. \n",
    "\n",
    "_________________________________________\n",
    "\n",
    "En el siguiente gif podemos observar como se produce el entrenamiento de un perceptrón. El punto que se va moviendo de lugar representa los pesos:\n",
    "\n",
    "![perceptron entrenando](images/perceptron_training.gif)\n",
    "\n",
    "[Desde aquí](http://www.emergentmind.com/the-perceptron) puedes observar otra interesante simulación animada.\n",
    "\n",
    "____________________________________________________________________________\n",
    "\n",
    "Vamos a implementar una pequeña función para visualizar los límites de decisión para conjuntos de datos de 2 dimensiones:"
   ]
  },
  {
   "cell_type": "code",
   "execution_count": 30,
   "metadata": {},
   "outputs": [
    {
     "data": {
      "image/png": "[encoded data removed]",
      "text/plain": [
       "<matplotlib.figure.Figure at 0x7f9ff0a45978>"
      ]
     },
     "metadata": {},
     "output_type": "display_data"
    }
   ],
   "source": [
    "from matplotlib.colors import ListedColormap\n",
    "\n",
    "def plot_decision_regions(X, y, classifier, resolution=0.02):\n",
    "    # Establecemos el generador de marcas y el mapa de colores\n",
    "    marcadores = (\"o\", \"x\", \"s\", \"^\", \"v\")\n",
    "    colores = (\"red\", \"blue\", \"lightgreen\", \"gray\", \"cyan\")\n",
    "    \n",
    "    # De la lista de colores\n",
    "    #print(colores[0:len(np.unique(y))])  # (\"red\", \"blue\")\n",
    "    cmap = ListedColormap(colores[0:len(np.unique(y))])\n",
    "    \n",
    "    # Dibujamos la superficie de decisión:\n",
    "    # X[:, 0] # De todas las filas (:), de la columna de sépalos (0), el mínimo (min())\n",
    "    x1_min, x1_max = X[:, 0].min() - 1, X[:, 0].max() + 1\n",
    "    x2_min, x2_max = X[:, 1].min() - 1, X[:, 1].max() + 1\n",
    "    \n",
    "    # Malla de grilla de mínimos y máximos de las columnas de X, dada una resolución\n",
    "    # (Descomentar la siguiente línea para saber como función la función np.meshgrid())\n",
    "    #print( np.meshgrid(np.arange(1, 2, 0.2), np.arange(1, 2, 0.1)) )\n",
    "    xx1, xx2 = np.meshgrid(np.arange(x1_min, x1_max, resolution), \n",
    "                           np.arange(x2_min, x2_max, resolution))\n",
    "\n",
    "    Z = classifier.predict(np.array([xx1.ravel(), xx2.ravel()]).T)\n",
    "    Z = Z.reshape(xx1.shape)\n",
    "    \n",
    "    # Figura\n",
    "    fig, ax = plt.subplots(figsize=(10, 6))\n",
    "    \n",
    "    # Dibujamos el contorno relleno con las grillas\n",
    "    ax.contourf(xx1, xx2, Z, alpha=.4, cmap=cmap) # Alpha es la opacidad\n",
    "    plt.xlim(xx1.min(), xx1.max())\n",
    "    plt.ylim(xx2.min(), xx2.max())\n",
    "    \n",
    "    # Dibujamos las muestras\n",
    "    for idx, cls in enumerate(np.unique(y)):\n",
    "        ax.scatter(x=X[y == cls, 0], y=X[y == cls, 1],\n",
    "                   alpha=.8, c=cmap(idx),\n",
    "                   marker=marcadores[idx], label=cls, s=20)\n",
    "    \n",
    "    \n",
    "plot_decision_regions(X, y, ppn)\n",
    "\n",
    "plt.xlabel(\"Largo de sépalo (cm)\")\n",
    "plt.ylabel(\"Largo de pétalo (cm)\")\n",
    "plt.legend()\n",
    "plt.show()\n"
   ]
  },
  {
   "cell_type": "markdown",
   "metadata": {},
   "source": [
    ">La función `np.unique()` devuelve los valores únicos dentro de un array numpy. La función [`ravel()`](https://docs.scipy.org/doc/numpy-1.13.0/reference/generated/numpy.ravel.html) devuelve un [array aplanado](https://github.com/mondeja/fullstack/tree/master/backend/src/algoritmos/arrays/aplanar_array). El [atributo `T`](https://docs.scipy.org/doc/numpy-1.13.0/reference/generated/numpy.ndarray.T.html) devuelve la transposición de la matriz siempre y cuando su dimension sea 2 o mayor, si no no hace nada (esa es su diferencia con la función `transpose()`. La función [`reshape()`](https://docs.scipy.org/doc/numpy-1.13.0/reference/generated/numpy.reshape.html) cambia la forma de la matriz indicándole una nueva forma sin cambiar los datos.\n",
    "\n",
    "> Las funciones [`contour()` y `contourf()`](https://matplotlib.org/api/_as_gen/matplotlib.axes.Axes.contourf.html) de matplotlib dibujan contornos y contornos rellenos, respectivamente. "
   ]
  },
  {
   "cell_type": "markdown",
   "metadata": {},
   "source": [
    "### Limitaciones del perceptrón\n",
    "La regla de aprendizaje del perceptrón sólo es capaz de converger si las clases pueden ser separadas por una línea, si no, los pesos nunca dejan de actualizarse a no se que establezcamos un límite máximo de iteraciones.\n",
    "\n",
    "En 1969, [Marvin Minsky](https://es.wikipedia.org/wiki/Marvin_Minsky) y [Seymour Paper](https://es.wikipedia.org/wiki/Seymour_Papert) publicaron el libro [Perceptrones](https://en.wikipedia.org/wiki/Perceptrons_(book)), en el cual demostraron que un perceptrón no puede resolver una simple operación XOR ([disyunción exclusiva](https://es.wikipedia.org/wiki/Disyunci%C3%B3n_exclusiva)). La disyunción exclusiva en Python puede representarse de la forma:"
   ]
  },
  {
   "cell_type": "code",
   "execution_count": 34,
   "metadata": {},
   "outputs": [
    {
     "name": "stdout",
     "output_type": "stream",
     "text": [
      "False True True False\n",
      "False True True False\n",
      "False True False\n"
     ]
    }
   ],
   "source": [
    "A, B = True, False\n",
    "\n",
    "print(A ^ A, A ^ B, B ^ A, B ^ B)\n",
    "\n",
    "# También así:\n",
    "print(A != A,  A != B,  B != A,  B != B)\n",
    "\n",
    "# O más verbosamente\n",
    "print(\n",
    "    (A and not A),\n",
    "    (A and not B) or (B and not A), # Y viceversa (es lo mismo)\n",
    "    (B and not B)\n",
    ")"
   ]
  },
  {
   "cell_type": "markdown",
   "metadata": {},
   "source": [
    "Sólo es verdadera cuando los valores son diferentes. Podemos generar una tabla de verdad tal que:\n",
    "\n",
    "|  *XOR*  | True     |   False   |\n",
    "|---------|----------|-----------|\n",
    "|**True** | False    | True      |\n",
    "|**False**| True     | False     |\n",
    "\n",
    "El perceptrón no sería capaz de separar los pesos, ya que sus respuestas se basan en el salto de un umbral. Para solucionarlo se usa una red de neuronas a la cual se denomina [perceptrón multicapa]():\n",
    "\n",
    "![Perceptron multicapa](https://s20.postimg.org/p66hy57pp/perceptron_multicapa.png)"
   ]
  },
  {
   "cell_type": "markdown",
   "metadata": {},
   "source": [
    ">Fuentes:\n",
    "- [Python Machine Learning - Sebastian Raschka](https://mega.nz/#!U7pG3YAD!SqBHrAWdavkiFEwNz2yv8pE9N0Q6kQ_jNj3fxCa8H3g.zip)\n",
    "- [Mutlilayer perceptron (Part 1) - The nature of code](https://www.youtube.com/watch?v=u5GAVdLQyIg)"
   ]
  }
 ],
 "metadata": {
  "kernelspec": {
   "display_name": "Python 3",
   "language": "python",
   "name": "python3"
  },
  "language_info": {
   "codemirror_mode": {
    "name": "ipython",
    "version": 3
   },
   "file_extension": ".py",
   "mimetype": "text/x-python",
   "name": "python",
   "nbconvert_exporter": "python",
   "pygments_lexer": "ipython3",
   "version": "3.5.3"
  }
 },
 "nbformat": 4,
 "nbformat_minor": 2
}
