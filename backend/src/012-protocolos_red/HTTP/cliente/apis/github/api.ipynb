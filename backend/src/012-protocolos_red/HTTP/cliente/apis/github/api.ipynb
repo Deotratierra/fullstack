{
 "cells": [
  {
   "cell_type": "markdown",
   "metadata": {},
   "source": [
    "# <center> Un paseo por la API de Github</center>"
   ]
  },
  {
   "cell_type": "markdown",
   "metadata": {},
   "source": [
    "#### [Referencia](https://developer.github.com/v3/)\n",
    "\n",
    "La API de Github es extredamente rica, como no podría ser de otra manera. Es imposible cubrir aquí todos los endpoints, pero podemos experimentar un poco con ella para familiarizarnos, así cuando tengamos que usarla en un proyecto real sea muy fácil ir al grano."
   ]
  },
  {
   "cell_type": "code",
   "execution_count": 1,
   "metadata": {},
   "outputs": [],
   "source": [
    "from IPython import display\n",
    "from pprint import pprint\n",
    "from requests import get\n",
    "from json import JSONDecodeError"
   ]
  },
  {
   "cell_type": "code",
   "execution_count": 2,
   "metadata": {},
   "outputs": [
    {
     "name": "stdout",
     "output_type": "stream",
     "text": [
      "Conexión realizada correctamente.\n",
      "Respuesta del servidor: 'Responsive is better than fast.'\n"
     ]
    }
   ],
   "source": [
    "# Probar si nos conectamos\n",
    "try:\n",
    "    res = get(\"https://api.github.com/zen\")\n",
    "    assert res.status_code == 200\n",
    "except AssertionError:\n",
    "    print(\"Error de conexión a la API.\")\n",
    "else:\n",
    "    print(\"Conexión realizada correctamente.\")\n",
    "finally:\n",
    "    print(\"Respuesta del servidor: %r\" % res.text)"
   ]
  },
  {
   "cell_type": "markdown",
   "metadata": {},
   "source": [
    "__________________________________\n",
    "\n",
    "## Perfil de usuario"
   ]
  },
  {
   "cell_type": "code",
   "execution_count": 3,
   "metadata": {},
   "outputs": [
    {
     "data": {
      "text/plain": [
       "{'avatar_url': 'https://avatars1.githubusercontent.com/u/23049315?v=4',\n",
       " 'bio': None,\n",
       " 'blog': '',\n",
       " 'company': None,\n",
       " 'created_at': '2016-10-25T07:58:39Z',\n",
       " 'email': None,\n",
       " 'events_url': 'https://api.github.com/users/mondeja/events{/privacy}',\n",
       " 'followers': 9,\n",
       " 'followers_url': 'https://api.github.com/users/mondeja/followers',\n",
       " 'following': 11,\n",
       " 'following_url': 'https://api.github.com/users/mondeja/following{/other_user}',\n",
       " 'gists_url': 'https://api.github.com/users/mondeja/gists{/gist_id}',\n",
       " 'gravatar_id': '',\n",
       " 'hireable': True,\n",
       " 'html_url': 'https://github.com/mondeja',\n",
       " 'id': 23049315,\n",
       " 'location': None,\n",
       " 'login': 'mondeja',\n",
       " 'name': 'mondeja',\n",
       " 'organizations_url': 'https://api.github.com/users/mondeja/orgs',\n",
       " 'public_gists': 5,\n",
       " 'public_repos': 14,\n",
       " 'received_events_url': 'https://api.github.com/users/mondeja/received_events',\n",
       " 'repos_url': 'https://api.github.com/users/mondeja/repos',\n",
       " 'site_admin': False,\n",
       " 'starred_url': 'https://api.github.com/users/mondeja/starred{/owner}{/repo}',\n",
       " 'subscriptions_url': 'https://api.github.com/users/mondeja/subscriptions',\n",
       " 'type': 'User',\n",
       " 'updated_at': '2017-12-27T10:27:27Z',\n",
       " 'url': 'https://api.github.com/users/mondeja'}"
      ]
     },
     "execution_count": 3,
     "metadata": {},
     "output_type": "execute_result"
    }
   ],
   "source": [
    "# Obtener perfil de Github\n",
    "USUARIO = \"mondeja\"\n",
    "\n",
    "perfil = get(\"https://api.github.com/users/%s\" % USUARIO).json()\n",
    "\n",
    "perfil"
   ]
  },
  {
   "cell_type": "markdown",
   "metadata": {},
   "source": [
    "A partir del perfil podemos acceder a los recursos del usuario. Muchos de ellos incluyen urls de la API para acceder a otros endpoints:\n",
    "\n",
    "### Seguidores"
   ]
  },
  {
   "cell_type": "code",
   "execution_count": 4,
   "metadata": {},
   "outputs": [
    {
     "data": {
      "text/plain": [
       "{'avatar_url': 'https://avatars1.githubusercontent.com/u/26090768?v=4',\n",
       " 'events_url': 'https://api.github.com/users/bitmote/events{/privacy}',\n",
       " 'followers_url': 'https://api.github.com/users/bitmote/followers',\n",
       " 'following_url': 'https://api.github.com/users/bitmote/following{/other_user}',\n",
       " 'gists_url': 'https://api.github.com/users/bitmote/gists{/gist_id}',\n",
       " 'gravatar_id': '',\n",
       " 'html_url': 'https://github.com/bitmote',\n",
       " 'id': 26090768,\n",
       " 'login': 'bitmote',\n",
       " 'organizations_url': 'https://api.github.com/users/bitmote/orgs',\n",
       " 'received_events_url': 'https://api.github.com/users/bitmote/received_events',\n",
       " 'repos_url': 'https://api.github.com/users/bitmote/repos',\n",
       " 'site_admin': False,\n",
       " 'starred_url': 'https://api.github.com/users/bitmote/starred{/owner}{/repo}',\n",
       " 'subscriptions_url': 'https://api.github.com/users/bitmote/subscriptions',\n",
       " 'type': 'User',\n",
       " 'url': 'https://api.github.com/users/bitmote'}"
      ]
     },
     "execution_count": 4,
     "metadata": {},
     "output_type": "execute_result"
    }
   ],
   "source": [
    "# Obtener los seguidores\n",
    "seguidores = get(perfil[\"followers_url\"]).json()\n",
    "\n",
    "seguidores[-1]"
   ]
  },
  {
   "cell_type": "markdown",
   "metadata": {},
   "source": [
    "### Gists\n",
    "Gracias a los gists podemos guardar código de forma rápida y ejecutarlo desde cualquier lugar."
   ]
  },
  {
   "cell_type": "code",
   "execution_count": 5,
   "metadata": {},
   "outputs": [
    {
     "data": {
      "text/plain": [
       "{'comments': 0,\n",
       " 'comments_url': 'https://api.github.com/gists/2df93881bff3e800b9282393ea1dbeb7/comments',\n",
       " 'commits_url': 'https://api.github.com/gists/2df93881bff3e800b9282393ea1dbeb7/commits',\n",
       " 'created_at': '2017-04-22T17:21:05Z',\n",
       " 'description': 'Install full ffmpeg in debian wheezy (with aac(m4a) and x264 support)',\n",
       " 'files': {'full-ffmpeg.sh': {'filename': 'full-ffmpeg.sh',\n",
       "   'language': 'Shell',\n",
       "   'raw_url': 'https://gist.githubusercontent.com/mondeja/2df93881bff3e800b9282393ea1dbeb7/raw/78521789438ffef714f32e3d2a76aeb4df4dca92/full-ffmpeg.sh',\n",
       "   'size': 2296,\n",
       "   'type': 'application/x-sh'}},\n",
       " 'forks_url': 'https://api.github.com/gists/2df93881bff3e800b9282393ea1dbeb7/forks',\n",
       " 'git_pull_url': 'https://gist.github.com/2df93881bff3e800b9282393ea1dbeb7.git',\n",
       " 'git_push_url': 'https://gist.github.com/2df93881bff3e800b9282393ea1dbeb7.git',\n",
       " 'html_url': 'https://gist.github.com/2df93881bff3e800b9282393ea1dbeb7',\n",
       " 'id': '2df93881bff3e800b9282393ea1dbeb7',\n",
       " 'owner': {'avatar_url': 'https://avatars1.githubusercontent.com/u/23049315?v=4',\n",
       "  'events_url': 'https://api.github.com/users/mondeja/events{/privacy}',\n",
       "  'followers_url': 'https://api.github.com/users/mondeja/followers',\n",
       "  'following_url': 'https://api.github.com/users/mondeja/following{/other_user}',\n",
       "  'gists_url': 'https://api.github.com/users/mondeja/gists{/gist_id}',\n",
       "  'gravatar_id': '',\n",
       "  'html_url': 'https://github.com/mondeja',\n",
       "  'id': 23049315,\n",
       "  'login': 'mondeja',\n",
       "  'organizations_url': 'https://api.github.com/users/mondeja/orgs',\n",
       "  'received_events_url': 'https://api.github.com/users/mondeja/received_events',\n",
       "  'repos_url': 'https://api.github.com/users/mondeja/repos',\n",
       "  'site_admin': False,\n",
       "  'starred_url': 'https://api.github.com/users/mondeja/starred{/owner}{/repo}',\n",
       "  'subscriptions_url': 'https://api.github.com/users/mondeja/subscriptions',\n",
       "  'type': 'User',\n",
       "  'url': 'https://api.github.com/users/mondeja'},\n",
       " 'public': True,\n",
       " 'truncated': False,\n",
       " 'updated_at': '2017-04-22T17:21:05Z',\n",
       " 'url': 'https://api.github.com/gists/2df93881bff3e800b9282393ea1dbeb7',\n",
       " 'user': None}"
      ]
     },
     "execution_count": 5,
     "metadata": {},
     "output_type": "execute_result"
    }
   ],
   "source": [
    "# Obtener los gists\n",
    "gists_url = perfil[\"gists_url\"].split(\"{\")[0]\n",
    "gists = get(gists_url).json()\n",
    "gists[-1]"
   ]
  },
  {
   "cell_type": "code",
   "execution_count": 9,
   "metadata": {},
   "outputs": [
    {
     "name": "stdout",
     "output_type": "stream",
     "text": [
      "___________________________________________\n",
      "\n",
      "\tfull-ffmpeg.sh\n",
      "------------------------------\n",
      "\n",
      "# Add multimedia source\n",
      "echo \"deb http://www.deb-multimedia.org wheezy main non-free\" >> /etc/apt/sources.list\n",
      "echo \"deb-src http://www.deb-multimedia.org wheezy main non-free\" >> /etc/apt/sources.list\n",
      "apt-get update\n",
      "apt-get install deb-multimedia-keyring # if this aborts, try again\n",
      "apt-get update\n",
      "\n",
      "# Go to local source directory\n",
      "cd /usr/local/src\n",
      "\n",
      "# Become root\n",
      "su -\n",
      "\n",
      "# Install all dependencies we'll need\n",
      "aptitude install \\\n",
      "  -y                  \\\n",
      "  libfaad-dev         \\\n",
      "  faad                \\\n",
      "  faac                \\\n",
      "  libfaac0            \\\n",
      "  libfaac-dev         \\\n",
      "  libmp3lame-dev      \\\n",
      "  x264                \\\n",
      "  libx264-dev         \\\n",
      "  libxvidcore-dev     \\\n",
      "  build-essential     \\\n",
      "  checkinstall\n",
      "\n",
      "# Install all build dependencies for ffmpeg\n",
      "apt-get build-dep ffmpeg\n",
      "\n",
      "# Get the actual ffmpeg source code\n",
      "apt-get source ffmpeg\n",
      "\n",
      "# Go into the ffmpeg source directory\n",
      "cd ffmpeg-*\n",
      "\n",
      "# Configure it\n",
      "./configure \\\n",
      "--enable-gpl \\\n",
      "--enable-nonfree \\\n",
      "--enable-libfaac \\\n",
      "--enable-libgsm \\\n",
      "--enable-libmp3lame \\\n",
      "--enable-libtheora \\\n",
      "--enable-libvorbis \\\n",
      "--enable-libx264 \\\n",
      "--enable-libxvid \\\n",
      "--enable-zlib \\\n",
      "--enable-postproc \\\n",
      "--enable-swscale \\\n",
      "--enable-pthreads \\\n",
      "--enable-x11grab \\\n",
      "--enable-libdc1394 \\\n",
      "--enable-version3 \\\n",
      "--enable-libopencore-amrnb \\\n",
      "--enable-libopencore-amrwb\n",
      "\n",
      "# a fix\n",
      "mkdir -p /usr/local/share/ffmpeg \n",
      "\n",
      "# Generate the debian package (*.deb)\n",
      "checkinstall -D --install=no --pkgname=ffmpeg-full --autodoinst=yes -y\n",
      "\n",
      "# if after this step you'll probably will get an error\n",
      "# libavcodec/libx264.c:492: undefined reference to `x264_encoder_open_125'\n",
      "# here's a solution:\n",
      "cd ..\n",
      "apt-get remove x264\n",
      "git clone git://git.videolan.org/x264.git\n",
      "cd x264\n",
      "./configure --enable-static --enable-shared\n",
      "make && make install\n",
      "ldconfig\n",
      "cd .. && cd ffmpeg*\n",
      "LD_LIBRARY_PATH=$LD_LIBRARY_PATH:/usr/src/x264/libx264.a ./configure --enable-gpl --enable-nonfree --enable-libfaac --enable-libgsm --enable-libmp3lame --enable-libtheora --enable-libvorbis --enable-libx264 --enable-libxvid --enable-zlib --enable-postproc --enable-swscale --enable-pthreads --enable-x11grab --enable-libdc1394 --enable-version3 --enable-libopencore-amrnb --enable-libopencore-amrwb\n",
      "make clean\n",
      "checkinstall -D --install=no --pkgname=ffmpeg-full --autodoinst=yes -y\n",
      "\n",
      "# install the package :)\n",
      "dpkg -i ffmpeg-full_*-1_amd64.deb\n",
      "\n",
      "___________________________________________\n",
      "\n"
     ]
    }
   ],
   "source": [
    "# Obtener el código de un gist\n",
    "for filename, data in gists[-1][\"files\"].items():\n",
    "    code = get(data[\"raw_url\"]).text\n",
    "    \n",
    "    print(\"___________________________________________\\n\")\n",
    "    print(\"\\t%s\\n------------------------------\\n\" % filename)\n",
    "    print(code)\n",
    "    print(\"___________________________________________\\n\")\n",
    "    \n",
    "    # Ejecutar el código de un gist\n",
    "    #exec(\"python3 %s\" % code)\n",
    "\n"
   ]
  },
  {
   "cell_type": "markdown",
   "metadata": {},
   "source": [
    "## Autentificación\n",
    "Para autentificarnos con el token personal debemos crear una sesión en requests y enviarlo en la cabecera de la petición de la sesión.\n",
    "\n",
    "Dependiendo de los permisos que demos a nuestros tokens podemos "
   ]
  },
  {
   "cell_type": "code",
   "execution_count": 10,
   "metadata": {},
   "outputs": [
    {
     "name": "stdout",
     "output_type": "stream",
     "text": [
      "{'documentation_url': 'https://developer.github.com/v3',\n",
      " 'message': 'Bad credentials'}\n"
     ]
    }
   ],
   "source": [
    "from requests import Session\n",
    "s = Session()\n",
    "\n",
    "TOKEN = \"<TU_TOKEN_PERSONAL>\"\n",
    "s.headers['Authorization'] = 'token %s' % TOKEN\n",
    "\n",
    "logged = s.get(\"https://api.github.com\")\n",
    "pprint(logged.json())"
   ]
  },
  {
   "cell_type": "markdown",
   "metadata": {},
   "source": [
    "## Wrappers\n",
    "Existen envolturas para interactuar con la API de Github. La más interesante es [github3](https://github.com/sigmavirus24/github3.py), la cual se instala mediante `pip3 install github3.py`."
   ]
  }
 ],
 "metadata": {
  "kernelspec": {
   "display_name": "Python 3",
   "language": "python",
   "name": "python3"
  },
  "language_info": {
   "codemirror_mode": {
    "name": "ipython",
    "version": 3
   },
   "file_extension": ".py",
   "mimetype": "text/x-python",
   "name": "python",
   "nbconvert_exporter": "python",
   "pygments_lexer": "ipython3",
   "version": "3.5.3"
  }
 },
 "nbformat": 4,
 "nbformat_minor": 2
}
