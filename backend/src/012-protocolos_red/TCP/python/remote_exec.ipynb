{
 "cells": [
  {
   "cell_type": "markdown",
   "metadata": {},
   "source": [
    "# <center>Ejecutar código en notebooks a través de sockets</center>"
   ]
  },
  {
   "cell_type": "markdown",
   "metadata": {},
   "source": [
    "En este ejemplo abrimos un canal de socket desde este notebook. Está configurado para ejecutar el código que reciba, a no ser que sean las palabras \"off\" o \"hola\" (y variantes), que sirven para apagar el socket servidor y lanzar el primer mensaje al canal. "
   ]
  },
  {
   "cell_type": "code",
   "execution_count": 1,
   "metadata": {},
   "outputs": [
    {
     "name": "stdout",
     "output_type": "stream",
     "text": [
      "Esperando a recibir clientes...\n",
      "Esperando a recibir mensajes del cliente...\n",
      "> Recibido: b'hola'\n",
      "< Enviando (127.0.0.1:41696): b'hola'\n",
      "Esperando a recibir mensajes del cliente...\n",
      "> Recibido: b'print(9999)'\n",
      "< Enviando (127.0.0.1:41696): b'print(9999)'\n",
      "9999\n",
      "print(9999)\n",
      "Esperando a recibir mensajes del cliente...\n",
      "> Recibido: b'off'\n",
      "< Enviando (127.0.0.1:41696): b'off'\n",
      "Apagando el servidor...\n"
     ]
    }
   ],
   "source": [
    "PORT = 8765\n",
    "\n",
    "from server import echo_server\n",
    "echo_server(PORT)"
   ]
  },
  {
   "cell_type": "markdown",
   "metadata": {},
   "source": [
    "Para ejecutar el cliente, dentro de esta misma carpeta desde una consola podemos ejecutar: \n",
    "\n",
    "<center>`python3 client.py --port 8765 --message \"print(9999)\"`</center>"
   ]
  }
 ],
 "metadata": {
  "kernelspec": {
   "display_name": "Python 3",
   "language": "python",
   "name": "python3"
  },
  "language_info": {
   "codemirror_mode": {
    "name": "ipython",
    "version": 3
   },
   "file_extension": ".py",
   "mimetype": "text/x-python",
   "name": "python",
   "nbconvert_exporter": "python",
   "pygments_lexer": "ipython3",
   "version": "3.7.0a4"
  }
 },
 "nbformat": 4,
 "nbformat_minor": 2
}
