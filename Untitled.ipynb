{
 "cells": [
  {
   "cell_type": "code",
   "execution_count": 3,
   "metadata": {},
   "outputs": [
    {
     "name": "stdout",
     "output_type": "stream",
     "text": [
      "{'jumped': 3, 'dog': 1, 'over': 5, 'fox': 2, 'the': 7, 'brown': 0, 'lazy': 4, 'quick': 6}\n",
      "(1, 8)\n",
      "<class 'scipy.sparse.csr.csr_matrix'>\n",
      "[[1 1 1 1 1 1 1 2]]\n"
     ]
    }
   ],
   "source": [
    "from sklearn.feature_extraction.text import CountVectorizer\n",
    "# lista de documentos de texto\n",
    "text = [\"The quick brown fox jumped over the lazy dog.\"]\n",
    "# crear la transformación\n",
    "vectorizer = CountVectorizer()\n",
    "# tokenizar y construir el vocabulario\n",
    "vectorizer.fit(text)\n",
    "# resumen\n",
    "print(vectorizer.vocabulary_)\n",
    "# codificador de documentos\n",
    "vector = vectorizer.transform(text)\n",
    "# resumir vector codificado\n",
    "print(vector.shape)\n",
    "print(type(vector))\n",
    "print(vector.toarray())\n",
    "\n"
   ]
  },
  {
   "cell_type": "code",
   "execution_count": null,
   "metadata": {},
   "outputs": [],
   "source": []
  }
 ],
 "metadata": {
  "kernelspec": {
   "display_name": "Python 3",
   "language": "python",
   "name": "python3"
  },
  "language_info": {
   "codemirror_mode": {
    "name": "ipython",
    "version": 3
   },
   "file_extension": ".py",
   "mimetype": "text/x-python",
   "name": "python",
   "nbconvert_exporter": "python",
   "pygments_lexer": "ipython3",
   "version": "3.5.3"
  }
 },
 "nbformat": 4,
 "nbformat_minor": 2
}
